{
 "cells": [
  {
   "cell_type": "markdown",
   "metadata": {},
   "source": [
    "# my binary search"
   ]
  },
  {
   "cell_type": "code",
   "execution_count": null,
   "metadata": {},
   "outputs": [],
   "source": [
    "# 정렬된 배열에서 index 이상이 모두 찾는 값 이상인값, 동일값 찾고 싶으면 리턴 +1 만약 틀리면 없는것\n",
    "def binary_search_range(array, start, end, num) :\n",
    "    if start >= end :\n",
    "        return start\n",
    "    mid = (start+end)//2\n",
    "    if array[mid] >= num : # 등호 여부에 따라 이상 이하 왼족 오른쪽이 바뀜, 등호 있을 시 이상 왼쪽\n",
    "        end = mid\n",
    "    else :\n",
    "        start = mid+1\n",
    "    return binary_search_range(array, start, end, num)\n",
    "\n",
    "# 평범한 binary search\n",
    "def binary_search(array, start, end, num) :\n",
    "    mid = (start+end)//2\n",
    "    if start > end :\n",
    "        return -1\n",
    "    if array[mid] > num :\n",
    "        end = mid - 1\n",
    "    elif array[mid] < num :\n",
    "        start = mid+1\n",
    "    else :\n",
    "        return mid\n",
    "    ret = binary_search(array, start, end, num)\n",
    "    return ret"
   ]
  }
 ],
 "metadata": {
  "kernelspec": {
   "display_name": "Python 3",
   "language": "python",
   "name": "python3"
  },
  "language_info": {
   "codemirror_mode": {
    "name": "ipython",
    "version": 3
   },
   "file_extension": ".py",
   "mimetype": "text/x-python",
   "name": "python",
   "nbconvert_exporter": "python",
   "pygments_lexer": "ipython3",
   "version": "3.8.3"
  }
 },
 "nbformat": 4,
 "nbformat_minor": 4
}
