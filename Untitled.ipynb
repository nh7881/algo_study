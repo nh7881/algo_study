{
 "cells": [
  {
   "cell_type": "markdown",
   "metadata": {},
   "source": [
    "## 프로그래밍 대회에서 배우는 알고리즘 문제해결전략 1\n",
    "## algospot"
   ]
  },
  {
   "cell_type": "markdown",
   "metadata": {},
   "source": [
    "### 1강 Festival"
   ]
  },
  {
   "cell_type": "code",
   "execution_count": 25,
   "metadata": {},
   "outputs": [
    {
     "name": "stdout",
     "output_type": "stream",
     "text": [
      "1\n",
      "1 2\n",
      "1\n",
      "1000\n"
     ]
    }
   ],
   "source": [
    "'''\n",
    "def input_hendler(minimum, maximum, value) :\n",
    "    if(minimum <= value and value < maximum) :\n",
    "        print(\"input error : {}\".format(value))\n",
    "        return False\n",
    "    return True\n",
    "'''\n",
    "# 입력 받는 함수\n",
    "def Input(c,n,l,n_cost) :\n",
    "    # case number 입력\n",
    "    c = int(input())\n",
    "    for num in range(0,c) :\n",
    "        # n & l 입력\n",
    "        n_l = input()\n",
    "        # n분리\n",
    "        n.append(int(n_l.split(\" \")[0]))\n",
    "        #l분리\n",
    "        l.append(int(n_l.split(\" \")[1])) \n",
    "        # day_n_cost 입력\n",
    "        days_n_cost = input()\n",
    "        #여백 제거\n",
    "        days_n_cost = days_n_cost.split(\" \")\n",
    "        n_cost.append(list())\n",
    "        #n_cost에 day_n_cost int로 바꿔서 저장\n",
    "        for day_cost in days_n_cost :\n",
    "            n_cost[num].append(int(day_cost))\n",
    "    return c\n",
    "\n",
    "# 평균 값 구하고 min_avg 갱신\n",
    "def get_min_avg(total, num, min_avg) :\n",
    "    avg = total / num\n",
    "    return min(min_avg, avg) \n",
    "\n",
    "# \n",
    "def cal(c,n,l,n_cost) :\n",
    "    #test case만큼 반복\n",
    "    for num in range(0,c) :\n",
    "        min_avg = 1000\n",
    "        total = 0\n",
    "        #평균 구하기 반복\n",
    "        for n_num in range(0, n[num] - l[num] + 1) :\n",
    "            #합 구하기\n",
    "            for loop_num in range(0,l[num]) :\n",
    "                total += n_cost[num][n_num + loop_num]\n",
    "            #합으로 평균 구하기\n",
    "            min_avg = get_min_avg(total, num, min_avg)\n",
    "            #한 개씩 추가하면서 평균구하기 \n",
    "            for i in range(n_num + l[num], n[num]) :\n",
    "                total += n_cost[num][i]\n",
    "                min_avg = get_min_avg(total, i - n_num + 1, avg)\n",
    "            total = 0\n",
    "        print(min_avg)\n",
    "\n",
    "def main() :\n",
    "    c = 0\n",
    "    n = list()\n",
    "    l = list()\n",
    "    n_cost = list()\n",
    "    c = Input(c,n,l,n_cost)\n",
    "    cal(c,n,l,n_cost)\n",
    "    \n",
    "    \n",
    "if __name__ == \"__main__\":\n",
    "    main()\n",
    "    \n",
    "'''\n",
    "합의 평균을 barnch & bound로 구한다\n",
    "시간은 O(n^2)\n",
    "제한시간이 길어서 풀었지만 제한시간이 짧았다면 글쎄........\n",
    "다른 정답 봤는데 나랑 코드 비슷하던데 왜 시간차이가....?\n",
    "'''"
   ]
  },
  {
   "cell_type": "markdown",
   "metadata": {},
   "source": [
    "### 문제 순서는 난이도 순이 아닙니다"
   ]
  },
  {
   "cell_type": "code",
   "execution_count": 8,
   "metadata": {},
   "outputs": [
    {
     "name": "stdout",
     "output_type": "stream",
     "text": [
      "2\n",
      "5\n",
      "1 2 3 4 5\n",
      "4\n",
      "1 4 3 2\n",
      "5\n",
      "2\n"
     ]
    }
   ],
   "source": [
    "#입력 받기\n",
    "def prb_hard_input(problem_num, hards, case) :\n",
    "    problem_num.append(int(input()))\n",
    "    hards.append(input())\n",
    "    hards[case] = hards[case].split(\" \")\n",
    "\n",
    "# 난이도 순서로 정렬 되어있는지 확인하고 수 세기\n",
    "def check_hard_sorting_add(hard_sort, hards, index, case) :\n",
    "    if(int(hards[case][index]) == (index + 1)) :\n",
    "                return hard_sort + 1\n",
    "    return hard_sort\n",
    "\n",
    "def main() :\n",
    "    case_num = int(input())\n",
    "    problem_num = list()\n",
    "    hards = list()\n",
    "    hard_sort = 0\n",
    "    for case in range(0, case_num) :\n",
    "        prb_hard_input(problem_num, hards, case)\n",
    "        \n",
    "    for case in range(0, case_num) :\n",
    "        for index in range(0, problem_num[case]) :\n",
    "            hard_sort = check_hard_sorting_add(hard_sort, hards, index, case)\n",
    "        print(hard_sort)\n",
    "        hard_sort = 0\n",
    "    \n",
    "'''\n",
    "2차원 해야하는데 1차원으로하고 1차원은 0차원으로 해서 삽질했었음\n",
    "'''\n",
    "    \n",
    "if __name__ == \"__main__\" :\n",
    "    main()\n"
   ]
  },
  {
   "cell_type": "markdown",
   "metadata": {},
   "source": [
    "### 6강 PICNICK"
   ]
  },
  {
   "cell_type": "code",
   "execution_count": 33,
   "metadata": {},
   "outputs": [
    {
     "name": "stdout",
     "output_type": "stream",
     "text": [
      "3\n",
      "2 1\n",
      "0 1\n",
      "4 6\n",
      "0 1 1 2 2 3 3 0 0 2 1 3 \n",
      "6 10\n",
      "0 1 0 2 1 2 1 3 1 4 2 3 2 4 3 4 3 5 4 5\n",
      "1\n",
      "3\n",
      "4\n"
     ]
    }
   ],
   "source": [
    "# 행렬 초기화\n",
    "def friend_mat_init(friend_mat, student_num) :\n",
    "    for n in range(0, student_num) :\n",
    "        friend_mat.append(list())\n",
    "        for m in range(0, n) :\n",
    "            friend_mat[n].append(0)\n",
    "\n",
    "# 짝 지어주기\n",
    "import copy\n",
    "def search_cup(friend_mat, index_set) :\n",
    "    result = 0\n",
    "    # 학생들을 모두 짝지었다면 1추가\n",
    "    if(len(index_set) == 0) :\n",
    "        return 1\n",
    "    col = index_set[0]\n",
    "    #남은 학생들 짝 지어주기\n",
    "    for row in index_set :\n",
    "        # 배열 크기 벗어나지 않게 예외 처리\n",
    "        if(len(friend_mat[row]) > col) :\n",
    "            # 짝 지어줄 수 있다면\n",
    "            if(friend_mat[row][col] == 1) :\n",
    "                my_index_set = copy.deepcopy(index_set)\n",
    "                # 짝 지어준 학생 삭제\n",
    "                my_index_set.remove(row)\n",
    "                my_index_set.remove(col)\n",
    "                # 결과 추가\n",
    "                result += search_cup(friend_mat, my_index_set)\n",
    "    return result\n",
    "\n",
    "def test():\n",
    "    case_num = int(input())\n",
    "    student_num = list()\n",
    "    friend_num = list()\n",
    "    friendship = list()\n",
    "    for case in range(0, case_num) :\n",
    "        st_fr = input()\n",
    "        st_fr = st_fr.split(\" \")\n",
    "        student_num.append(int(st_fr[0]))\n",
    "        friend_num.append(int(st_fr[1]))\n",
    "        friendship_set = input()\n",
    "        friendship_set = friendship_set.split(\" \")\n",
    "        temp_ship_set = list()\n",
    "        for n in range(0, friend_num[case]) :\n",
    "            temp_ship = list()\n",
    "            temp_ship.append(int(friendship_set[2 * n]))\n",
    "            temp_ship.append(int(friendship_set[2 * n + 1]))\n",
    "            temp_ship_set.append(temp_ship)\n",
    "        friendship.append(temp_ship_set)\n",
    "        \n",
    "    \n",
    "    for case in range(0, case_num) :\n",
    "        friend_mat = list()\n",
    "        friend_mat_init(friend_mat, student_num[case])\n",
    "        index_set = list()\n",
    "        for student in range(0, student_num[case]) :\n",
    "            index_set.append(student)\n",
    "        for friend in range(0, friend_num[case]) :\n",
    "            row = max(friendship[case][friend][0],friendship[case][friend][1])\n",
    "            col = min(friendship[case][friend][0],friendship[case][friend][1])\n",
    "            friend_mat[row][col] = 1\n",
    "        result = search_cup(friend_mat, index_set)\n",
    "        print(result)\n",
    "\n",
    "if __name__ == '__main__' :\n",
    "    test()"
   ]
  },
  {
   "cell_type": "markdown",
   "metadata": {},
   "source": [
    "### 에어컨을 끈다고 전력난이 해결될까?"
   ]
  },
  {
   "cell_type": "code",
   "execution_count": 3,
   "metadata": {},
   "outputs": [
    {
     "name": "stdout",
     "output_type": "stream",
     "text": [
      "3\n",
      "90\n",
      "10 10 10 10 10 10 10 10 10\n",
      "100\n",
      "77 77 70 11 34 35 41 83 54\n",
      "50\n",
      "10 20 30 40 50 60 50 40 30\n",
      "YES\n",
      "NO\n",
      "NO\n"
     ]
    }
   ],
   "source": [
    "# input 받은거 int로 고쳐야 하는거 까먹지 말자\n",
    "\n",
    "case_num = int(input())\n",
    "goal_ele = list()\n",
    "hour_ele = list()\n",
    "\n",
    "for case in range(0, case_num) :\n",
    "    goal_ele.append(int(input()))\n",
    "    hour_ele.append(input().split(\" \"))\n",
    "    \n",
    "for case in range(0, case_num) :\n",
    "    total_ele = 0\n",
    "    for hour in range(0, len(hour_ele[case])) :\n",
    "        total_ele += int(hour_ele[case][hour])\n",
    "    if(total_ele <= goal_ele[case]) :\n",
    "        print('YES')\n",
    "    else :\n",
    "        print('NO')\n",
    "        "
   ]
  },
  {
   "cell_type": "markdown",
   "metadata": {},
   "source": [
    "### BOGGLE"
   ]
  },
  {
   "cell_type": "code",
   "execution_count": 12,
   "metadata": {},
   "outputs": [
    {
     "name": "stdout",
     "output_type": "stream",
     "text": [
      "1\n",
      "6\n",
      "GIRL\n",
      "PRETTY\n",
      "REPEAT\n",
      "KARA\n",
      "PANDORA\n",
      "GIAZAPX\n",
      "GIRL YES\n",
      "PRETTY YES\n",
      "REPEAT YES\n",
      "KARA NO\n",
      "PANDORA NO\n",
      "GIAZAPX YES\n"
     ]
    }
   ],
   "source": [
    "#재귀문 시간 초과\n",
    "MAP_SIZE = 5\n",
    "\n",
    "def search_letter(boggle_map, start_row, end_row, start_col, end_col, word, word_num, pos) :\n",
    "    \n",
    "    if(word_num == len(word)) :\n",
    "        return True\n",
    "    \n",
    "    for row in range(start_row, end_row) :\n",
    "        for col in range(start_col, end_col) :\n",
    "            cur = [row, col]\n",
    "            if(boggle_map[row][col] == word[word_num] and cur != pos) :\n",
    "                pos = [row, col]\n",
    "                scope = get_scope(pos)\n",
    "                if(search_letter(boggle_map, scope[0], scope[1], scope[2], scope[3], word, word_num + 1, pos) == True) :\n",
    "                    return True\n",
    "    return False\n",
    "\n",
    "def get_scope(pos) :\n",
    "    start_row = max(pos[0] - 1, 0)\n",
    "    end_row = min(pos[0] + 2, MAP_SIZE)\n",
    "    start_col = max(pos[1] - 1, 0)\n",
    "    end_col = min(pos[1] + 2, MAP_SIZE)\n",
    "    scope = [start_row, end_row, start_col, end_col]\n",
    "    return scope\n",
    "\n",
    "def print_res(word, success) :\n",
    "    if(success == True) :\n",
    "        print(\"{} YES\".format(word))\n",
    "    else :\n",
    "        print(\"{} NO\".format(word))\n",
    "        \n",
    "def boggle() :\n",
    "    case_num = int(input())\n",
    "    multi_boggle_map = list()\n",
    "    multi_word = list()\n",
    "    for case in range(0, case_num) :\n",
    "        temp_boggle_map = list()\n",
    "        for row in range(0, MAP_SIZE) :\n",
    "            temp_boggle_map.append(input())\n",
    "        multi_boggle_map.append(temp_boggle_map)\n",
    "        word_num = int(input())\n",
    "        temp_words = list()\n",
    "        for num in range(0, word_num) :\n",
    "            temp_words.append(input())\n",
    "        multi_word.append(temp_words)\n",
    "    \n",
    "    for case in range(0, case_num) :\n",
    "        boggle_map = multi_boggle_map[case]\n",
    "        words = multi_word[case]\n",
    "        for word in words :\n",
    "            pos = [-1, -1]\n",
    "            success = search_letter(boggle_map, 0, MAP_SIZE, 0, MAP_SIZE, word, 0, pos)\n",
    "            print_res(word, success)\n",
    "\n",
    "\n",
    "\n",
    "def main() :\n",
    "    boggle()\n",
    "    \n",
    "    \n",
    "if __name__ == '__main__' :\n",
    "    main()"
   ]
  },
  {
   "cell_type": "markdown",
   "metadata": {},
   "source": [
    "### BORDARCORVER"
   ]
  },
  {
   "cell_type": "code",
   "execution_count": 45,
   "metadata": {},
   "outputs": [
    {
     "name": "stdout",
     "output_type": "stream",
     "text": [
      "1\n",
      "1\n"
     ]
    },
    {
     "ename": "IndexError",
     "evalue": "list index out of range",
     "output_type": "error",
     "traceback": [
      "\u001b[1;31m---------------------------------------------------------------------------\u001b[0m",
      "\u001b[1;31mIndexError\u001b[0m                                Traceback (most recent call last)",
      "\u001b[1;32m<ipython-input-45-780078dc75a3>\u001b[0m in \u001b[0;36m<module>\u001b[1;34m\u001b[0m\n\u001b[0;32m     64\u001b[0m \u001b[1;33m\u001b[0m\u001b[0m\n\u001b[0;32m     65\u001b[0m \u001b[1;32mif\u001b[0m \u001b[0m__name__\u001b[0m \u001b[1;33m==\u001b[0m \u001b[1;34m'__main__'\u001b[0m \u001b[1;33m:\u001b[0m\u001b[1;33m\u001b[0m\u001b[1;33m\u001b[0m\u001b[0m\n\u001b[1;32m---> 66\u001b[1;33m     \u001b[0mmain\u001b[0m\u001b[1;33m(\u001b[0m\u001b[1;33m)\u001b[0m\u001b[1;33m\u001b[0m\u001b[1;33m\u001b[0m\u001b[0m\n\u001b[0m\u001b[0;32m     67\u001b[0m \u001b[1;33m\u001b[0m\u001b[0m\n",
      "\u001b[1;32m<ipython-input-45-780078dc75a3>\u001b[0m in \u001b[0;36mmain\u001b[1;34m()\u001b[0m\n\u001b[0;32m      9\u001b[0m         \u001b[0mh_w\u001b[0m \u001b[1;33m=\u001b[0m \u001b[0minput\u001b[0m\u001b[1;33m(\u001b[0m\u001b[1;33m)\u001b[0m\u001b[1;33m\u001b[0m\u001b[1;33m\u001b[0m\u001b[0m\n\u001b[0;32m     10\u001b[0m         \u001b[0mmulti_height\u001b[0m\u001b[1;33m.\u001b[0m\u001b[0mappend\u001b[0m\u001b[1;33m(\u001b[0m\u001b[0mint\u001b[0m\u001b[1;33m(\u001b[0m\u001b[0mh_w\u001b[0m\u001b[1;33m.\u001b[0m\u001b[0msplit\u001b[0m\u001b[1;33m(\u001b[0m\u001b[1;34m\" \"\u001b[0m\u001b[1;33m)\u001b[0m\u001b[1;33m[\u001b[0m\u001b[1;36m0\u001b[0m\u001b[1;33m]\u001b[0m\u001b[1;33m)\u001b[0m\u001b[1;33m)\u001b[0m\u001b[1;33m\u001b[0m\u001b[1;33m\u001b[0m\u001b[0m\n\u001b[1;32m---> 11\u001b[1;33m         \u001b[0mmulti_weight\u001b[0m\u001b[1;33m.\u001b[0m\u001b[0mappend\u001b[0m\u001b[1;33m(\u001b[0m\u001b[0mint\u001b[0m\u001b[1;33m(\u001b[0m\u001b[0mh_w\u001b[0m\u001b[1;33m.\u001b[0m\u001b[0msplit\u001b[0m\u001b[1;33m(\u001b[0m\u001b[1;34m\" \"\u001b[0m\u001b[1;33m)\u001b[0m\u001b[1;33m[\u001b[0m\u001b[1;36m1\u001b[0m\u001b[1;33m]\u001b[0m\u001b[1;33m)\u001b[0m\u001b[1;33m)\u001b[0m\u001b[1;33m\u001b[0m\u001b[1;33m\u001b[0m\u001b[0m\n\u001b[0m\u001b[0;32m     12\u001b[0m         \u001b[0minput_board\u001b[0m \u001b[1;33m=\u001b[0m \u001b[0mlist\u001b[0m\u001b[1;33m(\u001b[0m\u001b[1;33m)\u001b[0m\u001b[1;33m\u001b[0m\u001b[1;33m\u001b[0m\u001b[0m\n\u001b[0;32m     13\u001b[0m         \u001b[1;32mfor\u001b[0m \u001b[0mheight\u001b[0m \u001b[1;32min\u001b[0m \u001b[0mrange\u001b[0m\u001b[1;33m(\u001b[0m\u001b[1;36m0\u001b[0m\u001b[1;33m,\u001b[0m \u001b[0mmulti_height\u001b[0m\u001b[1;33m[\u001b[0m\u001b[0mcase\u001b[0m\u001b[1;33m]\u001b[0m\u001b[1;33m)\u001b[0m \u001b[1;33m:\u001b[0m\u001b[1;33m\u001b[0m\u001b[1;33m\u001b[0m\u001b[0m\n",
      "\u001b[1;31mIndexError\u001b[0m: list index out of range"
     ]
    }
   ],
   "source": [
    "#런타임 오류 : 배열 범위 벗어나는 핸들러 작성 미흡해서 났었음\n",
    "\n",
    "def main() :\n",
    "    case_num = int(input())\n",
    "    multi_height = list()\n",
    "    multi_weight = list()\n",
    "    multi_board = list()\n",
    "    for case in range(0, case_num) :\n",
    "        h_w = input()\n",
    "        multi_height.append(int(h_w.split(\" \")[0]))\n",
    "        multi_weight.append(int(h_w.split(\" \")[1]))\n",
    "        input_board = list()\n",
    "        for height in range(0, multi_height[case]) :\n",
    "            input_board.append(input())\n",
    "        multi_board.append(input_board)\n",
    "        \n",
    "    for case in range(0, case_num) :\n",
    "        height = multi_height[case]\n",
    "        weight = multi_weight[case]\n",
    "        board = multi_board[case]\n",
    "        result = put_block(board)\n",
    "        print(result)\n",
    "    \n",
    "    \n",
    "def search_position(board, height, weight) :\n",
    "    for row in range(0, height) :\n",
    "        for col in range(0, weight) :\n",
    "            if(board[row][col] == '.') :\n",
    "                pos =[row, col]\n",
    "                return pos\n",
    "    return -1\n",
    "\n",
    "def is_in(x, y, board) :\n",
    "    if(0 <= x and x < len(board[0]) and 0 <= y and y < len(board)) :\n",
    "        return True\n",
    "    return False\n",
    "\n",
    "def letter_switch(board, row, col, dy, dx, next_dy, next_dx, letter) :\n",
    "    board[row] = board[row][:col] + letter + board[row][col + 1:]\n",
    "    board[dy] = board[dy][:dx] + letter + board[dy][dx + 1:]\n",
    "    board[next_dy] = board[next_dy][:next_dx] + letter + board[next_dy][next_dx + 1:]\n",
    "\n",
    "def put_block(board) :\n",
    "    block_y = [1,1,0,1,1,1,0,1]\n",
    "    block_x = [0,1,1,1,0,-1,1,0]\n",
    "    res = 0\n",
    "    start = search_position(board, len(board), len(board[0]))\n",
    "    if(start is -1) :\n",
    "        return 1\n",
    "    row = start[0]\n",
    "    col = start[1]\n",
    "    for block_no in range(0,4) :\n",
    "        pos = block_no * 2\n",
    "        dy = row + block_y[pos]\n",
    "        dx = col + block_x[pos]\n",
    "        next_dy = row + block_y[pos + 1]\n",
    "        next_dx = col + block_x[pos + 1]\n",
    "        if(is_in(dx, dy, board) == True and is_in(next_dx, next_dy, board) == True) :\n",
    "            if(board[dy][dx] == '.' and board[next_dy][next_dx] == '.') :\n",
    "                letter_switch(board, row, col, dy, dx, next_dy, next_dx, '#')\n",
    "                res += put_block(board)\n",
    "                letter_switch(board, row, col, dy, dx, next_dy, next_dx, '.')    \n",
    "    return res\n",
    "\n",
    "if __name__ == '__main__' :\n",
    "    main()\n",
    "                "
   ]
  },
  {
   "cell_type": "markdown",
   "metadata": {},
   "source": [
    "### CLOCKSYNC"
   ]
  },
  {
   "cell_type": "code",
   "execution_count": null,
   "metadata": {},
   "outputs": [],
   "source": [
    "# 머리 안돈다 좀만 쉬자\n",
    "# 이건 낼 풀어야지\n",
    "case_num = int(input())\n",
    "\n",
    "multi_clock = list()\n",
    "for case in range(0, case_num) :\n",
    "    multi_clock.appen(input().split(\" \"))\n",
    "    \n",
    "for case in range(0, case_num) :\n",
    "     \n",
    "        \n",
    "def click_switch() :\n",
    "    click_num = 0\n",
    "    if(is_clock_12 == True) :\n",
    "        return 0\n",
    "    if(len(switch_set) == 0) :\n",
    "        return 100000000\n",
    "    for click in range(1, 4) :\n",
    "        for clock_num in switch :\n",
    "            clock[clock_num] = (clock[clock_num] + 1) % 4\n",
    "        prev_click_num = click_num\n",
    "        click_num = click_num + click_switch(switch_set) + 1\n",
    "        click_num = min(prev_click_num, click_num)\n",
    "        \n",
    "    \n",
    "    \n",
    "    "
   ]
  },
  {
   "cell_type": "markdown",
   "metadata": {},
   "source": [
    "### Sum"
   ]
  },
  {
   "cell_type": "code",
   "execution_count": 53,
   "metadata": {},
   "outputs": [
    {
     "name": "stdout",
     "output_type": "stream",
     "text": [
      "[1, 2, 3, 4]\n",
      "for문 :  55\n",
      "재귀함수 :  55\n",
      "Divide_Conquer_sum :  55\n"
     ]
    }
   ],
   "source": [
    "#for문과 재귀함수와 DQ\n",
    "def main() :\n",
    "    number = [1, 2, 3, 4, 5, 6, 7, 8, 9, 10]\n",
    "    print('for문 : ',for_sum(number))\n",
    "    print('재귀함수 : ', recursive_sum(number))\n",
    "    print('Divide_Conquer_sum : ', d_q_sum(number))\n",
    "\n",
    "def for_sum(number) :\n",
    "    sum = 0\n",
    "    for index in range(0, len(number)) :\n",
    "        sum += number[index]\n",
    "    return sum\n",
    "\n",
    "def recursive_sum(number) :\n",
    "    if(len(number) == 1) :\n",
    "        return number[0]\n",
    "    return recursive_sum(number[:len(number) - 1]) + number[len(number) - 1]\n",
    "\n",
    "def d_q_sum(number) :\n",
    "    if(len(number) == 1) :\n",
    "        return number[0]\n",
    "    return d_q_sum(number[:int(len(number) /2)]) + d_q_sum(number[int(len(number) /2) :])\n",
    "\n",
    "if __name__ == '__main__' :\n",
    "    main()"
   ]
  },
  {
   "cell_type": "markdown",
   "metadata": {},
   "source": [
    "### QUADTREE"
   ]
  },
  {
   "cell_type": "code",
   "execution_count": 65,
   "metadata": {},
   "outputs": [
    {
     "name": "stdout",
     "output_type": "stream",
     "text": [
      "1\n",
      "w\n",
      "w\n"
     ]
    }
   ],
   "source": [
    "def find_squar(letter, start) :\n",
    "    if(letter[start] == 'x') :\n",
    "        x_letter = 'x'\n",
    "        left = list()\n",
    "        right = list()\n",
    "        left.append(find_squar(letter, start + 1))\n",
    "        left.append(find_squar(letter, left[0][1] + 1))\n",
    "        right.append(find_squar(letter, left[1][1] + 1))\n",
    "        right.append(find_squar(letter, right[0][1] + 1))\n",
    "        res = x_letter + right[0][2] + right[1][2] + left[0][2] + left[1][2]\n",
    "        return [left[0][0] - 1, right[1][1], res]\n",
    "    else :\n",
    "        return [start, start, letter[start]]\n",
    "    \n",
    "def main() :\n",
    "    case_num = int(input())\n",
    "    multi_letter = list()\n",
    "    for case in range(0, case_num) :\n",
    "        multi_letter.append(input())    \n",
    "    for case in range(0, case_num) :\n",
    "        letter = multi_letter[case]\n",
    "        result = find_squar(letter, 0)\n",
    "        print(result[2])\n",
    "\n",
    "              \n",
    "if __name__ == '__main__' :\n",
    "    main()"
   ]
  }
 ],
 "metadata": {
  "kernelspec": {
   "display_name": "Python 3",
   "language": "python",
   "name": "python3"
  },
  "language_info": {
   "codemirror_mode": {
    "name": "ipython",
    "version": 3
   },
   "file_extension": ".py",
   "mimetype": "text/x-python",
   "name": "python",
   "nbconvert_exporter": "python",
   "pygments_lexer": "ipython3",
   "version": "3.7.0"
  }
 },
 "nbformat": 4,
 "nbformat_minor": 2
}
