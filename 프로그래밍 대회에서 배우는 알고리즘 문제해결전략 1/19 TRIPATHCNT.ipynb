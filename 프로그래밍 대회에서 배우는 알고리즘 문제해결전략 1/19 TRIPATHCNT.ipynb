{
 "cells": [
  {
   "cell_type": "markdown",
   "metadata": {},
   "source": [
    "### 19 TRIPATHCNT"
   ]
  },
  {
   "cell_type": "code",
   "execution_count": 22,
   "metadata": {},
   "outputs": [
    {
     "name": "stdout",
     "output_type": "stream",
     "text": [
      "2\n",
      "4\n",
      "1\n",
      "1 1\n",
      "1 1 1\n",
      "1 1 1 1\n",
      "4\n",
      "9\n",
      "5 7\n",
      "1 3 2\n",
      "3 5 5 6\n",
      "8.0\n",
      "3.0\n"
     ]
    }
   ],
   "source": [
    "#꼭대기에서 시작\n",
    "#자기 랑 리턴 값 더하기\n",
    "#최대값 고르기\n",
    "#아래 찾기\n",
    "#오른쪽 아래 찾기\n",
    "#맨끝 도착하면 현재 값 리턴\n",
    "\n",
    "board = list()\n",
    "cache = list()\n",
    "\n",
    "def Input(multi_board) :\n",
    "    case_num = int(input())\n",
    "    for case in range(0, case_num) :\n",
    "        line = int(input())\n",
    "        board_line = list()\n",
    "        for num in range(0, line) :\n",
    "            board_line.append(input().split(\" \"))\n",
    "        multi_board.append(board_line)\n",
    "    return case_num\n",
    "\n",
    "\n",
    "def init_cache() :\n",
    "    global cache\n",
    "    cache = list()\n",
    "    for row in range(0, len(board)) :\n",
    "        cache.append(list())\n",
    "        for col in range(0, len(board[row])) :\n",
    "            cache[row].append(list())\n",
    "            for size in range(0, 2) :\n",
    "                cache[row][col].append(-1)\n",
    "\n",
    "def search_max_path(depth, col) :\n",
    "    global cache\n",
    "    if(depth == len(board)) :\n",
    "        return (0, 0.5)\n",
    "    if(cache[depth][col] != [-1,-1]) :\n",
    "        return cache[depth][col]\n",
    "    down = search_max_path(depth + 1, col)\n",
    "    right_down = search_max_path(depth + 1, col + 1)\n",
    "    path_sum = max(down[0], right_down[0])\n",
    "    path_num = 0\n",
    "    if path_sum == down[0] and path_sum == right_down[0] :\n",
    "        path_num = down[1] + right_down[1]\n",
    "    elif path_sum == down[0] :\n",
    "        path_num = down[1]\n",
    "    elif path_sum == right_down[0]:\n",
    "        path_num = right_down[1]\n",
    "    ret = [int(board[depth][col]) + path_sum, path_num]\n",
    "    cache[depth][col] = ret\n",
    "    return ret\n",
    "\n",
    "\n",
    "def main() :\n",
    "    global board\n",
    "    '''\n",
    "    board = [[1],[1,1],[1,1,1],[1,1,1,1],[1,1,1,1,1]]\n",
    "    init_cache()\n",
    "    res = search_max_path(0,0)\n",
    "    print(int(res[1]))\n",
    "    '''\n",
    "    multi_board = list()\n",
    "    case_num = Input(multi_board)\n",
    "    for case in range(0, case_num) :\n",
    "        board = multi_board[case]\n",
    "        init_cache()\n",
    "        res = search_max_path(0,0)\n",
    "        print(int(res[1]))\n",
    "    #'''\n",
    "if __name__ == '__main__' :\n",
    "    main()\n"
   ]
  }
 ],
 "metadata": {
  "kernelspec": {
   "display_name": "Python 3",
   "language": "python",
   "name": "python3"
  },
  "language_info": {
   "codemirror_mode": {
    "name": "ipython",
    "version": 3
   },
   "file_extension": ".py",
   "mimetype": "text/x-python",
   "name": "python",
   "nbconvert_exporter": "python",
   "pygments_lexer": "ipython3",
   "version": "3.7.4"
  }
 },
 "nbformat": 4,
 "nbformat_minor": 2
}
