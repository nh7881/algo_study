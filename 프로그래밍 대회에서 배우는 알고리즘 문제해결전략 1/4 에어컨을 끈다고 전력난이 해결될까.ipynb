{
 "cells": [
  {
   "cell_type": "markdown",
   "metadata": {},
   "source": [
    "### 4 에어컨을 끈다고 전력난이 해결될까?"
   ]
  },
  {
   "cell_type": "code",
   "execution_count": null,
   "metadata": {},
   "outputs": [],
   "source": [
    "# input 받은거 int로 고쳐야 하는거 까먹지 말자\n",
    "\n",
    "case_num = int(input())\n",
    "goal_ele = list()\n",
    "hour_ele = list()\n",
    "\n",
    "for case in range(0, case_num) :\n",
    "    goal_ele.append(int(input()))\n",
    "    hour_ele.append(input().split(\" \"))\n",
    "    \n",
    "for case in range(0, case_num) :\n",
    "    total_ele = 0\n",
    "    for hour in range(0, len(hour_ele[case])) :\n",
    "        total_ele += int(hour_ele[case][hour])\n",
    "    if(total_ele <= goal_ele[case]) :\n",
    "        print('YES')\n",
    "    else :\n",
    "        print('NO')\n",
    "        "
   ]
  }
 ],
 "metadata": {
  "kernelspec": {
   "display_name": "Python 3",
   "language": "python",
   "name": "python3"
  },
  "language_info": {
   "codemirror_mode": {
    "name": "ipython",
    "version": 3
   },
   "file_extension": ".py",
   "mimetype": "text/x-python",
   "name": "python",
   "nbconvert_exporter": "python",
   "pygments_lexer": "ipython3",
   "version": "3.7.4"
  }
 },
 "nbformat": 4,
 "nbformat_minor": 2
}
