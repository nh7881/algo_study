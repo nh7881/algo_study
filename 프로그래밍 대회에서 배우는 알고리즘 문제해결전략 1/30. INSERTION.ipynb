{
 "cells": [
  {
   "cell_type": "markdown",
   "metadata": {},
   "source": [
    "# 30 INSERTION"
   ]
  },
  {
   "cell_type": "code",
   "execution_count": 18,
   "metadata": {},
   "outputs": [
    {
     "name": "stdout",
     "output_type": "stream",
     "text": [
      "2\n",
      "5\n",
      "0 1 1 2 3\n",
      "5 1 4 3 2 4\n",
      "0 1 2 3\n",
      "4 3 2 1 "
     ]
    },
    {
     "data": {
      "text/plain": [
       "'\\n예제 입력\\n2\\n5\\n0 1 1 2 3\\n4\\n0 1 2 3\\n예제 출력\\n5 1 4 3 2\\n4 3 2 1\\n'"
      ]
     },
     "execution_count": 18,
     "metadata": {},
     "output_type": "execute_result"
    }
   ],
   "source": [
    "'''\n",
    "5 1 4 3 2\n",
    "0 1 1 2 3\n",
    "'''\n",
    "def insert_reverse(n, moves) :\n",
    "    sorted_list = [i + 1 for i in range(n)]\n",
    "    reverse_ret = []\n",
    "    #print(moves, 'move')\n",
    "    end = n\n",
    "    for index in range(n - 1, -1, -1) :\n",
    "        #print(n - 1, moves[index])\n",
    "        end -= 1\n",
    "        reverse_ret.append(sorted_list.pop(end - moves[index]))\n",
    "    ret = []\n",
    "    for push in range(n) :\n",
    "        ret.append(reverse_ret.pop())\n",
    "    return ret\n",
    "        \n",
    "def main() :\n",
    "    case_num = int(input())\n",
    "    for case in range(case_num) :\n",
    "        n = int(input())\n",
    "        moves = list(map(int, input().split()))\n",
    "        #n, moves = 50000, [0 for k in range(50000)]\n",
    "        res = insert_reverse(n, moves)\n",
    "        for num in res :\n",
    "            print(num, end = ' ')\n",
    "    \n",
    "if __name__  == '__main__' :\n",
    "    main()\n",
    "\n",
    "\n",
    "'''\n",
    "예제 입력\n",
    "2\n",
    "5\n",
    "0 1 1 2 3\n",
    "4\n",
    "0 1 2 3\n",
    "예제 출력\n",
    "5 1 4 3 2\n",
    "4 3 2 1\n",
    "'''"
   ]
  }
 ],
 "metadata": {
  "kernelspec": {
   "display_name": "Python 3",
   "language": "python",
   "name": "python3"
  },
  "language_info": {
   "codemirror_mode": {
    "name": "ipython",
    "version": 3
   },
   "file_extension": ".py",
   "mimetype": "text/x-python",
   "name": "python",
   "nbconvert_exporter": "python",
   "pygments_lexer": "ipython3",
   "version": "3.7.0"
  }
 },
 "nbformat": 4,
 "nbformat_minor": 2
}
