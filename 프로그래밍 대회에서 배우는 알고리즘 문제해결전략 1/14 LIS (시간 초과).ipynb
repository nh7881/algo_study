{
 "cells": [
  {
   "cell_type": "markdown",
   "metadata": {},
   "source": [
    "### 14 LIS"
   ]
  },
  {
   "cell_type": "code",
   "execution_count": null,
   "metadata": {},
   "outputs": [],
   "source": [
    "#추가 할 경우 최대길이 메모제이션\n",
    "#2^n\n",
    "\n",
    "cache = list()\n",
    "\n",
    "def Input(multi_sequence) :\n",
    "    case_num = int(input())\n",
    "    for case in range(0, case_num) :\n",
    "        size = int(input())\n",
    "        multi_sequence.append(input().split(\" \"))\n",
    "    return case_num\n",
    "\n",
    "def init_cache() :\n",
    "    global cache\n",
    "    cache = list()\n",
    "    for size in range(0, len(sequence)) :\n",
    "        cache.append(-1)\n",
    "    return 0\n",
    "\n",
    "def search_lis(sequence, start) :\n",
    "    if sequence == [''] :\n",
    "        return 0\n",
    "    if len(sequence) - 1 == start :\n",
    "        return 1\n",
    "    global cache\n",
    "    if cache[start] != -1 :\n",
    "        return cache[start]\n",
    "    ret = 0\n",
    "    for index in range(start + 1, len(sequence)) :\n",
    "        if int(sequence[start]) < int(sequence[index]) :\n",
    "            ret = max(ret, search_lis(sequence, index))\n",
    "    ret += 1\n",
    "    cache[start] = ret\n",
    "    return ret\n",
    "\n",
    "def main() :\n",
    "    global sequence\n",
    "    sequence = [1,2,3,1,5,6,7]\n",
    "    \n",
    "    multi_sequence = list()\n",
    "    case_num = Input(multi_sequence)\n",
    "    for case in range(0, case_num) :\n",
    "        sequence = ['-1']\n",
    "        sequence += multi_sequence[case]\n",
    "        init_cache()\n",
    "        res = 0\n",
    "        res = max(res, search_lis(sequence, 0))\n",
    "        print(res-1)\n",
    "    return 0\n",
    "    \n",
    "if __name__ == '__main__' :\n",
    "    main()\n"
   ]
  }
 ],
 "metadata": {
  "kernelspec": {
   "display_name": "Python 3",
   "language": "python",
   "name": "python3"
  },
  "language_info": {
   "codemirror_mode": {
    "name": "ipython",
    "version": 3
   },
   "file_extension": ".py",
   "mimetype": "text/x-python",
   "name": "python",
   "nbconvert_exporter": "python",
   "pygments_lexer": "ipython3",
   "version": "3.7.4"
  }
 },
 "nbformat": 4,
 "nbformat_minor": 2
}
