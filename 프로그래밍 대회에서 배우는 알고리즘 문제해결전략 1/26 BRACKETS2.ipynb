{
 "cells": [
  {
   "cell_type": "markdown",
   "metadata": {},
   "source": [
    "### 26 BRACKETS2"
   ]
  },
  {
   "cell_type": "code",
   "execution_count": 17,
   "metadata": {},
   "outputs": [
    {
     "name": "stdout",
     "output_type": "stream",
     "text": [
      "1\n",
      "((())\n",
      "NO\n"
     ]
    }
   ],
   "source": [
    "# 글자를 순서대로 확인하면서 유사 스택에 넣어 짝이 맞는지 검사한다.\n",
    "def brackets2(sentence) :\n",
    "    open_list = [-1] * (len(sentence) + 1)\n",
    "    recent_open = 1\n",
    "    ret = True\n",
    "    for index in range(0, len(sentence)) :\n",
    "        if sentence[index] == '(' :\n",
    "            open_list[recent_open] = 0\n",
    "            recent_open += 1\n",
    "        elif sentence[index] == '{' :\n",
    "            open_list[recent_open] = 1\n",
    "            recent_open += 1\n",
    "        elif sentence[index] == '[' :\n",
    "            open_list[recent_open] = 2\n",
    "            recent_open += 1\n",
    "        elif sentence[index] == ')' :\n",
    "            recent_open -= 1\n",
    "            if open_list[recent_open] != 0 :\n",
    "                ret =  False\n",
    "        elif sentence[index] == '}' :\n",
    "            recent_open -= 1\n",
    "            if open_list[recent_open] != 1 :\n",
    "                ret = False\n",
    "        elif sentence[index] == ']' :\n",
    "            recent_open -= 1\n",
    "            if open_list[recent_open] != 2 :\n",
    "                ret = False\n",
    "    # 스택을 모두 소모하지 않는다면 거짓\n",
    "    if recent_open != 1 :\n",
    "        ret = False\n",
    "    return ret\n",
    "\n",
    "def Input() :\n",
    "    case_num = int(input())\n",
    "    multi_sentence = []\n",
    "    for case in range(0, case_num) :\n",
    "        multi_sentence.append(input())\n",
    "    return (case_num, multi_sentence)\n",
    "\n",
    "def main() :\n",
    "    [case_num, multi_sentence] = Input()\n",
    "    for case in range(0, case_num) :\n",
    "        sentence = multi_sentence[case]\n",
    "        res = brackets2(sentence)\n",
    "        if res == True :\n",
    "            print('YES')\n",
    "        else :\n",
    "            print('NO')\n",
    "\n",
    "if __name__ == '__main__' :\n",
    "    main()"
   ]
  }
 ],
 "metadata": {
  "kernelspec": {
   "display_name": "Python 3",
   "language": "python",
   "name": "python3"
  },
  "language_info": {
   "codemirror_mode": {
    "name": "ipython",
    "version": 3
   },
   "file_extension": ".py",
   "mimetype": "text/x-python",
   "name": "python",
   "nbconvert_exporter": "python",
   "pygments_lexer": "ipython3",
   "version": "3.7.0"
  }
 },
 "nbformat": 4,
 "nbformat_minor": 2
}
