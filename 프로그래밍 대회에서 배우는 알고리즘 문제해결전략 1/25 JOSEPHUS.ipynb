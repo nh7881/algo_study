{
 "cells": [
  {
   "cell_type": "markdown",
   "metadata": {},
   "source": [
    "### 25 JOSEPHUS"
   ]
  },
  {
   "cell_type": "code",
   "execution_count": 4,
   "metadata": {},
   "outputs": [
    {
     "name": "stdout",
     "output_type": "stream",
     "text": [
      "1\n",
      "130000 5\n",
      "75412 115649\n"
     ]
    }
   ],
   "source": [
    "def josephus(n, k) :\n",
    "    arr = []\n",
    "    # n명의 리스트를 만든다.\n",
    "    for num in range(1, n + 1) :\n",
    "        arr.append(num)\n",
    "    # 처음 없어지는 사람이 1번이므로 0부터 시작한다.\n",
    "    target = 0\n",
    "    # 남은 사람이 2명이 될 때까지 뒤의 k번째 사람을 없앤다.\n",
    "    while len(arr) != 2 :\n",
    "        del arr[target]\n",
    "        # 삭제하여 리스트가 삭제한 위치 기준으로 한 칸 씩 앞으로 이동하므로 k - 1\n",
    "        target += (k - 1)\n",
    "        # 배열 범위 넘는 거 체크\n",
    "        if target >= len(arr) :\n",
    "            target %= len(arr)\n",
    "    ret = sorted(arr)\n",
    "    return ret\n",
    "    \n",
    "def Input() :\n",
    "    case_num = int(input())\n",
    "    multi_n = []\n",
    "    multi_k = []\n",
    "    for case in range(0, case_num) :\n",
    "        n_k = input().split(' ')\n",
    "        multi_n.append(int(n_k[0]))\n",
    "        multi_k.append(int(n_k[1]))\n",
    "    return case_num, multi_n, multi_k\n",
    "    \n",
    "    \n",
    "def main() :\n",
    "    [case_num, multi_n, multi_k] = Input()\n",
    "    for case in range(0, case_num) :\n",
    "        n = multi_n[case]\n",
    "        k = multi_k[case]\n",
    "        res = josephus(n, k)\n",
    "        print(res[0], res[1])\n",
    "    \n",
    "if __name__ == '__main__' :\n",
    "    main()\n",
    "    "
   ]
  }
 ],
 "metadata": {
  "kernelspec": {
   "display_name": "Python 3",
   "language": "python",
   "name": "python3"
  },
  "language_info": {
   "codemirror_mode": {
    "name": "ipython",
    "version": 3
   },
   "file_extension": ".py",
   "mimetype": "text/x-python",
   "name": "python",
   "nbconvert_exporter": "python",
   "pygments_lexer": "ipython3",
   "version": "3.7.0"
  }
 },
 "nbformat": 4,
 "nbformat_minor": 2
}
