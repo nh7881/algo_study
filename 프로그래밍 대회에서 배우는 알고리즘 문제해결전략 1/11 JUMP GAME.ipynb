{
 "cells": [
  {
   "cell_type": "markdown",
   "metadata": {},
   "source": [
    "### 11 JUMP GAME"
   ]
  },
  {
   "cell_type": "code",
   "execution_count": null,
   "metadata": {},
   "outputs": [],
   "source": [
    "#그래프로 간단하게 풀 수 있다고 하는데 확인해볼 것!!!\n",
    "\n",
    "#경우의 수 2가지\n",
    "#범위를 벗어나거나 끝에 도착하던가\n",
    "#범위를 벗어나면 0\n",
    "#끝에 도착하면 1\n",
    "#초기화 -1\n",
    "#재귀함수로 구현\n",
    "#재귀문에서 판단\n",
    "#리턴 중 최대값 캐시에 저장\n",
    "board = list()\n",
    "cache = list()\n",
    "line_num = 0\n",
    "\n",
    "def Input(multi_line_num, multi_board) :\n",
    "    case_num = int(input())\n",
    "    for case in range(0, case_num) :\n",
    "        line_num = int(input())\n",
    "        multi_line_num.append(line_num)\n",
    "        temp_board = list()\n",
    "        for line in range(0, line_num) :\n",
    "            row = input().split(\" \")\n",
    "            temp_board.append(row)\n",
    "        #temp_board = [[2,5,1,6,1,4,1],[6,1,1,2,2,9,3],[7,2,3,2,1,3,1],[1,1,3,1,7,1,2],[4,1,2,3,4,1,3],[3,3,1,2,3,4,1],[1,5,2,9,4,7,0]]\n",
    "        multi_board.append(temp_board)\n",
    "    return case_num\n",
    "def init_cache() :\n",
    "    global cache\n",
    "    cache = list()\n",
    "    for line in range(0, line_num) :\n",
    "        \n",
    "        temp_row = list()\n",
    "        for line in range(0, line_num) :\n",
    "            temp_row.append(-1)\n",
    "        cache.append(temp_row)\n",
    "\n",
    "def search_road(x, y):\n",
    "    global cache\n",
    "    if(x >= line_num or y >= line_num) :\n",
    "        return 0\n",
    "    delta = int(board[y][x])\n",
    "    if(delta == 0) :\n",
    "        return 1\n",
    "    if(not(cache[y][x] == -1)) :\n",
    "        return cache[y][x]\n",
    "    cache[y][x] = max(search_road(x + delta, y), search_road(x, y + delta))\n",
    "    return cache[y][x]\n",
    "\n",
    "def main() :\n",
    "    multi_line_num = list()\n",
    "    multi_board = list()\n",
    "    case_num = Input(multi_line_num, multi_board)\n",
    "    global board\n",
    "    global line_num\n",
    "    for case in range(0, case_num) :\n",
    "        board = multi_board[case]\n",
    "        line_num = multi_line_num[case]\n",
    "        init_cache()\n",
    "        is_goal =search_road(0,0)\n",
    "        if(is_goal == 1) :\n",
    "            print('YES')\n",
    "        else :\n",
    "            print('NO')\n",
    "\n",
    "if __name__ == '__main__' :\n",
    "    main()\n"
   ]
  }
 ],
 "metadata": {
  "kernelspec": {
   "display_name": "Python 3",
   "language": "python",
   "name": "python3"
  },
  "language_info": {
   "codemirror_mode": {
    "name": "ipython",
    "version": 3
   },
   "file_extension": ".py",
   "mimetype": "text/x-python",
   "name": "python",
   "nbconvert_exporter": "python",
   "pygments_lexer": "ipython3",
   "version": "3.7.4"
  }
 },
 "nbformat": 4,
 "nbformat_minor": 2
}
