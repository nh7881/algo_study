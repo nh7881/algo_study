{
 "cells": [
  {
   "cell_type": "markdown",
   "metadata": {},
   "source": [
    "### 28 TRABERSAL"
   ]
  },
  {
   "cell_type": "code",
   "execution_count": 21,
   "metadata": {},
   "outputs": [
    {
     "name": "stdout",
     "output_type": "stream",
     "text": [
      "1\n",
      "6\n",
      "409 479 10 838 150 441\n",
      "409 10 479 150 838 441\n",
      "10 150 441 838 479 409 "
     ]
    }
   ],
   "source": [
    "# DC문제\n",
    "# 트리는 DC가 많을 것 같음\n",
    "\n",
    "#27, 16, 9, 12, 54, 36, 72\n",
    "#9, 12, 16, 27, 36, 54, 72\n",
    "#12, 9, 16, 36, 72, 54, 27\n",
    "\n",
    "def search_root_pos(root, in_order) :\n",
    "    for index, node in enumerate(in_order) :\n",
    "        if node == root :\n",
    "            return index\n",
    "\n",
    "def make_post_order(pre_order, in_order) :\n",
    "    if len(in_order) == 0:\n",
    "        return in_order\n",
    "    if len(in_order) == 1 :\n",
    "        del pre_order[0]\n",
    "        return in_order\n",
    "    root = pre_order.pop(0)\n",
    "    root_pos = search_root_pos(root, in_order)\n",
    "    left = make_post_order(pre_order, in_order[ : root_pos])\n",
    "    right = make_post_order(pre_order, in_order[root_pos + 1: ])\n",
    "    ret = left + right + [root]\n",
    "    return ret\n",
    "\n",
    "def Input() :\n",
    "    case_num = int(input())\n",
    "    multi_pre_order = []\n",
    "    multi_in_order = []\n",
    "    for case in range(case_num) :\n",
    "        input()\n",
    "        multi_pre_order.append(list(map(int, input().split(' '))))\n",
    "        multi_in_order.append(list(map(int, input().split(' '))))\n",
    "    return (case_num, multi_pre_order, multi_in_order)\n",
    "\n",
    "def print_element(arr) :\n",
    "    for value in arr :\n",
    "        print(value, end = ' ')\n",
    "\n",
    "def main() :\n",
    "    [case_num, multi_pre_order, multi_in_order] = Input()\n",
    "    for case in range(0, case_num) :\n",
    "        pre_order = multi_pre_order[case]\n",
    "        in_order = multi_in_order[case]\n",
    "        res = make_post_order(pre_order, in_order)\n",
    "        print_element(res)\n",
    "    \n",
    "if __name__ == '__main__' :\n",
    "    main()\n"
   ]
  }
 ],
 "metadata": {
  "kernelspec": {
   "display_name": "Python 3",
   "language": "python",
   "name": "python3"
  },
  "language_info": {
   "codemirror_mode": {
    "name": "ipython",
    "version": 3
   },
   "file_extension": ".py",
   "mimetype": "text/x-python",
   "name": "python",
   "nbconvert_exporter": "python",
   "pygments_lexer": "ipython3",
   "version": "3.7.0"
  }
 },
 "nbformat": 4,
 "nbformat_minor": 2
}
