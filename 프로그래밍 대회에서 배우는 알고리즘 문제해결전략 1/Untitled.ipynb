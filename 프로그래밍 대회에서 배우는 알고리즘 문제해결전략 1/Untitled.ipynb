{
 "cells": [
  {
   "cell_type": "code",
   "execution_count": 52,
   "metadata": {},
   "outputs": [
    {
     "name": "stdout",
     "output_type": "stream",
     "text": [
      "[4, 5]\n"
     ]
    }
   ],
   "source": [
    "# 하나의 성벽 안쪽에 겹쳐져 있는 성벽의 수를 센다\n",
    "# 그 중 가장 큰 값 2개를 더한다\n",
    "# 이를 재귀로 돌려 반복한다.\n",
    "# ret = max(ret, 가장 많은 성벽의 수 2개의 합)\n",
    "# return 은 가장 깊은 성벽의 성벽 수 와 합 2개 필요\n",
    "# 이를 위해서는 성벽을 구분하는 함수가 필요하다.\n",
    "# 성벽안에 있는 성벽인지 성벽 밖에 있는 성벽인지 구분 필요\n",
    "# 기본 영역을 잡고 더 반지름이 큰지 작은지만 판단하면 된다.\n",
    "\n",
    "def divide_wall(walls) :\n",
    "    if len(walls) == 0 :\n",
    "        print('00000')\n",
    "        return []\n",
    "    walls = sorted(walls, key = lambda wall : -wall[2])\n",
    "    wall_range = []\n",
    "    each_walls = []\n",
    "    wall_range.append(walls[0])\n",
    "    each_walls.append(list())\n",
    "    for wall_index in range(1, len(walls)) :\n",
    "        #print('이 벽을 검사 ', walls[wall_index])\n",
    "        for range_index in range(0, len(wall_range)) :\n",
    "            #print('이 영역에 있는 지 검사 ', wall_range[range_index])\n",
    "            if pow(wall_range[range_index][0] - walls[wall_index][0], 2) + pow(wall_range[range_index][1] - walls[wall_index][1], 2) < pow(wall_range[range_index][2], 2) :\n",
    "                each_walls[range_index].append(walls[wall_index])\n",
    "                #print('들어감')\n",
    "                break\n",
    "            else :\n",
    "                if range_index == len(wall_range) - 1:\n",
    "                    wall_range.append(walls[wall_index])\n",
    "                    each_walls.append(list())\n",
    "                    #print('안 들어감')\n",
    "    return each_walls\n",
    "\n",
    "def fortress(walls) :\n",
    "    if len(walls) == 0 :\n",
    "        return (0, 0)\n",
    "    each_walls_list = divide_wall(walls)\n",
    "    ret = 0\n",
    "    max_wall1 = 0\n",
    "    max_wall2 = 0\n",
    "    max_move = 0\n",
    "    for each_walls in each_walls_list :\n",
    "        [depth, res] = fortress(each_walls)\n",
    "        depth += 1\n",
    "        max_move = max(max_move, res)\n",
    "        if depth > max_wall1 :\n",
    "            max_wall2 = max_wall1\n",
    "            max_wall1 = depth\n",
    "        elif depth > max_wall2 :\n",
    "            max_wall2 = depth\n",
    "    max_move = max(max_wall1 + max_wall2, max_move)\n",
    "    ret = [max_wall1, max_move]\n",
    "    return ret\n",
    "\n",
    "def Input() :\n",
    "    case_num = int(input())\n",
    "    multi_walls = []\n",
    "    for case in range(0, case_num) :\n",
    "        wall_num = int(input())\n",
    "        walls = []\n",
    "        for num in range(0, wall_num) :\n",
    "            walls.append(list(map(int, input().split(' '))))\n",
    "        multi_walls.append(walls)\n",
    "    return (case_num, multi_walls)\n",
    "\n",
    "\n",
    "def main() :\n",
    "    [case_num, multi_walls] = Input()\n",
    "    #case_num = 1\n",
    "    for case in range(0, case_num) :\n",
    "        walls = multi_walls[case]\n",
    "        #walls = [[5,5,15], [5,5,10], [5,5,5]]\n",
    "        #walls = [[21, 15, 20], [15, 15, 10], [13, 12, 5], [12, 12, 3], [19, 19, 2], [30, 24, 5], [32, 10, 7], [32, 9, 4]]\n",
    "        res = fortress(walls)\n",
    "        print(res[1])\n",
    "    \n",
    "if __name__ == '__main__' :\n",
    "    main()"
   ]
  },
  {
   "cell_type": "code",
   "execution_count": null,
   "metadata": {},
   "outputs": [],
   "source": []
  }
 ],
 "metadata": {
  "kernelspec": {
   "display_name": "Python 3",
   "language": "python",
   "name": "python3"
  },
  "language_info": {
   "codemirror_mode": {
    "name": "ipython",
    "version": 3
   },
   "file_extension": ".py",
   "mimetype": "text/x-python",
   "name": "python",
   "nbconvert_exporter": "python",
   "pygments_lexer": "ipython3",
   "version": "3.7.0"
  }
 },
 "nbformat": 4,
 "nbformat_minor": 2
}
