{
 "cells": [
  {
   "cell_type": "markdown",
   "metadata": {},
   "source": [
    "### 3 PICNICK"
   ]
  },
  {
   "cell_type": "code",
   "execution_count": 1,
   "metadata": {},
   "outputs": [
    {
     "name": "stdout",
     "output_type": "stream",
     "text": [
      "1\n",
      "2 1\n",
      "0 1\n",
      "1\n"
     ]
    }
   ],
   "source": [
    "# 행렬 초기화\n",
    "def friend_mat_init(friend_mat, student_num) :\n",
    "    for n in range(0, student_num) :\n",
    "        friend_mat.append(list())\n",
    "        for m in range(0, n) :\n",
    "            friend_mat[n].append(0)\n",
    "            \n",
    "            \n",
    "# 짝 지어주기\n",
    "import copy\n",
    "def search_cup(friend_mat, index_set) :\n",
    "    result = 0\n",
    "    # 학생들을 모두 짝지었다면 1추가\n",
    "    if(len(index_set) == 0) :\n",
    "        return 1\n",
    "    col = index_set[0]\n",
    "    #남은 학생들 짝 지어주기\n",
    "    for row in index_set :\n",
    "        # 배열 크기 벗어나지 않게 예외 처리\n",
    "        if(len(friend_mat[row]) > col) :\n",
    "            # 짝 지어줄 수 있다면\n",
    "            if(friend_mat[row][col] == 1) :\n",
    "                # 파이썬은 copy by reference이기 때문에 copy라이브러리의 deepcopy를 사용하여 copy by value를 실행\n",
    "                # copy by value가 필요한 이유는 리스트의 구성요소가 바뀌면 모든 재귀함수에서 바뀌기 때문이다.\n",
    "                my_index_set = copy.deepcopy(index_set)\n",
    "                # 짝 지어준 학생 삭제\n",
    "                my_index_set.remove(row)\n",
    "                my_index_set.remove(col)\n",
    "                # 결과 추가\n",
    "                result += search_cup(friend_mat, my_index_set)\n",
    "    return result\n",
    "\n",
    "def test():\n",
    "    case_num = int(input())\n",
    "    student_num = list()\n",
    "    friend_num = list()\n",
    "    friendship = list()\n",
    "    for case in range(0, case_num) :\n",
    "        st_fr = input()\n",
    "        st_fr = st_fr.split(\" \")\n",
    "        student_num.append(int(st_fr[0]))\n",
    "        friend_num.append(int(st_fr[1]))\n",
    "        friendship_set = input()\n",
    "        friendship_set = friendship_set.split(\" \")\n",
    "        temp_ship_set = list()\n",
    "        for n in range(0, friend_num[case]) :\n",
    "            temp_ship = list()\n",
    "            temp_ship.append(int(friendship_set[2 * n]))\n",
    "            temp_ship.append(int(friendship_set[2 * n + 1]))\n",
    "            temp_ship_set.append(temp_ship)\n",
    "        friendship.append(temp_ship_set)\n",
    "        \n",
    "    \n",
    "    for case in range(0, case_num) :\n",
    "        friend_mat = list()\n",
    "        friend_mat_init(friend_mat, student_num[case])\n",
    "        index_set = list()\n",
    "        for student in range(0, student_num[case]) :\n",
    "            index_set.append(student)\n",
    "        for friend in range(0, friend_num[case]) :\n",
    "            row = max(friendship[case][friend][0],friendship[case][friend][1])\n",
    "            col = min(friendship[case][friend][0],friendship[case][friend][1])\n",
    "            friend_mat[row][col] = 1\n",
    "        result = search_cup(friend_mat, index_set)\n",
    "        print(result)\n",
    "\n",
    "if __name__ == '__main__' :\n",
    "    test()"
   ]
  }
 ],
 "metadata": {
  "kernelspec": {
   "display_name": "Python 3",
   "language": "python",
   "name": "python3"
  },
  "language_info": {
   "codemirror_mode": {
    "name": "ipython",
    "version": 3
   },
   "file_extension": ".py",
   "mimetype": "text/x-python",
   "name": "python",
   "nbconvert_exporter": "python",
   "pygments_lexer": "ipython3",
   "version": "3.7.0"
  }
 },
 "nbformat": 4,
 "nbformat_minor": 2
}
