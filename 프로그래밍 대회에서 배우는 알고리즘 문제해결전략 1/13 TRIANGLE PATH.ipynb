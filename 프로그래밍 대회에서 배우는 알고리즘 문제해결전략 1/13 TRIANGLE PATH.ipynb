{
 "cells": [
  {
   "cell_type": "markdown",
   "metadata": {},
   "source": [
    "### 13 TRIANGLE PATH"
   ]
  },
  {
   "cell_type": "code",
   "execution_count": null,
   "metadata": {},
   "outputs": [],
   "source": [
    "#꼭대기에서 시작\n",
    "#자기 랑 리턴 값 더하기\n",
    "#최대값 고르기\n",
    "#아래 찾기\n",
    "#오른쪽 아래 찾기\n",
    "#맨끝 도착하면 현재 값 리턴\n",
    "\n",
    "board = list()\n",
    "cache = list()\n",
    "\n",
    "def Input(multi_board) :\n",
    "    case_num = int(input())\n",
    "    for case in range(0, case_num) :\n",
    "        line = int(input())\n",
    "        board_line = list()\n",
    "        for num in range(0, line) :\n",
    "            board_line.append(input().split(\" \"))\n",
    "        multi_board.append(board_line)\n",
    "    return case_num\n",
    "\n",
    "\n",
    "def init_cache() :\n",
    "    global cache\n",
    "    cache = list()\n",
    "    for row in range(0, len(board)) :\n",
    "        temp_row = list()\n",
    "        for col in range(0, len(board[row])) :\n",
    "            temp_row.append(-1)\n",
    "        cache.append(temp_row)\n",
    "\n",
    "def search_max_path(depth, col) :\n",
    "    global cache\n",
    "    if(depth == len(board)) :\n",
    "        return 0\n",
    "    if(cache[depth][col] != -1) :\n",
    "        return cache[depth][col]\n",
    "    ret = int(board[depth][col]) + max(search_max_path(depth + 1, col) , search_max_path(depth + 1, col + 1))\n",
    "    cache[depth][col] = ret\n",
    "    return ret\n",
    "\n",
    "\n",
    "def main() :\n",
    "    global board\n",
    "    #board = [[6],[1,2],[3,7,4],[8,4,1,7],[2,7,5,8,4]]\n",
    "    multi_board = list()\n",
    "    case_num = Input(multi_board)\n",
    "    for case in range(0, case_num) :\n",
    "        board = multi_board[case]\n",
    "        init_cache()\n",
    "        res = search_max_path(0,0)\n",
    "        print(res)\n",
    "    \n",
    "if __name__ == '__main__' :\n",
    "    main()\n"
   ]
  }
 ],
 "metadata": {
  "kernelspec": {
   "display_name": "Python 3",
   "language": "python",
   "name": "python3"
  },
  "language_info": {
   "codemirror_mode": {
    "name": "ipython",
    "version": 3
   },
   "file_extension": ".py",
   "mimetype": "text/x-python",
   "name": "python",
   "nbconvert_exporter": "python",
   "pygments_lexer": "ipython3",
   "version": "3.7.4"
  }
 },
 "nbformat": 4,
 "nbformat_minor": 2
}
