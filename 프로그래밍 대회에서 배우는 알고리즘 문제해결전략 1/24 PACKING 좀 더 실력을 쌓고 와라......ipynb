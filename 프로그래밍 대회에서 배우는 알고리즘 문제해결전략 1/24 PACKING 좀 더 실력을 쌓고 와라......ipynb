{
 "cells": [
  {
   "cell_type": "markdown",
   "metadata": {},
   "source": [
    "### 24 PACKING"
   ]
  },
  {
   "cell_type": "code",
   "execution_count": 39,
   "metadata": {},
   "outputs": [
    {
     "name": "stdout",
     "output_type": "stream",
     "text": [
      "넣을 수 있는 무게 : 2, 현재 넣은 무게 : 2, 지금 집은 것의 가치 : 2\n",
      "1\n",
      "넣을 수 있는 무게 : 3, 현재 넣은 무게 : 1, 지금 집은 것의 가치 : 1\n",
      "-1\n",
      "넣을 수 있는 무게 : 3, 현재 넣은 무게 : 2, 지금 집은 것의 가치 : 2\n",
      "넣을 수 있는 무게 : 3, 현재 넣은 무게 : 3, 지금 집은 것의 가치 : 4\n",
      "2\n",
      "4\n"
     ]
    }
   ],
   "source": [
    "# 대표적인 Knapsack 문제\n",
    "# np문제 중 하나로 O(2^n)\n",
    "# 경우의 수 = 물건을 넣는가 빼는가\n",
    "# cache = [물건의 수][무게] == 최대 100 * 1000\n",
    "# 출력할 것 : 최대 가치의 합, 물건들의 수, 물건들 목록\n",
    "\n",
    "weight = list()\n",
    "value = list()\n",
    "cache = list()\n",
    "\n",
    "def knapsack(start, remained_weight) :\n",
    "    if remained_weight <= 0 :\n",
    "        return 0\n",
    "    if cache[start][remained_weight] != -1 :\n",
    "        return cache[start][remained_weight]\n",
    "    take_value = 0\n",
    "    ret = 0\n",
    "    global weight\n",
    "    global value\n",
    "    pri = -1\n",
    "    for index in range(start, len(weight)) :\n",
    "        new_remained_weight = remained_weight - weight[index]\n",
    "        if new_remained_weight >= 0 :\n",
    "            take_value = value[index] + knapsack(index + 1, new_remained_weight)\n",
    "            if ret < take_value :\n",
    "                ret = take_value\n",
    "                pri = index\n",
    "            print('넣을 수 있는 무게 : {}, 현재 넣은 무게 : {}, 지금 집은 것의 가치 : {}'.format(remained_weight, weight[index], value[index]))\n",
    "            #print(pri, start, remained_weight)\n",
    "    cache[start][remained_weight] = ret\n",
    "    print(pri)\n",
    "    return ret\n",
    "\n",
    "def init_cache(object_num, whole_weight) :\n",
    "    global cache\n",
    "    cache = list()\n",
    "    for num in range(0, object_num + 1) :\n",
    "        cache.append(list())\n",
    "        for weight in range(0, whole_weight + 1) :\n",
    "            cache[num].append(-1)\n",
    "\n",
    "\n",
    "def main() :\n",
    "    remained_weight = 3\n",
    "    global weight\n",
    "    global value\n",
    "    weight = [1, 2, 3]\n",
    "    value = [1, 2, 4]\n",
    "    #weight = [4, 2, 6, 4, 2, 10]\n",
    "    #value = [7, 10, 6, 7, 5, 4]\n",
    "    init_cache(len(weight), remained_weight)\n",
    "    res = knapsack(0, remained_weight)\n",
    "    print(res)\n",
    "    \n",
    "if __name__ == '__main__' :\n",
    "    main()"
   ]
  }
 ],
 "metadata": {
  "kernelspec": {
   "display_name": "Python 3",
   "language": "python",
   "name": "python3"
  },
  "language_info": {
   "codemirror_mode": {
    "name": "ipython",
    "version": 3
   },
   "file_extension": ".py",
   "mimetype": "text/x-python",
   "name": "python",
   "nbconvert_exporter": "python",
   "pygments_lexer": "ipython3",
   "version": "3.7.0"
  }
 },
 "nbformat": 4,
 "nbformat_minor": 2
}
