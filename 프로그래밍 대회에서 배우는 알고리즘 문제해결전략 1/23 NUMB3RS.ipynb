{
 "cells": [
  {
   "cell_type": "markdown",
   "metadata": {},
   "source": [
    "### 23 NUMB3RS"
   ]
  },
  {
   "cell_type": "code",
   "execution_count": 43,
   "metadata": {},
   "outputs": [
    {
     "name": "stdout",
     "output_type": "stream",
     "text": [
      "1\n",
      "5 2 0\n",
      "0 1 1 1 0\n",
      "1 0 0 0 1\n",
      "1 0 0 0 0\n",
      "1 0 0 0 0\n",
      "0 1 0 0 0\n",
      "3\n",
      "0 2 4\n",
      "[0.8333333333333334, 0.0, 0.16666666666666666]\n"
     ]
    }
   ],
   "source": [
    "# 각 도시의 확률을 메모제이션\n",
    "# d일 남았을 때 n도시에 있을 때 각 도시의 확률\n",
    "# return은 각 도시의 확률을 저장한 리스트\n",
    "country = list()\n",
    "target = list()\n",
    "def list_create(a, b) :\n",
    "    for i in range(0, b) :\n",
    "        a.append(0)\n",
    "\n",
    "def list_add(a, b) :\n",
    "    for i in range(0, len(a)) :\n",
    "        a[i] += b[i]\n",
    "    \n",
    "def list_div(a, b) :\n",
    "    for i in range(0, len(a)) :\n",
    "        a[i] /= b\n",
    "\n",
    "def find_thief(city, day) :\n",
    "    solution = list()\n",
    "    global cache\n",
    "    if len(cache[city][day]) != 0 :\n",
    "        return cache[city][day]\n",
    "    global target\n",
    "    list_create(solution, len(target))\n",
    "    if day == 0 :\n",
    "        for index, target_city in enumerate(target) :\n",
    "            if city == target_city :\n",
    "                solution[index] += 1\n",
    "        return solution\n",
    "    global country\n",
    "    count = 0\n",
    "    for go_city, is_go in enumerate(country[city]) :\n",
    "        if is_go != 0 :\n",
    "            list = find_thief(go_city, day - 1)\n",
    "            list_add(solution, ret_list)\n",
    "            count += 1\n",
    "    list_div(solution, count)\n",
    "    cache[city][day] = solution\n",
    "    return solution\n",
    "\n",
    "def init_cache(day) :\n",
    "    global cache\n",
    "    cache = list()\n",
    "    for city_num in range(0, len(country)) :\n",
    "        cache.append(list())\n",
    "        for day_num in range(0, day + 1) :\n",
    "            cache[city_num].append(list())\n",
    "            \n",
    "def Input() :\n",
    "    case_num = int(input())\n",
    "    multi_day = list()\n",
    "    multi_prison = list()\n",
    "    multi_country = list()\n",
    "    multi_target = list()\n",
    "    for case in range(0, case_num) :\n",
    "        size_day_prison = input().split(' ')\n",
    "        multi_day.append(int(size_day_prison[1]))\n",
    "        multi_prison.append(int(size_day_prison[2]))\n",
    "        temp_country = list()\n",
    "        for row in range(0, int(size_day_prison[0])) :\n",
    "            temp_country.append(list())\n",
    "            temp_row = input().split(' ')\n",
    "            for col in range(0, int(size_day_prison[0])) :\n",
    "                temp_country[row].append(int(temp_row[col]))\n",
    "        multi_country.append(temp_country)\n",
    "        target_size = int(input())\n",
    "        temp_target = input().split(' ')\n",
    "        multi_target.append(list())\n",
    "        for target_num in range(0, target_size) :\n",
    "            multi_target[case].append(int(temp_target[target_num]))\n",
    "    return (case_num, multi_day, multi_prison, multi_country, multi_target)\n",
    "\n",
    "def main() :\n",
    "    global country\n",
    "    global target\n",
    "    country = [[0,1,1,1,0],[1,0,0,0,1],[1,0,0,0,0],[1,0,0,0,0],[0,1,0,0,0]]\n",
    "    prison = 0\n",
    "    day = 5\n",
    "    target = [0,2,4]\n",
    "    [case_num, multi_day, multi_prison, multi_country, multi_target] = Input()\n",
    "    for case in range(0, case_num) :\n",
    "        day, prison, country, target = multi_day[case], multi_prison[case], multi_country[case], multi_target[case]\n",
    "        init_cache(day)\n",
    "        res = find_thief(prison, day)\n",
    "        print(res)\n",
    "    \n",
    "if __name__ == '__main__' :\n",
    "    main()"
   ]
  },
  {
   "cell_type": "code",
   "execution_count": 32,
   "metadata": {},
   "outputs": [
    {
     "name": "stdout",
     "output_type": "stream",
     "text": [
      "0\n"
     ]
    }
   ],
   "source": [
    "a = list()\n",
    "print(len(a))"
   ]
  }
 ],
 "metadata": {
  "kernelspec": {
   "display_name": "Python 3",
   "language": "python",
   "name": "python3"
  },
  "language_info": {
   "codemirror_mode": {
    "name": "ipython",
    "version": 3
   },
   "file_extension": ".py",
   "mimetype": "text/x-python",
   "name": "python",
   "nbconvert_exporter": "python",
   "pygments_lexer": "ipython3",
   "version": "3.7.0"
  }
 },
 "nbformat": 4,
 "nbformat_minor": 2
}
