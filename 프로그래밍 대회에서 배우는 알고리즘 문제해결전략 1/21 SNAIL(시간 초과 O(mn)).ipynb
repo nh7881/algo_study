{
 "cells": [
  {
   "cell_type": "markdown",
   "metadata": {},
   "source": [
    "### 21 SNAIL"
   ]
  },
  {
   "cell_type": "code",
   "execution_count": 10,
   "metadata": {},
   "outputs": [
    {
     "name": "stdout",
     "output_type": "stream",
     "text": [
      "4\n",
      "5 4\n",
      "5 3\n",
      "4 2\n",
      "3 2\n",
      "0.99609375\n",
      "0.84375\n",
      "0.5625\n",
      "0.9375\n"
     ]
    }
   ],
   "source": [
    "# 남은 거리 -2 *0.75 남은 거리 -1 * 0.25\n",
    "\n",
    "cache = list()\n",
    "\n",
    "def snail(distance, day) :\n",
    "    if distance <= 0 :\n",
    "        return 1\n",
    "    if day == 0 :\n",
    "        return 0\n",
    "    global cache\n",
    "    if cache[distance - 1][day - 1] != -1 :\n",
    "        return cache[distance - 1][day - 1]\n",
    "    ret = snail(distance - 2, day - 1) * 0.75 + snail(distance - 1, day - 1) * 0.25\n",
    "    cache[distance - 1][day - 1] = ret\n",
    "    return ret\n",
    "\n",
    "def init_cache(distance, day) :\n",
    "    global cache\n",
    "    cache = list()\n",
    "    for height in range(0, distance) :\n",
    "        cache.append(list())\n",
    "        for time in range(0, day) :\n",
    "            cache[height].append(-1)\n",
    "            \n",
    "def Input() :\n",
    "    case_num = int(input())\n",
    "    multi_distance = list()\n",
    "    multi_day = list()\n",
    "    for case in range(case_num) :\n",
    "        temp = input().split(' ')\n",
    "        multi_distance.append(int(temp[0]))\n",
    "        multi_day.append(int(temp[1]))\n",
    "    return (case_num, multi_distance, multi_day)\n",
    "\n",
    "def main() :\n",
    "    [case_num, multi_distance, multi_day] = Input()\n",
    "    for case in range(0, case_num) :\n",
    "        distance = multi_distance[case]\n",
    "        day = multi_day[case]\n",
    "        init_cache(distance, day)\n",
    "        res = snail(distance, day)\n",
    "        print(res)\n",
    "    \n",
    "if __name__ == '__main__' :\n",
    "    main()"
   ]
  }
 ],
 "metadata": {
  "kernelspec": {
   "display_name": "Python 3",
   "language": "python",
   "name": "python3"
  },
  "language_info": {
   "codemirror_mode": {
    "name": "ipython",
    "version": 3
   },
   "file_extension": ".py",
   "mimetype": "text/x-python",
   "name": "python",
   "nbconvert_exporter": "python",
   "pygments_lexer": "ipython3",
   "version": "3.7.4"
  }
 },
 "nbformat": 4,
 "nbformat_minor": 2
}
