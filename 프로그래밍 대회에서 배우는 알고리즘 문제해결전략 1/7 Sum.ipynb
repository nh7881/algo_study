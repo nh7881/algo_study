{
 "cells": [
  {
   "cell_type": "markdown",
   "metadata": {},
   "source": [
    "### 7 Sum"
   ]
  },
  {
   "cell_type": "code",
   "execution_count": null,
   "metadata": {},
   "outputs": [],
   "source": [
    "#for문과 재귀함수와 DQ\n",
    "def main() :\n",
    "    number = [1, 2, 3, 4, 5, 6, 7, 8, 9, 10]\n",
    "    print('for문 : ',for_sum(number))\n",
    "    print('재귀함수 : ', recursive_sum(number))\n",
    "    print('Divide_Conquer_sum : ', d_q_sum(number))\n",
    "\n",
    "def for_sum(number) :\n",
    "    sum = 0\n",
    "    for index in range(0, len(number)) :\n",
    "        sum += number[index]\n",
    "    return sum\n",
    "\n",
    "def recursive_sum(number) :\n",
    "    if(len(number) == 1) :\n",
    "        return number[0]\n",
    "    return recursive_sum(number[:len(number) - 1]) + number[len(number) - 1]\n",
    "\n",
    "def d_q_sum(number) :\n",
    "    if(len(number) == 1) :\n",
    "        return number[0]\n",
    "    return d_q_sum(number[:int(len(number) /2)]) + d_q_sum(number[int(len(number) /2) :])\n",
    "\n",
    "if __name__ == '__main__' :\n",
    "    main()"
   ]
  }
 ],
 "metadata": {
  "kernelspec": {
   "display_name": "Python 3",
   "language": "python",
   "name": "python3"
  },
  "language_info": {
   "codemirror_mode": {
    "name": "ipython",
    "version": 3
   },
   "file_extension": ".py",
   "mimetype": "text/x-python",
   "name": "python",
   "nbconvert_exporter": "python",
   "pygments_lexer": "ipython3",
   "version": "3.7.4"
  }
 },
 "nbformat": 4,
 "nbformat_minor": 2
}
