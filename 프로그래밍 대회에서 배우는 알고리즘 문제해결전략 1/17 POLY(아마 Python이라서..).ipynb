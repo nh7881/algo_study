{
 "cells": [
  {
   "cell_type": "markdown",
   "metadata": {},
   "source": [
    "### 17 POLY"
   ]
  },
  {
   "cell_type": "code",
   "execution_count": 5,
   "metadata": {},
   "outputs": [
    {
     "name": "stdout",
     "output_type": "stream",
     "text": [
      "4\n",
      "1\n",
      "2\n",
      "3\n",
      "4\n",
      "1\n",
      "2\n",
      "6\n",
      "19\n"
     ]
    }
   ],
   "source": [
    "cache = list()\n",
    "\n",
    "def poly(block, prev) :\n",
    "    if block == 0 :\n",
    "        return 1\n",
    "    global cache\n",
    "    if cache[block][prev] != -1 :\n",
    "        return cache[block][prev]\n",
    "    ret = 0\n",
    "    for set_block in range(1,block + 1) :\n",
    "        if prev == 0 :\n",
    "            ret += poly(block - set_block, set_block)\n",
    "        else :\n",
    "            ret += poly(block - set_block) * (set_block + prev - 1)\n",
    "    cache[block][prev] = ret\n",
    "    return ret\n",
    "\n",
    "def init_cache(block) :\n",
    "    global cache\n",
    "    cache = list()\n",
    "    for block_num in range(0, block + 1) :\n",
    "        cache.append(list())\n",
    "        for prev_num in range(0, block + 1) :\n",
    "            cache[block_num].append(-1)\n",
    "\n",
    "def Input() :\n",
    "    case_num = int(input())\n",
    "    multi_block = list()\n",
    "    for case in range(0, case_num) :\n",
    "        multi_block.append(int(input()))\n",
    "    return (case_num, multi_block)\n",
    "            \n",
    "def main() :\n",
    "    [case_num, multi_block] = Input()\n",
    "    for case in range(0, case_num) :\n",
    "        block = multi_block[case]\n",
    "        init_cache(block)\n",
    "        res = poly(block, 0)\n",
    "        res %= 10000000 \n",
    "        print(res)\n",
    "    \n",
    "if __name__ == '__main__' :\n",
    "    main()"
   ]
  }
 ],
 "metadata": {
  "kernelspec": {
   "display_name": "Python 3",
   "language": "python",
   "name": "python3"
  },
  "language_info": {
   "codemirror_mode": {
    "name": "ipython",
    "version": 3
   },
   "file_extension": ".py",
   "mimetype": "text/x-python",
   "name": "python",
   "nbconvert_exporter": "python",
   "pygments_lexer": "ipython3",
   "version": "3.7.0"
  }
 },
 "nbformat": 4,
 "nbformat_minor": 2
}
