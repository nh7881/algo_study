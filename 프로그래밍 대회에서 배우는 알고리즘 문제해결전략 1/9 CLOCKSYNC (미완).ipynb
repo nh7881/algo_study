{
 "cells": [
  {
   "cell_type": "markdown",
   "metadata": {},
   "source": [
    "### 9 CLOCKSYNC"
   ]
  },
  {
   "cell_type": "code",
   "execution_count": null,
   "metadata": {},
   "outputs": [],
   "source": [
    "# 머리 안돈다 좀만 쉬자\n",
    "# 이건 낼 풀어야지\n",
    "case_num = int(input())\n",
    "\n",
    "multi_clock = list()\n",
    "for case in range(0, case_num) :\n",
    "    multi_clock.appen(input().split(\" \"))\n",
    "    \n",
    "for case in range(0, case_num) :\n",
    "     \n",
    "        \n",
    "def click_switch() :\n",
    "    click_num = 0\n",
    "    if(is_clock_12 == True) :\n",
    "        return 0\n",
    "    if(len(switch_set) == 0) :\n",
    "        return 100000000\n",
    "    for click in range(1, 4) :\n",
    "        for clock_num in switch :\n",
    "            clock[clock_num] = (clock[clock_num] + 1) % 4\n",
    "        prev_click_num = click_num\n",
    "        click_num = click_num + click_switch(switch_set) + 1\n",
    "        click_num = min(prev_click_num, click_num)\n",
    "        \n",
    "    \n",
    "    \n",
    "    "
   ]
  }
 ],
 "metadata": {
  "kernelspec": {
   "display_name": "Python 3",
   "language": "python",
   "name": "python3"
  },
  "language_info": {
   "codemirror_mode": {
    "name": "ipython",
    "version": 3
   },
   "file_extension": ".py",
   "mimetype": "text/x-python",
   "name": "python",
   "nbconvert_exporter": "python",
   "pygments_lexer": "ipython3",
   "version": "3.7.4"
  }
 },
 "nbformat": 4,
 "nbformat_minor": 2
}
