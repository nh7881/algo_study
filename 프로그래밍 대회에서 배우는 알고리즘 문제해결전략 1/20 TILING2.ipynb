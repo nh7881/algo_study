{
 "cells": [
  {
   "cell_type": "markdown",
   "metadata": {},
   "source": [
    "### 20 TILING2"
   ]
  },
  {
   "cell_type": "code",
   "execution_count": 6,
   "metadata": {},
   "outputs": [
    {
     "name": "stdout",
     "output_type": "stream",
     "text": [
      "1\n",
      "100\n",
      "782204094\n"
     ]
    }
   ],
   "source": [
    "cache = list()\n",
    "\n",
    "def tiling2(n) :\n",
    "    if n == 0 :\n",
    "        return 1\n",
    "    if n < 0 :\n",
    "        return 0\n",
    "    global cache\n",
    "    if cache[n] != -1 :\n",
    "        return cache[n]\n",
    "    ret = 0\n",
    "    ret += tiling2(n - 2) + tiling2(n - 1)\n",
    "    cache[n] = ret\n",
    "    return ret\n",
    "\n",
    "def Input() :\n",
    "    case_num = int(input())\n",
    "    multi_n = list()\n",
    "    for case in range(0, case_num) :\n",
    "        multi_n.append(int(input()))\n",
    "    return (case_num, multi_n)\n",
    "\n",
    "def init_cache(n) :\n",
    "    global cache\n",
    "    for num in range(0, n + 1) :\n",
    "        cache.append(-1)\n",
    "\n",
    "def main() :\n",
    "    [case_num, multi_n] = Input()\n",
    "    for case in range(0, case_num) :\n",
    "        n = multi_n[case]\n",
    "        init_cache(n)\n",
    "        res = tiling2(n)\n",
    "        res %= 1000000007\n",
    "        print(res)\n",
    "    \n",
    "if __name__ == '__main__' :\n",
    "    main()"
   ]
  }
 ],
 "metadata": {
  "kernelspec": {
   "display_name": "Python 3",
   "language": "python",
   "name": "python3"
  },
  "language_info": {
   "codemirror_mode": {
    "name": "ipython",
    "version": 3
   },
   "file_extension": ".py",
   "mimetype": "text/x-python",
   "name": "python",
   "nbconvert_exporter": "python",
   "pygments_lexer": "ipython3",
   "version": "3.7.4"
  }
 },
 "nbformat": 4,
 "nbformat_minor": 2
}
