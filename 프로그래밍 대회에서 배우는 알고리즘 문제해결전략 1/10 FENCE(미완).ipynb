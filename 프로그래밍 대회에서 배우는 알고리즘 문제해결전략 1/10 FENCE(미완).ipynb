{
 "cells": [
  {
   "cell_type": "markdown",
   "metadata": {},
   "source": [
    "### 10 FENCE"
   ]
  },
  {
   "cell_type": "code",
   "execution_count": null,
   "metadata": {},
   "outputs": [],
   "source": [
    "def Input(case_num, multi_line_num, multi_line) :\n",
    "    case_num = int(input())\n",
    "    for case in range(0, case_num) :\n",
    "        multi_line_num.append(int(input()))\n",
    "        multi_line.append(input().split(\" \"))\n",
    "    return case_num\n",
    "\n",
    "def search_rectangle_version_BF(lines, start, max_area) :\n",
    "    # 시간 초과\n",
    "    first_line = int(lines[start])\n",
    "    length = 1\n",
    "    for index in range(start + 1, len(lines)) :\n",
    "        if(int(lines[index]) >= first_line) :\n",
    "            length += 1\n",
    "        else :\n",
    "            break\n",
    "    for index in range(start - 1, -1) :\n",
    "        if(int(lines[index]) >= first_line) :\n",
    "            length += 1\n",
    "        else :\n",
    "            break\n",
    "    area = first_line * length\n",
    "    max_area = max(max_area, area)\n",
    "    return max_area\n",
    "        \n",
    "def main() :\n",
    "    case_num = 0\n",
    "    multi_line_num = list()\n",
    "    multi_line = list()\n",
    "    case_num = Input(case_num, multi_line_num, multi_line)\n",
    "    for case in range(0,case_num) :\n",
    "        lines = multi_line[case]\n",
    "        max_area = 0\n",
    "        for start in range(0, len(lines)) :\n",
    "            max_area = search_rectangle(lines, start, max_area)\n",
    "        print(max_area)\n",
    "\n",
    "    \n",
    "if __name__ == '__main__' :\n",
    "    main()\n",
    "    "
   ]
  }
 ],
 "metadata": {
  "kernelspec": {
   "display_name": "Python 3",
   "language": "python",
   "name": "python3"
  },
  "language_info": {
   "codemirror_mode": {
    "name": "ipython",
    "version": 3
   },
   "file_extension": ".py",
   "mimetype": "text/x-python",
   "name": "python",
   "nbconvert_exporter": "python",
   "pygments_lexer": "ipython3",
   "version": "3.7.4"
  }
 },
 "nbformat": 4,
 "nbformat_minor": 2
}
