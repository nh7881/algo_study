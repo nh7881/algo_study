{
 "cells": [
  {
   "cell_type": "markdown",
   "metadata": {},
   "source": [
    "### 16 PI"
   ]
  },
  {
   "cell_type": "code",
   "execution_count": 26,
   "metadata": {},
   "outputs": [
    {
     "name": "stdout",
     "output_type": "stream",
     "text": [
      "4000\n"
     ]
    }
   ],
   "source": [
    "# 입력 받으면 3 ~ 5 개 자르기\n",
    "# score 함수는 고칠 필요가 있음 <- 지저분해\n",
    "import sys\n",
    "sys.setrecursionlimit(10000)\n",
    "\n",
    "cache = list()\n",
    "sequence = list()\n",
    "\n",
    "def score(token) :\n",
    "    if len(token) == 1 :\n",
    "        return 0\n",
    "    ret = 10\n",
    "    score_ret = list()\n",
    "    for index in range(0, len(token) - 1) :\n",
    "        score_ret.append(token[index] - token[index + 1])\n",
    "    even = True\n",
    "    plus_minus = True\n",
    "    for equal_num in range(0, len(score_ret) - 1) :\n",
    "        if score_ret[equal_num] != score_ret[equal_num + 1] :\n",
    "            even = False\n",
    "        if score_ret[equal_num] != (-1 * score_ret[equal_num + 1]) :\n",
    "            plus_minus = False\n",
    "    if plus_minus == True :\n",
    "        ret = 4        \n",
    "    if even == True :\n",
    "        if score_ret[0]== 0 :\n",
    "            ret = 1\n",
    "        elif score_ret[0] == 1 or score_ret[0] == -1:\n",
    "            ret = 2\n",
    "        else :\n",
    "            ret = 5\n",
    "    return ret\n",
    "\n",
    "def remember_pi(start, slice_len) :\n",
    "    global sequence\n",
    "    global cache\n",
    "    if len(sequence) == start :\n",
    "        return 0\n",
    "    if len(sequence) < start + slice_len :\n",
    "        return 100000\n",
    "    if cache[start][slice_len - 3] != -1 :\n",
    "        return cache[start][slice_len - 3]\n",
    "    token = list()\n",
    "    for num in range(0, slice_len) :\n",
    "        token.append(sequence[start + num])\n",
    "    res = 100000\n",
    "    for next_slice_len in range(3, 6) :\n",
    "        res = min(res, remember_pi(start + slice_len, next_slice_len) )\n",
    "    ret = score(token)\n",
    "    ret += res\n",
    "    cache[start][slice_len - 3] = ret\n",
    "    return ret\n",
    "\n",
    "def str_to_i(sequence) :\n",
    "    temp_sequence = list()\n",
    "    for char in sequence :\n",
    "        temp_sequence.append(int(char))\n",
    "    return temp_sequence\n",
    "\n",
    "def init_cache() :\n",
    "    global cache\n",
    "    global sequence\n",
    "    cache = list()\n",
    "    for index_size in range(0, len(sequence)) :\n",
    "        cache.append(list())\n",
    "        for slice_size in range(0, 3) :\n",
    "            cache[index_size].append(-1)\n",
    "            \n",
    "def Input() :\n",
    "    case_num = int(input())\n",
    "    sequence_list = list()\n",
    "    for case in range(0, case_num) :\n",
    "        sequence_list.append(input())\n",
    "    return (case_num, sequence_list)\n",
    "\n",
    "def main() :\n",
    "    (case_num, sequence_list) = Input()\n",
    "    for case in range(0, case_num) :\n",
    "        global sequence\n",
    "        sequence = sequence_list[case]\n",
    "        sequence = str_to_i(sequence)\n",
    "        sequence = [0] + sequence\n",
    "        init_cache()\n",
    "        min_res = 100000\n",
    "        min_res = min(min_res, remember_pi(0, 1))\n",
    "        print(min_res)\n",
    "    \n",
    "if __name__ == '__main__' :\n",
    "    main()\n",
    "    \n",
    "\n"
   ]
  },
  {
   "cell_type": "code",
   "execution_count": 40,
   "metadata": {},
   "outputs": [
    {
     "name": "stdout",
     "output_type": "stream",
     "text": [
      "[1, 0, 1]\n"
     ]
    }
   ],
   "source": [
    "a = [0,1]\n",
    "a = [1] + a\n",
    "print(a)"
   ]
  }
 ],
 "metadata": {
  "kernelspec": {
   "display_name": "Python 3",
   "language": "python",
   "name": "python3"
  },
  "language_info": {
   "codemirror_mode": {
    "name": "ipython",
    "version": 3
   },
   "file_extension": ".py",
   "mimetype": "text/x-python",
   "name": "python",
   "nbconvert_exporter": "python",
   "pygments_lexer": "ipython3",
   "version": "3.7.0"
  }
 },
 "nbformat": 4,
 "nbformat_minor": 2
}
