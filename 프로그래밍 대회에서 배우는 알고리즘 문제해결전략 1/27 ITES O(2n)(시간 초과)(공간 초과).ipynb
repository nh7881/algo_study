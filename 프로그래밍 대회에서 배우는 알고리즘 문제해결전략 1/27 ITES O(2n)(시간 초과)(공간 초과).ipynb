{
 "cells": [
  {
   "cell_type": "markdown",
   "metadata": {},
   "source": [
    "### 27 ITES O(2n)(시간 초과)(공간 초과)"
   ]
  },
  {
   "cell_type": "code",
   "execution_count": 30,
   "metadata": {},
   "outputs": [
    {
     "name": "stdout",
     "output_type": "stream",
     "text": [
      "3\n",
      "8791 20\n",
      "5265 5000\n",
      "3578452 5000000\n",
      "1.85\n",
      "1\n",
      "1.9998\n",
      "4\n",
      "1.9998536\n",
      "1049\n"
     ]
    }
   ],
   "source": [
    "def ites(arr, k) :\n",
    "    ret = 0\n",
    "    total = 0\n",
    "    start = 0\n",
    "    for index in range(0, len(arr)) :\n",
    "        total += arr[index]\n",
    "        if total == k :\n",
    "            ret += 1\n",
    "        while total >= k :\n",
    "            total -= arr[start]\n",
    "            start += 1\n",
    "            if total == k :\n",
    "                ret += 1\n",
    "    loop /= len(arr)\n",
    "    return ret\n",
    "\n",
    "def make_arr(n) :\n",
    "    cur = 1983\n",
    "    arr = [0] * n\n",
    "    arr[0] = 1983\n",
    "    mod_num = pow(2, 32)\n",
    "    for num in range(1, n) :\n",
    "        cur = (cur * 214013 + 2531011) % mod_num\n",
    "        arr[num] = cur % 10000 + 1\n",
    "    return arr\n",
    "\n",
    "def Input() :\n",
    "    case_num = int(input())\n",
    "    multi_k = []\n",
    "    multi_n = []\n",
    "    for case in range(0, case_num) :\n",
    "        k_n = input().split(' ')\n",
    "        multi_k.append(int(k_n[0]))\n",
    "        multi_n.append(int(k_n[1]))\n",
    "    return (case_num, multi_k, multi_n)\n",
    "\n",
    "def main() :\n",
    "    [case_num, multi_k, multi_n] = Input()\n",
    "    for case in range(0, case_num) :\n",
    "        k = multi_k[case]\n",
    "        n = multi_n[case]\n",
    "        arr = make_arr(n)\n",
    "        res = ites(arr, k)\n",
    "        print(res)\n",
    "    \n",
    "'''\n",
    "8791 20\n",
    "5265 5000\n",
    "3578452 5000000\n",
    "'''\n",
    "if __name__ == '__main__' :\n",
    "    main()\n",
    "            "
   ]
  }
 ],
 "metadata": {
  "kernelspec": {
   "display_name": "Python 3",
   "language": "python",
   "name": "python3"
  },
  "language_info": {
   "codemirror_mode": {
    "name": "ipython",
    "version": 3
   },
   "file_extension": ".py",
   "mimetype": "text/x-python",
   "name": "python",
   "nbconvert_exporter": "python",
   "pygments_lexer": "ipython3",
   "version": "3.7.0"
  }
 },
 "nbformat": 4,
 "nbformat_minor": 2
}
