{
 "cells": [
  {
   "cell_type": "markdown",
   "metadata": {},
   "source": [
    "# 30 NERD2"
   ]
  },
  {
   "cell_type": "code",
   "execution_count": null,
   "metadata": {},
   "outputs": [],
   "source": [
    "import sys\n",
    "\n",
    "def is_nurd(player_list, player) :\n",
    "    if len(player_list) == 0 :\n",
    "        player_list.append(player)\n",
    "        #print(player_list)\n",
    "        return player_list\n",
    "    index = binary_search_one(player_list, 0, len(player_list) - 1, player)\n",
    "    #print(index)\n",
    "    index2 = binary_search_two(player_list, 0, len(player_list) - 1, player)\n",
    "    #print(index2)\n",
    "    if index == index2 :\n",
    "        player_list.insert(index, player)\n",
    "        #print(player_list)\n",
    "    else :\n",
    "        if index2 < index :\n",
    "            player_list = player_list[:index2] + [player] + player_list[index:]\n",
    "    return player_list\n",
    "\n",
    "def binary_search_one(player_list, start, end, player) :\n",
    "    if end - start == 0 :\n",
    "        if player_list[start][0] <= player[0] :\n",
    "            return start + 1\n",
    "        else :\n",
    "            return start\n",
    "    mid = int((start + end) / 2)\n",
    "    if player_list[mid][0] < player[0] :\n",
    "        return binary_search_one(player_list, mid + 1, end, player)\n",
    "    else :\n",
    "        return binary_search_one(player_list, start, mid, player)\n",
    "    \n",
    "def binary_search_two(player_list, start, end, player) :\n",
    "    if end - start == 0 :\n",
    "        if player_list[start][1] > player[1] :\n",
    "            return start + 1\n",
    "        else :\n",
    "            return start\n",
    "    mid = int((start + end) / 2)\n",
    "    if player_list[mid][1] > player[1] :\n",
    "        return binary_search_two(player_list, mid + 1, end, player)\n",
    "    else :\n",
    "        return binary_search_two(player_list, start, mid, player)\n",
    "        \n",
    "def Input() :\n",
    "    human_num = int(sys.stdin.readline())\n",
    "    humans = []\n",
    "    for human in range(human_num) :\n",
    "        humans.append(list(map(int, sys.stdin.readline().split())))\n",
    "    return humans\n",
    "    \n",
    "def main() :\n",
    "    case_num = int(sys.stdin.readline())\n",
    "    for case in range(case_num) :\n",
    "        player_list = []\n",
    "        players = Input()\n",
    "        ret = 0\n",
    "        #players = [[64,60],[72,50],[57,67],[74,55]]\n",
    "        for player in players :\n",
    "            is_nurd(player_list, player)\n",
    "            ret += len(player_list)\n",
    "        print(ret)\n",
    "    \n",
    "# x와 y로 search한 index가 같다면 ok\n",
    "# 다르다면 y로 찾은게 x로 찾은것 보다 왼쪽이라면 사이에 있는게 너드 <= =<\n",
    "# 오른쪽이라면 본인이 너드\n",
    "\n",
    "if __name__ == '__main__' :\n",
    "    main()\n",
    "    "
   ]
  },
  {
   "cell_type": "code",
   "execution_count": null,
   "metadata": {},
   "outputs": [],
   "source": [
    "a = [1,2,3]\n",
    "a.insert(1,7)\n",
    "print(a)"
   ]
  }
 ],
 "metadata": {
  "kernelspec": {
   "display_name": "Python 3",
   "language": "python",
   "name": "python3"
  },
  "language_info": {
   "codemirror_mode": {
    "name": "ipython",
    "version": 3
   },
   "file_extension": ".py",
   "mimetype": "text/x-python",
   "name": "python",
   "nbconvert_exporter": "python",
   "pygments_lexer": "ipython3",
   "version": "3.7.0"
  }
 },
 "nbformat": 4,
 "nbformat_minor": 2
}
