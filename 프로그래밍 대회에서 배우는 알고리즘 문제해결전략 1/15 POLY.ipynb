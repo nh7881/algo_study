{
 "cells": [
  {
   "cell_type": "markdown",
   "metadata": {},
   "source": [
    "### POLY"
   ]
  },
  {
   "cell_type": "code",
   "execution_count": 23,
   "metadata": {},
   "outputs": [
    {
     "name": "stdout",
     "output_type": "stream",
     "text": [
      "4841817\n"
     ]
    }
   ],
   "source": [
    "# 한 줄마다 무조건 일자 <- 세로 단조다!\n",
    "cache = list()\n",
    "\n",
    "def Input() :\n",
    "    case_num = int(input())\n",
    "    multi_block = list()\n",
    "    for case in range(0, case_num) :\n",
    "        multi_block.append(int(input()))\n",
    "    return (case_num, multi_block)\n",
    "\n",
    "def poly(block, prev_block) :\n",
    "    if block == 0 :\n",
    "        return 1\n",
    "    ret = 0\n",
    "    global cache\n",
    "    #print(prev_block, block)\n",
    "    if cache[prev_block][block] != -1 :\n",
    "        return cache[prev_block][block]\n",
    "    for cur_block in range(1, block + 1) :\n",
    "        if prev_block == 0 :\n",
    "            ret += poly(block - cur_block, cur_block)\n",
    "        else :\n",
    "            ret += poly(block - cur_block, cur_block) * (cur_block + prev_block - 1)\n",
    "    #print(prev_block, block)\n",
    "    cache[prev_block][block] = ret\n",
    "    return ret\n",
    "\n",
    "def init_cache(block) :\n",
    "    global cache\n",
    "    cache = list()\n",
    "    for prev in range(0, block + 1) :\n",
    "        cache.append(list())\n",
    "        for cur in range(0, block + 1) :\n",
    "            cache[prev].append(-1)\n",
    "\n",
    "def main() :\n",
    "    [case_num, multi_block] = Input()\n",
    "    for case in range(0, case_num) :\n",
    "        block = multi_block[case]\n",
    "        init_cache(block)\n",
    "        \n",
    "    block = 92\n",
    "    init_cache(block)\n",
    "    res = poly(block, 0)\n",
    "    res = res % 10000000\n",
    "    print(res)\n",
    "    \n",
    "if __name__ == '__main__' :\n",
    "    main()"
   ]
  },
  {
   "cell_type": "code",
   "execution_count": null,
   "metadata": {},
   "outputs": [],
   "source": []
  }
 ],
 "metadata": {
  "kernelspec": {
   "display_name": "Python 3",
   "language": "python",
   "name": "python3"
  },
  "language_info": {
   "codemirror_mode": {
    "name": "ipython",
    "version": 3
   },
   "file_extension": ".py",
   "mimetype": "text/x-python",
   "name": "python",
   "nbconvert_exporter": "python",
   "pygments_lexer": "ipython3",
   "version": "3.7.4"
  }
 },
 "nbformat": 4,
 "nbformat_minor": 2
}
