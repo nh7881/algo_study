{
 "cells": [
  {
   "cell_type": "markdown",
   "metadata": {},
   "source": [
    "### 8 QUADTREE"
   ]
  },
  {
   "cell_type": "code",
   "execution_count": null,
   "metadata": {},
   "outputs": [],
   "source": [
    "def find_squar(letter, start) :\n",
    "    if(letter[start] == 'x') :\n",
    "        x_letter = 'x'\n",
    "        left = list()\n",
    "        right = list()\n",
    "        left.append(find_squar(letter, start + 1))\n",
    "        left.append(find_squar(letter, left[0][1] + 1))\n",
    "        right.append(find_squar(letter, left[1][1] + 1))\n",
    "        right.append(find_squar(letter, right[0][1] + 1))\n",
    "        res = x_letter + right[0][2] + right[1][2] + left[0][2] + left[1][2]\n",
    "        return [left[0][0] - 1, right[1][1], res]\n",
    "    else :\n",
    "        return [start, start, letter[start]]\n",
    "    \n",
    "def main() :\n",
    "    case_num = int(input())\n",
    "    multi_letter = list()\n",
    "    for case in range(0, case_num) :\n",
    "        multi_letter.append(input())    \n",
    "    for case in range(0, case_num) :\n",
    "        letter = multi_letter[case]\n",
    "        result = find_squar(letter, 0)\n",
    "        print(result[2])\n",
    "\n",
    "              \n",
    "if __name__ == '__main__' :\n",
    "    main()"
   ]
  }
 ],
 "metadata": {
  "kernelspec": {
   "display_name": "Python 3",
   "language": "python",
   "name": "python3"
  },
  "language_info": {
   "codemirror_mode": {
    "name": "ipython",
    "version": 3
   },
   "file_extension": ".py",
   "mimetype": "text/x-python",
   "name": "python",
   "nbconvert_exporter": "python",
   "pygments_lexer": "ipython3",
   "version": "3.7.4"
  }
 },
 "nbformat": 4,
 "nbformat_minor": 2
}
