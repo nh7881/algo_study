{
 "cells": [
  {
   "cell_type": "markdown",
   "metadata": {},
   "source": [
    "### 6 BORDARCORVER"
   ]
  },
  {
   "cell_type": "code",
   "execution_count": null,
   "metadata": {},
   "outputs": [],
   "source": [
    "#런타임 오류 : 배열 범위 벗어나는 핸들러 작성 미흡해서 났었음\n",
    "\n",
    "def main() :\n",
    "    case_num = int(input())\n",
    "    multi_height = list()\n",
    "    multi_length = list()\n",
    "    multi_board = list()\n",
    "    for case in range(0, case_num) :\n",
    "        h_w = input()\n",
    "        multi_height.append(int(h_w.split(\" \")[0]))\n",
    "        multi_length.append(int(h_w.split(\" \")[1]))\n",
    "        input_board = list()\n",
    "        for height in range(0, multi_height[case]) :\n",
    "            input_board.append(input())\n",
    "        multi_board.append(input_board)\n",
    "        \n",
    "    for case in range(0, case_num) :\n",
    "        height = multi_height[case]\n",
    "        length = multi_length[case]\n",
    "        board = multi_board[case]\n",
    "        result = put_block(board)\n",
    "        print(result)\n",
    "    \n",
    "    \n",
    "def search_position(board, height, length) :\n",
    "    for row in range(0, height) :\n",
    "        for col in range(0, length) :\n",
    "            if(board[row][col] == '.') :\n",
    "                pos =[row, col]\n",
    "                return pos\n",
    "    return -1\n",
    "\n",
    "def is_in(x, y, board) :\n",
    "    if(0 <= x and x < len(board[0]) and 0 <= y and y < len(board)) :\n",
    "        return True\n",
    "    return False\n",
    "\n",
    "def letter_switch(board, row, col, dy, dx, next_dy, next_dx, letter) :\n",
    "    board[row] = board[row][:col] + letter + board[row][col + 1:]\n",
    "    board[dy] = board[dy][:dx] + letter + board[dy][dx + 1:]\n",
    "    board[next_dy] = board[next_dy][:next_dx] + letter + board[next_dy][next_dx + 1:]\n",
    "\n",
    "def put_block(board) :\n",
    "    block_y = [1,1,0,1,1,1,0,1]\n",
    "    block_x = [0,1,1,1,0,-1,1,0]\n",
    "    res = 0\n",
    "    start = search_position(board, len(board), len(board[0]))\n",
    "    if(start is -1) :\n",
    "        return 1\n",
    "    row = start[0]\n",
    "    col = start[1]\n",
    "    for block_no in range(0,4) :\n",
    "        pos = block_no * 2\n",
    "        dy = row + block_y[pos]\n",
    "        dx = col + block_x[pos]\n",
    "        next_dy = row + block_y[pos + 1]\n",
    "        next_dx = col + block_x[pos + 1]\n",
    "        if(is_in(dx, dy, board) == True and is_in(next_dx, next_dy, board) == True) :\n",
    "            if(board[dy][dx] == '.' and board[next_dy][next_dx] == '.') :\n",
    "                letter_switch(board, row, col, dy, dx, next_dy, next_dx, '#')\n",
    "                res += put_block(board)\n",
    "                letter_switch(board, row, col, dy, dx, next_dy, next_dx, '.')    \n",
    "    return res\n",
    "\n",
    "if __name__ == '__main__' :\n",
    "    main()\n",
    "                "
   ]
  }
 ],
 "metadata": {
  "kernelspec": {
   "display_name": "Python 3",
   "language": "python",
   "name": "python3"
  },
  "language_info": {
   "codemirror_mode": {
    "name": "ipython",
    "version": 3
   },
   "file_extension": ".py",
   "mimetype": "text/x-python",
   "name": "python",
   "nbconvert_exporter": "python",
   "pygments_lexer": "ipython3",
   "version": "3.7.4"
  }
 },
 "nbformat": 4,
 "nbformat_minor": 2
}
