{
 "cells": [
  {
   "cell_type": "markdown",
   "metadata": {},
   "source": [
    "### 2 문제 순서는 난이도 순이 아닙니다"
   ]
  },
  {
   "cell_type": "code",
   "execution_count": null,
   "metadata": {},
   "outputs": [],
   "source": [
    "#입력 받기\n",
    "def prb_hard_input(problem_num, hards, case) :\n",
    "    problem_num.append(int(input()))\n",
    "    hards.append(input())\n",
    "    hards[case] = hards[case].split(\" \")\n",
    "\n",
    "# 난이도 순서로 정렬 되어있는지 확인하고 수 세기\n",
    "def check_hard_sorting_add(hard_sort, hards, index, case) :\n",
    "    if(int(hards[case][index]) == (index + 1)) :\n",
    "                return hard_sort + 1\n",
    "    return hard_sort\n",
    "\n",
    "def main() :\n",
    "    case_num = int(input())\n",
    "    problem_num = list()\n",
    "    hards = list()\n",
    "    hard_sort = 0\n",
    "    for case in range(0, case_num) :\n",
    "        prb_hard_input(problem_num, hards, case)\n",
    "        \n",
    "    for case in range(0, case_num) :\n",
    "        for index in range(0, problem_num[case]) :\n",
    "            hard_sort = check_hard_sorting_add(hard_sort, hards, index, case)\n",
    "        print(hard_sort)\n",
    "        hard_sort = 0\n",
    "    \n",
    "'''\n",
    "2차원 해야하는데 1차원으로하고 1차원은 0차원으로 해서 삽질했었음\n",
    "'''\n",
    "    \n",
    "if __name__ == \"__main__\" :\n",
    "    main()\n"
   ]
  }
 ],
 "metadata": {
  "kernelspec": {
   "display_name": "Python 3",
   "language": "python",
   "name": "python3"
  },
  "language_info": {
   "codemirror_mode": {
    "name": "ipython",
    "version": 3
   },
   "file_extension": ".py",
   "mimetype": "text/x-python",
   "name": "python",
   "nbconvert_exporter": "python",
   "pygments_lexer": "ipython3",
   "version": "3.7.4"
  }
 },
 "nbformat": 4,
 "nbformat_minor": 2
}
