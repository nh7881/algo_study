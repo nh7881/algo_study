{
 "cells": [
  {
   "cell_type": "markdown",
   "metadata": {},
   "source": [
    "### 18 Quantization O(sn^3)"
   ]
  },
  {
   "cell_type": "code",
   "execution_count": 54,
   "metadata": {},
   "outputs": [
    {
     "name": "stdout",
     "output_type": "stream",
     "text": [
      "1\n",
      "1 1\n",
      "4\n",
      "0\n"
     ]
    }
   ],
   "source": [
    "import math\n",
    "\n",
    "sequence = list()\n",
    "cache = list()\n",
    "\n",
    "def quantization(start, comp) :\n",
    "    global sequence\n",
    "    ret = math.inf\n",
    "    if start + 1 == len(sequence) :\n",
    "        return 0\n",
    "    global cache\n",
    "    if cache[start][comp] != -1 :\n",
    "        return cache[start][comp]\n",
    "    if comp == 1:\n",
    "        return scoring(start, len(sequence))\n",
    "    for cut in range(start + 1, len(sequence)) :\n",
    "        score = scoring(start, cut)\n",
    "        ret = min(ret, score + quantization(cut, comp - 1))\n",
    "    cache[start][comp] = ret\n",
    "    return ret\n",
    "\n",
    "def scoring(start, end) :\n",
    "    total = 0\n",
    "    global sequence\n",
    "    for i in range(start, end) :\n",
    "        total += sequence[i]\n",
    "    mean = int(total / (end - start) + 0.5)\n",
    "    ret = 0\n",
    "    for j in range(start, end) :\n",
    "        ret += pow(sequence[j] - mean, 2)\n",
    "    return ret\n",
    "\n",
    "def init_cache(comp) :\n",
    "    global cache\n",
    "    cache = list()\n",
    "    for size in range(0, len(sequence)) :\n",
    "        cache.append(list())\n",
    "        for comp_size in range(0, comp + 1) :\n",
    "            cache[size].append(-1)\n",
    "\n",
    "def Input() :\n",
    "    case_num = int(input())\n",
    "    multi_comp = list()\n",
    "    multi_sequence = list()\n",
    "    for case in range(0, case_num) :\n",
    "        multi_comp.append(int(input().split(' ')[1]))\n",
    "        input_sequence = input().split(' ')\n",
    "        temp_sequence = list()\n",
    "        for num in range(0, len(input_sequence)) :\n",
    "            temp_sequence.append(int(input_sequence[num]))\n",
    "        multi_sequence.append(temp_sequence)\n",
    "    return (case_num, multi_comp, multi_sequence)\n",
    "            \n",
    "def main() :\n",
    "    #input_sequence = [3,1,2]\n",
    "    #input_sequence = [1, 744, 755, 4, 897, 902, 890, 6, 777]\n",
    "    [case_num, multi_comp, multi_sequence] = Input()\n",
    "    for case in range(0, case_num) :\n",
    "        global sequence\n",
    "        input_sequence = multi_sequence[case]\n",
    "        comp = multi_comp[case]\n",
    "        sequence = sorted(input_sequence)\n",
    "        init_cache(comp)\n",
    "        res = quantization(0, comp)\n",
    "        print(res)\n",
    "    \n",
    "if __name__ == '__main__' :\n",
    "    main()"
   ]
  },
  {
   "cell_type": "code",
   "execution_count": 3,
   "metadata": {},
   "outputs": [
    {
     "name": "stdout",
     "output_type": "stream",
     "text": [
      "[4, 1, 2, 3]\n",
      "[1, 2, 3, 4]\n"
     ]
    }
   ],
   "source": [
    "a = [4,1,2,3]\n",
    "print(a)\n",
    "a = sorted(a)\n",
    "print(a)"
   ]
  }
 ],
 "metadata": {
  "kernelspec": {
   "display_name": "Python 3",
   "language": "python",
   "name": "python3"
  },
  "language_info": {
   "codemirror_mode": {
    "name": "ipython",
    "version": 3
   },
   "file_extension": ".py",
   "mimetype": "text/x-python",
   "name": "python",
   "nbconvert_exporter": "python",
   "pygments_lexer": "ipython3",
   "version": "3.7.4"
  }
 },
 "nbformat": 4,
 "nbformat_minor": 2
}
