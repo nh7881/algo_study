{
 "cells": [
  {
   "cell_type": "markdown",
   "metadata": {},
   "source": [
    "# 29 FORTRESS"
   ]
  },
  {
   "cell_type": "code",
   "execution_count": 58,
   "metadata": {},
   "outputs": [
    {
     "name": "stdout",
     "output_type": "stream",
     "text": [
      "1\n",
      "3\n",
      "5 5 15\n",
      "5 5 5\n",
      "5 5 10\n",
      "2\n"
     ]
    }
   ],
   "source": [
    "class Tree :\n",
    "    def __init__(self, Root) :\n",
    "        self.root = Root\n",
    "    # 자식 중에 포함하는게 없다면 그냥 add_child 있다면 그 자식으로 들어가서 add_child 반복\n",
    "    # ret = max(ret, add_child) <- 자식 생성할 때마다\n",
    "    def add_child(self, par, node) :\n",
    "        for i, chi in enumerate(par.child) :\n",
    "            if (chi.x - node.x) ** 2 + (chi.y - node.y) ** 2 <= chi.r ** 2 :\n",
    "                #print('{} {} {}안에 {} {} {}있다'.format(par.x, par.y, par.r, node.x, node.y, node.r))\n",
    "                ret, chi_max_depth = self.add_child(chi, node)\n",
    "                temp = self.comp_depth(par, chi_max_depth + 1, i)\n",
    "                ret = max(temp[0], ret)\n",
    "                return ret, temp[1]\n",
    "        #print('{} {} {}안에 {} {} {}있다'.format(par.x, par.y, par.r, node.x, node.y, node.r))\n",
    "        par.child.append(node)\n",
    "        par.child_depths.append(0)\n",
    "        return self.comp_depth(par, 1, len(par.child) - 1)\n",
    "    \n",
    "    def comp_depth(self, node, new_depth, i) :\n",
    "        if node.child_depths[i] < new_depth :\n",
    "            node.child_depths[i] = new_depth\n",
    "        if len(node.child) == 1 :\n",
    "            return node.child_depths[0], node.child_depths[0]\n",
    "        first_max = 0\n",
    "        second_max = 0\n",
    "        for depths in node.child_depths :\n",
    "            if second_max <= depths :\n",
    "                if first_max <= depths :\n",
    "                    second_max = first_max\n",
    "                    first_max = depths\n",
    "                else :\n",
    "                    second_max = depths\n",
    "        return second_max + first_max, first_max\n",
    "    \n",
    "class Node :\n",
    "    def __init__(self, info) :\n",
    "        self.child = []\n",
    "        self.x = info[0]\n",
    "        self.y = info[1]\n",
    "        self.r = info[2]\n",
    "        self.child_depths = []\n",
    "\n",
    "def Input() :\n",
    "    wall_num = int(input())\n",
    "    wall_infos = []\n",
    "    for wall in range(wall_num) :\n",
    "        wall_infos.append(list(map(int, input().split())))\n",
    "    return wall_infos\n",
    "        \n",
    "def main() :\n",
    "    case_num = int(input())\n",
    "    #case_num = 2\n",
    "    for case in range(case_num) :\n",
    "        wall_infos = Input()\n",
    "        #test_wall_infos = [[[5,5,15], [5,5,5], [5,5,10], [5,5,1]], [[21,15,20],[19,19,2],[12,12,3], [13,12,5], [15,15,10], [30, 24, 5], [32,10,7],[32,9,4]]]\n",
    "        #wall_infos = test_wall_infos[case]\n",
    "        wall_infos.sort(key = lambda info : info[2], reverse = True)\n",
    "        tree = Tree(Node(wall_infos[0]))\n",
    "        ret = 0\n",
    "        for wall in range(1, len(wall_infos)) :\n",
    "            node = Node(wall_infos[wall])\n",
    "            temp = tree.add_child(tree.root, node)\n",
    "            #print(ret, temp)\n",
    "            ret = max(ret, temp[0])\n",
    "        print(ret)\n",
    "\n",
    "if __name__ == '__main__' :\n",
    "    main()"
   ]
  }
 ],
 "metadata": {
  "kernelspec": {
   "display_name": "Python 3",
   "language": "python",
   "name": "python3"
  },
  "language_info": {
   "codemirror_mode": {
    "name": "ipython",
    "version": 3
   },
   "file_extension": ".py",
   "mimetype": "text/x-python",
   "name": "python",
   "nbconvert_exporter": "python",
   "pygments_lexer": "ipython3",
   "version": "3.7.0"
  }
 },
 "nbformat": 4,
 "nbformat_minor": 2
}
