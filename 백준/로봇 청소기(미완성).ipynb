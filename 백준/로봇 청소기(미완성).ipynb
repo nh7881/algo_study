{
 "cells": [
  {
   "cell_type": "markdown",
   "metadata": {},
   "source": [
    "### 로봇 청소기"
   ]
  },
  {
   "cell_type": "code",
   "execution_count": 24,
   "metadata": {},
   "outputs": [
    {
     "name": "stdout",
     "output_type": "stream",
     "text": [
      "57\n"
     ]
    }
   ],
   "source": [
    "board = []\n",
    "\n",
    "def cleaner(x, y, direct) :\n",
    "    global board\n",
    "    dy = [0, 1, 0, -1]\n",
    "    dx = [-1, 0, 1, 0]\n",
    "    back_dy = [1, 0, -1, 0]\n",
    "    back_dx = [0, 1, 0, -1]\n",
    "    clean_num = 0\n",
    "    is_one = True\n",
    "    while True :\n",
    "        #print(y, x, board[y][x])\n",
    "        if is_one == True :\n",
    "            if board[y][x] == 0 :\n",
    "                clean_num += 1\n",
    "                board[y][x] = -1\n",
    "        is_clean = False\n",
    "        for index in range(direct, direct + 4) :\n",
    "            index = index % 4\n",
    "            pos_x = x + dx[index]\n",
    "            pos_y = y + dy[index]\n",
    "            if board[pos_y][pos_x] == 0 :\n",
    "                is_clean = True\n",
    "                x = pos_x\n",
    "                y = pos_y\n",
    "                direct = (index + 1) % 4\n",
    "                is_one = True\n",
    "                break\n",
    "        if is_clean == False :\n",
    "            direct = (direct + 4) % 4\n",
    "            x = x + back_dx[direct]\n",
    "            y = y + back_dy[direct]\n",
    "            if board[y][x] == 1 :\n",
    "                return clean_num\n",
    "            is_one = False\n",
    "\n",
    "def Input() :\n",
    "    row_num = int(input().split(' ')[0])\n",
    "    x_y_d = input().split(' ')\n",
    "    x = int(x_y_d[0])\n",
    "    y = int(x_y_d[1])\n",
    "    direct = int(x_y_d[2])\n",
    "    board = []\n",
    "    for row in range(0, row_num) :\n",
    "        board.append(list(map(int, input().split(' '))))\n",
    "    return (x, y, direct, board)\n",
    "        \n",
    "            \n",
    "            \n",
    "def main() :\n",
    "    x = 4\n",
    "    y = 7\n",
    "    direct = 0\n",
    "    global board\n",
    "    [x, y, direct, board] = Input()\n",
    "    #board = [[1, 1, 1], [1, 0, 1],[1, 1, 1]]\n",
    "    board = [[1, 1, 1, 1, 1, 1, 1, 1, 1, 1], [1, 0, 0, 0, 0, 0, 0, 0, 0, 1], [1, 0, 0, 0, 1, 1, 1, 1, 0, 1], [1, 0, 0, 1, 1, 0, 0, 0, 0, 1], [1, 0, 1, 1, 0, 0, 0, 0, 0, 1], [1, 0, 0, 0, 0, 0, 0, 0, 0, 1], [1, 0, 0, 0, 0, 0, 0, 1, 0, 1], [1, 0, 0, 0, 0, 0, 1, 1, 0, 1], [1, 0, 0, 0, 0, 0, 1, 1, 0, 1], [1, 0, 0, 0, 0, 0, 0, 0, 0, 1], [1, 1, 1, 1, 1, 1, 1, 1, 1, 1]]\n",
    "    res = cleaner(x, y, direct)\n",
    "    print(res)\n",
    "    \n",
    "if __name__ == '__main__' :\n",
    "    main()"
   ]
  },
  {
   "cell_type": "code",
   "execution_count": null,
   "metadata": {},
   "outputs": [],
   "source": []
  }
 ],
 "metadata": {
  "kernelspec": {
   "display_name": "Python 3",
   "language": "python",
   "name": "python3"
  },
  "language_info": {
   "codemirror_mode": {
    "name": "ipython",
    "version": 3
   },
   "file_extension": ".py",
   "mimetype": "text/x-python",
   "name": "python",
   "nbconvert_exporter": "python",
   "pygments_lexer": "ipython3",
   "version": "3.7.0"
  }
 },
 "nbformat": 4,
 "nbformat_minor": 2
}
