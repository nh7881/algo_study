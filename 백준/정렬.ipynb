{
 "cells": [
  {
   "cell_type": "code",
   "execution_count": 4,
   "metadata": {},
   "outputs": [
    {
     "name": "stdout",
     "output_type": "stream",
     "text": [
      "7\n",
      "5\n",
      "6\n",
      "7\n",
      "9\n",
      "2\n",
      "2\n",
      "3\n",
      "2\n",
      "2\n",
      "3\n",
      "5\n",
      "6\n",
      "7\n",
      "9\n"
     ]
    }
   ],
   "source": [
    "# 1. 수 정렬하기\n",
    "def bubble(arr) :\n",
    "    for n in range(len(arr) - 1) :\n",
    "        for index in range(len(arr) - 1 - n) :\n",
    "            if arr[index] > arr[index + 1] :\n",
    "                temp = arr[index + 1]\n",
    "                arr[index + 1] = arr[index]\n",
    "                arr[index] = temp\n",
    "    return arr\n",
    "arr = []\n",
    "for case in range(int(input())) :\n",
    "    arr.append(int(input()))\n",
    "res = bubble(arr)\n",
    "for num in res :\n",
    "    print(num)"
   ]
  },
  {
   "cell_type": "code",
   "execution_count": 44,
   "metadata": {},
   "outputs": [
    {
     "name": "stdout",
     "output_type": "stream",
     "text": [
      "5\n",
      "5\n",
      "4\n",
      "32\n",
      "2\n",
      "5\n",
      "2\n",
      "4\n",
      "5\n",
      "5\n",
      "32\n"
     ]
    }
   ],
   "source": [
    "# 2. 수 정렬하기 2\n",
    "def merge(start, end) :\n",
    "    if end - start == 1 :\n",
    "        return \n",
    "    mid = int((end + start) / 2)\n",
    "    merge(start, mid)\n",
    "    merge(mid, end)\n",
    "    left_pos = start\n",
    "    right_pos = mid\n",
    "    ret = []\n",
    "    global arr\n",
    "    while left_pos < mid and right_pos < end:\n",
    "        if arr[left_pos] <= arr[right_pos] :\n",
    "            ret.append(arr[left_pos])\n",
    "            left_pos += 1\n",
    "        else :\n",
    "            ret.append(arr[right_pos])\n",
    "            right_pos += 1\n",
    "    ret = ret + arr[left_pos : mid] + arr[right_pos : end]\n",
    "    for index in range(start, end) :\n",
    "        arr[index] = ret[index - start]\n",
    "arr = []\n",
    "for case in range(int(input())) :\n",
    "    arr.append(int(input()))\n",
    "merge(0, len(arr))\n",
    "for num in arr :\n",
    "    print(num)"
   ]
  },
  {
   "cell_type": "code",
   "execution_count": 46,
   "metadata": {},
   "outputs": [
    {
     "name": "stdout",
     "output_type": "stream",
     "text": [
      "5\n",
      "5\n",
      "4\n",
      "3\n",
      "2\n",
      "1\n",
      "1\n",
      "2\n",
      "3\n",
      "4\n",
      "5\n"
     ]
    }
   ],
   "source": [
    "# 3. 수 정렬하기 3\n",
    "arr = [0] * 10000\n",
    "for case in range(int(input())) :\n",
    "    num = int(input()) - 1\n",
    "    arr[num] += 1\n",
    "for index in range(len(arr)) :\n",
    "    val = arr[index]\n",
    "    index += 1\n",
    "    for loop in range(val) :\n",
    "        print(index)"
   ]
  },
  {
   "cell_type": "code",
   "execution_count": 61,
   "metadata": {},
   "outputs": [
    {
     "name": "stdout",
     "output_type": "stream",
     "text": [
      "1\n",
      "4000\n",
      "4000\n",
      "4000\n",
      "4000\n",
      "0\n"
     ]
    }
   ],
   "source": [
    "# 4. 통계학\n",
    "import sys\n",
    "arr = []\n",
    "for case in range(int(input())) :\n",
    "    arr.append(int(sys.stdin.readline()))\n",
    "arr.sort()\n",
    "mean = round(sum(arr) / len(arr))\n",
    "center = arr[int(len(arr) / 2)]\n",
    "temp = None\n",
    "preq = []\n",
    "start = 0\n",
    "rang = arr[-1] - arr[0]\n",
    "for index, val in enumerate(arr) :\n",
    "    if temp != val :\n",
    "        preq.append([index - start, temp])\n",
    "        temp = val\n",
    "        start = index\n",
    "preq.append([len(arr) - start, arr[-1]])\n",
    "preq.sort(key = lambda prequence : -prequence[0])\n",
    "if preq[0][0] == preq[1][0] :\n",
    "    most_preq = preq[1][1]\n",
    "else :\n",
    "    most_preq = preq[0][1]\n",
    "print(mean)\n",
    "print(center)\n",
    "print(most_preq)\n",
    "print(rang)\n"
   ]
  },
  {
   "cell_type": "code",
   "execution_count": 64,
   "metadata": {},
   "outputs": [
    {
     "name": "stdout",
     "output_type": "stream",
     "text": [
      "2143\n",
      "4321\n"
     ]
    }
   ],
   "source": [
    "# 5. 소트인사이드\n",
    "num = int(input())\n",
    "arr = []\n",
    "while num > 0 :\n",
    "    arr.append(num % 10)\n",
    "    num = int(num / 10)\n",
    "arr.sort()\n",
    "res = 0\n",
    "n = 0\n",
    "for val in arr :\n",
    "    res += val * (10 ** n)\n",
    "    n += 1\n",
    "print(res)"
   ]
  },
  {
   "cell_type": "code",
   "execution_count": 67,
   "metadata": {},
   "outputs": [
    {
     "name": "stdout",
     "output_type": "stream",
     "text": [
      "5\n",
      "1 1\n",
      "1 2\n",
      "1 4\n",
      "1 3\n",
      "1 -1\n",
      "1 -1\n",
      "1 1\n",
      "1 2\n",
      "1 3\n",
      "1 4\n"
     ]
    }
   ],
   "source": [
    "# 6. 좌표 정렬하기\n",
    "import sys\n",
    "arr = []\n",
    "for case in range(int(input())) :\n",
    "    arr.append(list(map(int, input().split(' '))))\n",
    "arr.sort()\n",
    "for val in arr :\n",
    "    print(val[0], val[1])"
   ]
  },
  {
   "cell_type": "code",
   "execution_count": 69,
   "metadata": {},
   "outputs": [
    {
     "name": "stdout",
     "output_type": "stream",
     "text": [
      "5\n",
      "6 2\n",
      "1 2\n",
      "7 2\n",
      "4 2\n",
      "3 2\n",
      "1 2\n",
      "3 2\n",
      "4 2\n",
      "6 2\n",
      "7 2\n"
     ]
    }
   ],
   "source": [
    "# 7. 좌표 정렬하기\n",
    "import sys\n",
    "arr = []\n",
    "for case in range(int(input())) :\n",
    "    arr.append(list(map(int, input().split(' '))))\n",
    "arr.sort(key = lambda mini : [mini[1], mini[0]])\n",
    "for val in arr :\n",
    "    print(val[0], val[1])"
   ]
  },
  {
   "cell_type": "code",
   "execution_count": 72,
   "metadata": {},
   "outputs": [
    {
     "name": "stdout",
     "output_type": "stream",
     "text": [
      "5\n",
      "abc\n",
      "abc\n",
      "adfe\n",
      "fdse\n",
      "wad\n",
      "abc\n",
      "wad\n",
      "adfe\n",
      "fdse\n"
     ]
    }
   ],
   "source": [
    "# 8. 단어 정렬\n",
    "import sys\n",
    "arr = []\n",
    "for case in range(int(input())) :\n",
    "    arr.append(input())\n",
    "arr.sort(key = lambda mini : [len(mini), mini])\n",
    "res = [arr[0]]\n",
    "for index in range(1, len(arr)) :\n",
    "    if arr[index - 1] != arr[index] :\n",
    "        res.append(arr[index])\n",
    "for val in res :\n",
    "    print(str(val))"
   ]
  },
  {
   "cell_type": "code",
   "execution_count": 73,
   "metadata": {},
   "outputs": [
    {
     "name": "stdout",
     "output_type": "stream",
     "text": [
      "5\n",
      "20 sdfds\n",
      "21 dsfadf\n",
      "20 werwetert\n",
      "11 ads\n",
      "12 sfdasfd\n",
      "11 ads\n",
      "12 sfdasfd\n",
      "20 sdfds\n",
      "20 werwetert\n",
      "21 dsfadf\n"
     ]
    }
   ],
   "source": [
    "# 9. 나이순 정렬\n",
    "import sys\n",
    "arr = []\n",
    "for case in range(int(input())) :\n",
    "    user = input().split(' ')\n",
    "    arr.append([int(user[0]), user[1]])\n",
    "arr.sort(key = lambda mini : mini[0])\n",
    "for val in arr :\n",
    "    print(val[0], val[1])"
   ]
  }
 ],
 "metadata": {
  "kernelspec": {
   "display_name": "Python 3",
   "language": "python",
   "name": "python3"
  },
  "language_info": {
   "codemirror_mode": {
    "name": "ipython",
    "version": 3
   },
   "file_extension": ".py",
   "mimetype": "text/x-python",
   "name": "python",
   "nbconvert_exporter": "python",
   "pygments_lexer": "ipython3",
   "version": "3.7.4"
  }
 },
 "nbformat": 4,
 "nbformat_minor": 2
}
