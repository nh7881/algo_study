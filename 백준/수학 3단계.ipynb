{
 "cells": [
  {
   "cell_type": "markdown",
   "metadata": {},
   "source": [
    "### 수학 3단계"
   ]
  },
  {
   "cell_type": "code",
   "execution_count": null,
   "metadata": {},
   "outputs": [],
   "source": [
    "# 1. 배수와 약수\n",
    "# 두 수의 대소 비교\n",
    "# a가 b보다 작다면 a가 b의 약수인지 확인\n",
    "# a가 b보다 크다면 a가 b의 배수인지 확인\n",
    "\n",
    "def check(a, b) :\n",
    "    mod = b % a\n",
    "    return mod == 0\n",
    "\n",
    "nums = list(map(int, input().split()))\n",
    "while nums != [0, 0] :\n",
    "    a, b = nums[0], nums[1]\n",
    "    if check(min(a, b), max(a,b)) :\n",
    "        if a < b :\n",
    "            print('factor')\n",
    "        else :\n",
    "            print('multiple')\n",
    "    else :\n",
    "        print('neither')\n",
    "    nums = list(map(int, input().split()))"
   ]
  },
  {
   "cell_type": "code",
   "execution_count": null,
   "metadata": {},
   "outputs": [],
   "source": [
    "# 2. 약수\n",
    "input()\n",
    "real_factor = list(map(int, input().split()))\n",
    "real_factor.sort()\n",
    "print(real_factor[0] * real_factor[-1])"
   ]
  },
  {
   "cell_type": "code",
   "execution_count": 18,
   "metadata": {},
   "outputs": [
    {
     "name": "stdout",
     "output_type": "stream",
     "text": [
      "9\n",
      "3\n",
      "3\n"
     ]
    }
   ],
   "source": [
    "# 3. 소인수분해\n",
    "num = int(input())\n",
    "while num != 1 :\n",
    "    for i in range(2, num + 1) :\n",
    "        if num % i == 0:\n",
    "            num = int(num / i)\n",
    "            print(i)\n",
    "            break"
   ]
  },
  {
   "cell_type": "code",
   "execution_count": 10,
   "metadata": {},
   "outputs": [
    {
     "name": "stdout",
     "output_type": "stream",
     "text": [
      "18 21\n",
      "3\n",
      "126\n"
     ]
    }
   ],
   "source": [
    "#4. 최대공약수와 최소공배수\n",
    "def gcd (a, b):\n",
    "    while b != 0 :\n",
    "        mod = a % b\n",
    "        a = b\n",
    "        b = mod\n",
    "    return a\n",
    "\n",
    "def lcm(a, b):\n",
    "    return int(a * b / gcd(a, b))\n",
    "\n",
    "nums = list(map(int, input().split()))\n",
    "a, b = max(nums[0], nums[1]), min(nums[0], nums[1])\n",
    "print(gcd(a, b))\n",
    "print(lcm(a, b))"
   ]
  },
  {
   "cell_type": "code",
   "execution_count": null,
   "metadata": {},
   "outputs": [],
   "source": []
  }
 ],
 "metadata": {
  "kernelspec": {
   "display_name": "Python 3",
   "language": "python",
   "name": "python3"
  },
  "language_info": {
   "codemirror_mode": {
    "name": "ipython",
    "version": 3
   },
   "file_extension": ".py",
   "mimetype": "text/x-python",
   "name": "python",
   "nbconvert_exporter": "python",
   "pygments_lexer": "ipython3",
   "version": "3.7.4"
  }
 },
 "nbformat": 4,
 "nbformat_minor": 2
}
