{
 "cells": [
  {
   "cell_type": "markdown",
   "metadata": {},
   "source": [
    "# 나무자르기"
   ]
  },
  {
   "cell_type": "code",
   "execution_count": 3,
   "metadata": {},
   "outputs": [
    {
     "name": "stdout",
     "output_type": "stream",
     "text": [
      "0\n",
      "test sucess\n"
     ]
    }
   ],
   "source": [
    "test =  True\n",
    "if test :\n",
    "    m = 5\n",
    "    trees = [5]\n",
    "else :\n",
    "    m = int(input().split()[1])\n",
    "    trees = sorted(list(map(int, input().split())), reverse=True)\n",
    "\n",
    "trees.append(0)\n",
    "idx = 0\n",
    "res = trees[idx]\n",
    "diff = (trees[idx] - trees[idx+1])\n",
    "diff_n = diff * (idx+1)\n",
    "while diff_n <= m and idx+1<len(trees):\n",
    "    m -= diff_n\n",
    "    res -= diff\n",
    "    idx += 1\n",
    "    diff = (trees[idx] - trees[min(idx+1, len(trees)-1)])\n",
    "    diff_n = diff * (idx+1)\n",
    "remain = m // (idx+1)\n",
    "res -= remain\n",
    "if remain != m/(idx+1) :\n",
    "    res -= 1\n",
    "\n",
    "print(res)\n",
    "if res == 0 :\n",
    "    print('test sucess')\n",
    "else :\n",
    "    print('test fail')"
   ]
  },
  {
   "cell_type": "code",
   "execution_count": null,
   "metadata": {},
   "outputs": [],
   "source": []
  }
 ],
 "metadata": {
  "kernelspec": {
   "display_name": "Python 3",
   "language": "python",
   "name": "python3"
  },
  "language_info": {
   "codemirror_mode": {
    "name": "ipython",
    "version": 3
   },
   "file_extension": ".py",
   "mimetype": "text/x-python",
   "name": "python",
   "nbconvert_exporter": "python",
   "pygments_lexer": "ipython3",
   "version": "3.8.3"
  }
 },
 "nbformat": 4,
 "nbformat_minor": 4
}
