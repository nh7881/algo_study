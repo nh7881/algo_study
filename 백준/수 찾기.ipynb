{
 "cells": [
  {
   "cell_type": "markdown",
   "metadata": {},
   "source": [
    "# 수 찾기"
   ]
  },
  {
   "cell_type": "code",
   "execution_count": null,
   "metadata": {},
   "outputs": [],
   "source": [
    "def binary_search(array, start, end, num) :\n",
    "    mid = (start+end)//2\n",
    "    if start > end :\n",
    "        return -1\n",
    "    if array[mid] > num : # 등호 여부에 따라 이상 이하 왼족 오른쪽이 바뀜, 등호 있을 시 이상 왼쪽\n",
    "        end = mid - 1\n",
    "    elif array[mid] < num :\n",
    "        start = mid+1\n",
    "    else :\n",
    "        return mid\n",
    "    ret = binary_search(array, start, end, num)\n",
    "    return ret\n",
    "\n",
    "input()\n",
    "arr = sorted(list(map(int, input().split())))\n",
    "input()\n",
    "target_list = list(map(int, input().split()))\n",
    "res_list = list(map(lambda x: 1 if binary_search(arr, 0, len(arr)-1, x) != -1 else 0, target_list))\n",
    "for res in res_list :\n",
    "    print(res)"
   ]
  }
 ],
 "metadata": {
  "kernelspec": {
   "display_name": "Python 3",
   "language": "python",
   "name": "python3"
  },
  "language_info": {
   "codemirror_mode": {
    "name": "ipython",
    "version": 3
   },
   "file_extension": ".py",
   "mimetype": "text/x-python",
   "name": "python",
   "nbconvert_exporter": "python",
   "pygments_lexer": "ipython3",
   "version": "3.8.3"
  }
 },
 "nbformat": 4,
 "nbformat_minor": 4
}
