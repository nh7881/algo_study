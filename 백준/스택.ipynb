{
 "cells": [
  {
   "cell_type": "markdown",
   "metadata": {},
   "source": [
    "### 스택"
   ]
  },
  {
   "cell_type": "code",
   "execution_count": 4,
   "metadata": {},
   "outputs": [
    {
     "name": "stdout",
     "output_type": "stream",
     "text": [
      "1\n",
      "push 1\n"
     ]
    }
   ],
   "source": [
    "# 1. 스택\n",
    "'''\n",
    "push X: 정수 X를 스택에 넣는 연산이다.\n",
    "pop: 스택에서 가장 위에 있는 정수를 빼고, 그 수를 출력한다. 만약 스택에 들어있는 정수가 없는 경우에는 -1을 출력한다.\n",
    "size: 스택에 들어있는 정수의 개수를 출력한다.\n",
    "empty: 스택이 비어있으면 1, 아니면 0을 출력한다.\n",
    "top: 스택의 가장 위에 있는 정수를 출력한다. 만약 스택에 들어있는 정수가 없는 경우에는 -1을 출력한다.\n",
    "'''\n",
    "class Stack :\n",
    "    def __init__(self) :\n",
    "        self.space = []\n",
    "        self.pointer = -1\n",
    "        self.size = 0\n",
    "    def push(self, x) :\n",
    "        self.space.append(x)\n",
    "        self.pointer += 1\n",
    "        self.size += 1\n",
    "    def pop(self) :\n",
    "        try :\n",
    "            res = self.space.pop()\n",
    "            self.pointer -= 1\n",
    "            self.size -= 1\n",
    "        except :\n",
    "            res = -1\n",
    "        return res\n",
    "    def Size(self) :\n",
    "        return res\n",
    "    def empty(self) :\n",
    "        if self.space == [] :\n",
    "            res = 1\n",
    "        else :\n",
    "            res = 0\n",
    "        return res\n",
    "    def top(self) :\n",
    "        try :\n",
    "            res = self.space[self.pointer]\n",
    "        except :\n",
    "            res = -1\n",
    "        return res\n",
    "\n",
    "stack = Stack()\n",
    "for loop in range(int(input())) :\n",
    "    cmd = input().split()\n",
    "    if cmd[0] == 'push' :\n",
    "        stack.push(cmd[1])\n",
    "    elif cmd[0] == 'pop' :\n",
    "        print(stack.pop())\n",
    "    elif cmd[0] == 'size' :\n",
    "        print(stack.Size())\n",
    "    elif cmd[0] == 'empty' :\n",
    "        print(stack.empty())\n",
    "    elif cmd[0] == 'top' :\n",
    "        print(stack.top())\n"
   ]
  },
  {
   "cell_type": "code",
   "execution_count": null,
   "metadata": {},
   "outputs": [],
   "source": [
    "# 2. 제로\n",
    "stack = Stack()\n",
    "for loop in range(int(input())) :\n",
    "    num = int(input())\n",
    "    if num == 0 :\n",
    "        stack.pop()\n",
    "    else :\n",
    "        stack.push(num)\n",
    "print(sum(stack.space))"
   ]
  },
  {
   "cell_type": "code",
   "execution_count": null,
   "metadata": {},
   "outputs": [],
   "source": [
    "# 3. 괄호\n",
    "def check_open() :\n",
    "    stack = Stack()\n",
    "    yes = 'YES'\n",
    "    no = 'NO'\n",
    "    ret = 'not'\n",
    "    for letter in input() :\n",
    "        if letter == '(' :\n",
    "            stack.push(letter)\n",
    "        elif letter == ')' :\n",
    "            if stack.pop() == -1 :\n",
    "                ret = no\n",
    "                return ret\n",
    "    if stack.empty() == 1 :\n",
    "        ret = yes\n",
    "    else :\n",
    "        ret = no\n",
    "    return ret\n",
    "\n",
    "for loop in range(int(input())) :\n",
    "    res = check_open()\n",
    "    print(res)"
   ]
  },
  {
   "cell_type": "code",
   "execution_count": 6,
   "metadata": {},
   "outputs": [
    {
     "name": "stdout",
     "output_type": "stream",
     "text": [
      "So when I die (the [first] I will see in (heaven) is a score list).\n",
      "yes\n",
      "[ first in ] ( first out ).\n",
      "yes\n",
      "Half Moon tonight (At least it is better than no Moon at all].\n",
      "no\n",
      "A rope may form )( a trail in a maze.\n",
      "no\n",
      "Help( I[m being held prisoner in a fortune cookie factory)].\n",
      "no\n",
      "([ (([( [ ] ) ( ) (( ))] )) ]).\n",
      "yes\n",
      " .\n",
      "yes\n",
      ".\n"
     ]
    }
   ],
   "source": [
    "# 4. 균형잡힌 세상\n",
    "def check_balance(content) :\n",
    "    stack = Stack()\n",
    "    yes, no, ret = 'yes', 'no', 'not defined'\n",
    "    open_small, open_big, close_small, close_big = '(', '[', ')', ']'\n",
    "    for letter in content :\n",
    "        if letter == open_small :\n",
    "            stack.push(close_small)\n",
    "        elif letter == open_big :\n",
    "            stack.push(close_big)\n",
    "        elif letter == close_small or letter == close_big :\n",
    "            close = stack.pop()\n",
    "            if close != letter :\n",
    "                ret = no\n",
    "                return ret\n",
    "    if stack.empty() == 1 :\n",
    "        ret = yes\n",
    "    else :\n",
    "        ret = no\n",
    "    return ret\n",
    "\n",
    "content = input()\n",
    "while content != '.':\n",
    "    res = check_balance(content)\n",
    "    print(res)\n",
    "    content = input()"
   ]
  },
  {
   "cell_type": "code",
   "execution_count": 9,
   "metadata": {},
   "outputs": [
    {
     "name": "stdout",
     "output_type": "stream",
     "text": [
      "5\n",
      "1\n",
      "2\n",
      "5\n",
      "3\n",
      "4\n",
      "NO\n"
     ]
    }
   ],
   "source": [
    "# 5. 스택 수열\n",
    "nums = []\n",
    "for loop in range(int(input())) :\n",
    "    nums.append(int(input()))\n",
    "ascend = sorted(nums)\n",
    "stack = Stack()\n",
    "res, index, plus, minus = [], 0, '+', '-'\n",
    "for number in ascend :\n",
    "    stack.push(number)\n",
    "    res.append(plus)\n",
    "    while stack.top() == nums[index] :\n",
    "        stack.pop()\n",
    "        res.append(minus)\n",
    "        if index == len(nums) - 1 :\n",
    "            break\n",
    "        index += 1\n",
    "if stack.empty() == 1 :\n",
    "    for letter in res :\n",
    "        print(letter)\n",
    "else :\n",
    "    print('NO')"
   ]
  }
 ],
 "metadata": {
  "kernelspec": {
   "display_name": "Python 3",
   "language": "python",
   "name": "python3"
  },
  "language_info": {
   "codemirror_mode": {
    "name": "ipython",
    "version": 3
   },
   "file_extension": ".py",
   "mimetype": "text/x-python",
   "name": "python",
   "nbconvert_exporter": "python",
   "pygments_lexer": "ipython3",
   "version": "3.7.4"
  }
 },
 "nbformat": 4,
 "nbformat_minor": 2
}
