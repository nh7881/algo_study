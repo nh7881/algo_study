{
 "cells": [
  {
   "cell_type": "markdown",
   "metadata": {},
   "source": [
    "# 감시"
   ]
  },
  {
   "cell_type": "code",
   "execution_count": 19,
   "metadata": {},
   "outputs": [
    {
     "name": "stdout",
     "output_type": "stream",
     "text": [
      "6 6\n",
      "0 0 0 0 0 0\n",
      "0 2 0 0 0 0\n",
      "0 0 0 0 6 0\n",
      "0 6 0 0 2 0\n",
      "0 0 0 0 0 0\n",
      "0 0 0 0 0 5\n",
      "15\n"
     ]
    }
   ],
   "source": [
    "def get_camera_pos(board) :\n",
    "    cameras_pos = []\n",
    "    for row in range(len(board)) :\n",
    "        for col in range(len(board[0])) :\n",
    "             if board[row][col] in [1,2,3,4,5] :\n",
    "                    cameras_pos.append([row, col, board[row][col]])\n",
    "    return cameras_pos\n",
    "\n",
    "def simul_cam(cameras_pos, board) :\n",
    "    if len(cameras_pos) == 0 :\n",
    "        ret = cal_no_see(board)\n",
    "        return ret\n",
    "    row, col, camera = cameras_pos[0][0], cameras_pos[0][1], cameras_pos[0][2]\n",
    "    direct = [[0,1], [-1,0], [0, -1], [1,0]] # 오른쪽, 위, 왼쪽, 아래\n",
    "    ret = float('inf')\n",
    "    if camera == 1 :\n",
    "        for see in range(len(direct)) :\n",
    "            check(row, col, [direct[see]], board)\n",
    "            ret = min(simul_cam(cameras_pos[1:], board), ret)\n",
    "            check(row, col, [direct[see]], board, uncheck=True)\n",
    "    if camera == 2 :\n",
    "        for see in range(int(len(direct) / 2)) :\n",
    "            check(row, col, [direct[see], direct[(see + 2) % 4]], board) # direct를 복수로 하는거 생각해보자\n",
    "            ret = min(simul_cam(cameras_pos[1:], board), ret)\n",
    "            check(row, col, [direct[see], direct[(see + 2) % 4]], board, uncheck=True) # direct를 복수로 하는거 생각해보자\n",
    "    if camera == 3 :\n",
    "        for see in range(len(direct)) :\n",
    "            check(row, col, [direct[see], direct[(see + 1) % 4]], board)\n",
    "            ret = min(simul_cam(cameras_pos[1:], board), ret)\n",
    "            check(row, col, [direct[see], direct[(see + 1) % 4]], board, uncheck=True)\n",
    "    if camera == 4 :\n",
    "        for see in range(len(direct)) :\n",
    "            check(row, col, [direct[see], direct[(see + 1) % 4], direct[(see + 2) % 4]], board)\n",
    "            ret = min(simul_cam(cameras_pos[1:], board), ret)\n",
    "            check(row, col, [direct[see], direct[(see + 1) % 4], direct[(see + 2) % 4]], board, uncheck=True)\n",
    "    if camera == 5 :\n",
    "        check(row, col, [direct[0], direct[1], direct[2], direct[3]], board)\n",
    "        ret = min(simul_cam(cameras_pos[1:], board), ret)\n",
    "        check(row, col, [direct[0], direct[1], direct[2], direct[3]], board, uncheck=True)\n",
    "    return ret\n",
    "\n",
    "def check(row, col, sees, board, uncheck=False) :\n",
    "    # 7 = check 한 곳\n",
    "    for see in sees :\n",
    "        drow, dcol = row + see[0], col + see[1]\n",
    "        while 0 <= drow < len(board) and 0 <= dcol < len(board[0]):\n",
    "            if uncheck == False :\n",
    "                if board[drow][dcol] <= 0 :\n",
    "                    board[drow][dcol] -= 1\n",
    "            else :\n",
    "                if board[drow][dcol] < 0 :\n",
    "                    board[drow][dcol] += 1\n",
    "            if board[drow][dcol] == 6 :\n",
    "                break\n",
    "            drow, dcol = drow + see[0], dcol + see[1]\n",
    "            \n",
    "def cal_no_see(board) :\n",
    "    ret = 0\n",
    "    for row in range(len(board)) :\n",
    "        for col in range(len(board[0])) :\n",
    "             if board[row][col] == 0 :\n",
    "                    ret += 1\n",
    "    return ret\n",
    "\n",
    "def main() :\n",
    "    row_num, col_num = tuple(map(int, input().split()))\n",
    "    board = []\n",
    "    for row in range(row_num) :\n",
    "        board.append(list(map(int, input().split())))\n",
    "    cameras_pos = get_camera_pos(board)\n",
    "    res = simul_cam(cameras_pos, board)\n",
    "    print(res)\n",
    "    \n",
    "if __name__ == '__main__' :\n",
    "    main()\n"
   ]
  },
  {
   "cell_type": "code",
   "execution_count": null,
   "metadata": {},
   "outputs": [],
   "source": []
  }
 ],
 "metadata": {
  "kernelspec": {
   "display_name": "Python 3",
   "language": "python",
   "name": "python3"
  },
  "language_info": {
   "codemirror_mode": {
    "name": "ipython",
    "version": 3
   },
   "file_extension": ".py",
   "mimetype": "text/x-python",
   "name": "python",
   "nbconvert_exporter": "python",
   "pygments_lexer": "ipython3",
   "version": "3.7.0"
  }
 },
 "nbformat": 4,
 "nbformat_minor": 2
}
