{
 "cells": [
  {
   "cell_type": "markdown",
   "metadata": {},
   "source": [
    "# 감시"
   ]
  },
  {
   "cell_type": "code",
   "execution_count": null,
   "metadata": {},
   "outputs": [],
   "source": [
    "def get_camera_pos(board) :\n",
    "    \n",
    "    \n",
    "    \n",
    "    return cameras_pos\n",
    "\n",
    "def simul_cam(rows, cols, cameras, board) :\n",
    "    if len(cameras) == 0 :\n",
    "        ret = cal_no_see(board)\n",
    "        return ret\n",
    "    row, col, camera = rows[0], cols[0], cameras[0]\n",
    "    direct = [[0,1], [-1,0], [0, -1], [1,0]] # 오른쪽, 위, 왼쪽, 아래\n",
    "    ret = float('inf')\n",
    "    if camera == 1 :\n",
    "        for see in range(len(direct)) :\n",
    "            check(row, col, direct[see], board)\n",
    "            ret = min(simul_cam(rows[1:], cols[1:], cameras[1:], board), ret)\n",
    "            uncheck(row, col, direct[see], board)\n",
    "    if camera == 2 :\n",
    "        for see in range(len(direct)) :\n",
    "            check(row, col, direct[see], board) # direct를 복수로 하는거 생각해보자\n",
    "            check(row, col, direct[(see + 1) % 4], board)\n",
    "            ret = min(simul_cam(rows[1:], cols[1:], cameras[1:], board), ret)\n",
    "            uncheck(row, col, direct[see], board) # direct를 복수로 하는거 생각해보자\n",
    "            uncheck(row, col, direct[(see + 1) % 4], board)\n",
    "    if camera == 3 :\n",
    "\n",
    "    \n",
    "    if camera == 4 :\n",
    "        \n",
    "        \n",
    "    if camera == 5 :\n",
    "        \n",
    "def check(row, col, see, board) :\n",
    "    \n",
    "        "
   ]
  }
 ],
 "metadata": {
  "kernelspec": {
   "display_name": "Python 3",
   "language": "python",
   "name": "python3"
  },
  "language_info": {
   "codemirror_mode": {
    "name": "ipython",
    "version": 3
   },
   "file_extension": ".py",
   "mimetype": "text/x-python",
   "name": "python",
   "nbconvert_exporter": "python",
   "pygments_lexer": "ipython3",
   "version": "3.7.0"
  }
 },
 "nbformat": 4,
 "nbformat_minor": 2
}
