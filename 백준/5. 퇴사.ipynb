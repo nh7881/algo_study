{
 "cells": [
  {
   "cell_type": "markdown",
   "metadata": {},
   "source": [
    "### 5. 퇴사"
   ]
  },
  {
   "cell_type": "code",
   "execution_count": null,
   "metadata": {},
   "outputs": [],
   "source": [
    "cache = list()\n",
    "leave = 0\n",
    "\n",
    "def Input() :\n",
    "    global leave\n",
    "    leave = int(input())\n",
    "    time = list()\n",
    "    price = list()\n",
    "    for day in range(0, leave) :\n",
    "        time_price = input().split(' ')\n",
    "        time.append(int(time_price[0]))\n",
    "        price.append(int(time_price[1]))\n",
    "    return (time, price)\n",
    "\n",
    "def init_cache() :\n",
    "    for num in range(0, leave) :\n",
    "        cache.append(-1)\n",
    "\n",
    "def consul(time, price) :\n",
    "    global cache\n",
    "    if len(time) == 0 :\n",
    "        return 0\n",
    "    if cache[leave - len(time)] != -1 :\n",
    "        return cache[leave - len(time)]\n",
    "    max_ret = 0\n",
    "    for n in range(0, len(time)) :\n",
    "        if n + time[n] <= len(time) :\n",
    "            ret = price[n] + consul(time[n + time[n] : ], price[n + time[n] : ])\n",
    "            max_ret = max(max_ret, ret)\n",
    "    cache[leave - len(time)] = max_ret\n",
    "    return max_ret\n",
    "\n",
    "\n",
    "def main() :\n",
    "    #time = [3, 5, 1, 1, 2, 4, 2]\n",
    "    #price = [10, 20, 10, 20, 15, 40, 200]\n",
    "    #time = [1, 1, 1, 1, 1, 1, 1, 1, 1, 1]\n",
    "    #price = [1,2,3,4,5,6,7,8,9,10]\n",
    "    [time, price] = Input()\n",
    "    init_cache()\n",
    "    res = consul(time, price)\n",
    "    print(res)\n",
    "    \n",
    "if __name__ == '__main__' :\n",
    "    main()"
   ]
  }
 ],
 "metadata": {
  "kernelspec": {
   "display_name": "Python 3",
   "language": "python",
   "name": "python3"
  },
  "language_info": {
   "codemirror_mode": {
    "name": "ipython",
    "version": 3
   },
   "file_extension": ".py",
   "mimetype": "text/x-python",
   "name": "python",
   "nbconvert_exporter": "python",
   "pygments_lexer": "ipython3",
   "version": "3.7.4"
  }
 },
 "nbformat": 4,
 "nbformat_minor": 2
}
