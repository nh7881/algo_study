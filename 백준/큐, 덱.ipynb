{
 "cells": [
  {
   "cell_type": "markdown",
   "metadata": {},
   "source": [
    "### 큐, 덱"
   ]
  },
  {
   "cell_type": "code",
   "execution_count": 1,
   "metadata": {},
   "outputs": [
    {
     "name": "stdout",
     "output_type": "stream",
     "text": [
      "1\n",
      "push 2\n"
     ]
    }
   ],
   "source": [
    "# 1. 큐2\n",
    "'''\n",
    "push X: 정수 X를 큐에 넣는 연산이다.\n",
    "pop: 큐에서 가장 앞에 있는 정수를 빼고, 그 수를 출력한다. 만약 큐에 들어있는 정수가 없는 경우에는 -1을 출력한다.\n",
    "size: 큐에 들어있는 정수의 개수를 출력한다.\n",
    "empty: 큐가 비어있으면 1, 아니면 0을 출력한다.\n",
    "front: 큐의 가장 앞에 있는 정수를 출력한다. 만약 큐에 들어있는 정수가 없는 경우에는 -1을 출력한다.\n",
    "back: 큐의 가장 뒤에 있는 정수를 출력한다. 만약 큐에 들어있는 정수가 없는 경우에는 -1을 출력한다.\n",
    "'''\n",
    "class Node :\n",
    "    def __init__(self, value) :\n",
    "        self.value = value\n",
    "        self.next = None\n",
    "        \n",
    "class Queue :\n",
    "    def __init__(self) :\n",
    "        self.head = None\n",
    "        self.tail = None\n",
    "        self.size = 0\n",
    "    def enque(self, val) :\n",
    "        node = Node(val)\n",
    "        if self.empty() == 1 :\n",
    "            self.head = node\n",
    "            self.tail = node\n",
    "        else :\n",
    "            self.tail.next = node\n",
    "            self.tail = self.tail.next\n",
    "        self.size += 1\n",
    "    def deque(self) :\n",
    "        if self.empty() == 1 :\n",
    "            ret = -1\n",
    "        else :\n",
    "            temp = self.head\n",
    "            self.head = self.head.next\n",
    "            ret = temp.value\n",
    "            del temp\n",
    "            self.size -= 1\n",
    "        return ret\n",
    "    def empty(self) :\n",
    "        if self.head == None :\n",
    "            ret = 1\n",
    "        else :\n",
    "            ret = 0\n",
    "        return ret\n",
    "    def front(self) :\n",
    "        if self.empty() == 1 :\n",
    "            ret = -1\n",
    "        else :\n",
    "            ret = self.head.value\n",
    "        return ret\n",
    "    \n",
    "    def back(self) :\n",
    "        if self.empty() == 1 :\n",
    "            ret = -1\n",
    "        else :\n",
    "            ret = self.tail.value\n",
    "        return ret\n",
    "    def Size(self) :\n",
    "        return self.size\n",
    "    \n",
    "queue = Queue()\n",
    "for loop in range(int(input())) :\n",
    "    cmd = input().split()\n",
    "    res = -10\n",
    "    if cmd[0] == 'push' :\n",
    "        queue.enque(int(cmd[1]))\n",
    "    elif cmd[0] == 'pop' :\n",
    "        res = queue.deque()\n",
    "    elif cmd[0] == 'front' :\n",
    "        res = queue.front()\n",
    "    elif cmd[0] == 'back' :\n",
    "        res = queue.back()\n",
    "    elif cmd[0] == 'size' :\n",
    "        res = queue.Size()\n",
    "    elif cmd[0] == 'empty' :\n",
    "        res = queue.empty()\n",
    "    if res != -10 :\n",
    "        print(res)\n"
   ]
  },
  {
   "cell_type": "code",
   "execution_count": null,
   "metadata": {},
   "outputs": [],
   "source": [
    "# 2. 카드 2\n",
    "number = int(input())\n",
    "que = Queue()\n",
    "for num in range(number) :\n",
    "    que.enque(num + 1)\n",
    "while que.size != 1 :\n",
    "    que.deque()\n",
    "    que.enque(que.deque())\n",
    "print(que.deque())"
   ]
  },
  {
   "cell_type": "code",
   "execution_count": null,
   "metadata": {},
   "outputs": [],
   "source": [
    "# 3. 요세푸스 문제\n",
    "arr = []\n",
    "n, k = map(int, input().split())\n",
    "for num in range(n) :\n",
    "    arr.append(num + 1)\n",
    "res = []\n",
    "target = 0\n",
    "k = k - 1\n",
    "while len(arr) > 0 :\n",
    "    target = (target + k) % len(arr)\n",
    "    res.append(arr.pop(target))\n",
    "result = ', '.join(map(str, res))\n",
    "result = '<' + result + '>'\n",
    "print(result)"
   ]
  },
  {
   "cell_type": "code",
   "execution_count": 3,
   "metadata": {},
   "outputs": [
    {
     "name": "stdout",
     "output_type": "stream",
     "text": [
      "3\n",
      "1 0\n",
      "5\n",
      "1\n",
      "4 2\n",
      "1 2 3 4\n",
      "2\n",
      "6 0\n",
      "1 1 9 1 1 1\n",
      "5\n"
     ]
    },
    {
     "data": {
      "text/plain": [
       "'\\n3\\n1 0\\n5\\n4 2\\n1 2 3 4\\n6 0\\n1 1 9 1 1 1\\n'"
      ]
     },
     "execution_count": 3,
     "metadata": {},
     "output_type": "execute_result"
    }
   ],
   "source": [
    "# 4. 프린터 큐\n",
    "for case in range(int(input())) :\n",
    "    target = int(input().split()[1])\n",
    "    arr = list(map(int, input().split()))\n",
    "    que = Queue()\n",
    "    res = 0\n",
    "    for num in arr :\n",
    "        que.enque(num)\n",
    "    arr.sort()\n",
    "    while True :\n",
    "        check = arr.pop()\n",
    "        while que.front() != check:\n",
    "            que.enque(que.deque())\n",
    "            target -= 1\n",
    "            if target == -1 :\n",
    "                target += que.Size()\n",
    "        que.deque()\n",
    "        res += 1\n",
    "        if target == 0 :\n",
    "            print(res)\n",
    "            break\n",
    "        target -= 1\n",
    "        if target == -1 :\n",
    "            target += que.Size()\n"
   ]
  }
 ],
 "metadata": {
  "kernelspec": {
   "display_name": "Python 3",
   "language": "python",
   "name": "python3"
  },
  "language_info": {
   "codemirror_mode": {
    "name": "ipython",
    "version": 3
   },
   "file_extension": ".py",
   "mimetype": "text/x-python",
   "name": "python",
   "nbconvert_exporter": "python",
   "pygments_lexer": "ipython3",
   "version": "3.7.4"
  }
 },
 "nbformat": 4,
 "nbformat_minor": 2
}
