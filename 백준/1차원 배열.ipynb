{
 "cells": [
  {
   "cell_type": "markdown",
   "metadata": {},
   "source": [
    "### 1차원 배열"
   ]
  },
  {
   "cell_type": "code",
   "execution_count": 1,
   "metadata": {},
   "outputs": [
    {
     "name": "stdout",
     "output_type": "stream",
     "text": [
      "5\n",
      "2 6 8 3 2\n",
      "2 8\n"
     ]
    }
   ],
   "source": [
    "# 1. 최소, 최대\n",
    "input()\n",
    "arr = list(map(int, input().split(' ')))\n",
    "max_res = -1000000\n",
    "min_res = 1000000\n",
    "for value in arr :\n",
    "    max_res = max(max_res, value)\n",
    "    min_res = min(min_res, value)\n",
    "print(min_res, max_res)"
   ]
  },
  {
   "cell_type": "code",
   "execution_count": 6,
   "metadata": {},
   "outputs": [
    {
     "name": "stdout",
     "output_type": "stream",
     "text": [
      "1\n",
      "2\n",
      "3\n",
      "4\n",
      "5\n",
      "6\n",
      "7\n",
      "8\n",
      "9\n",
      "9\n",
      "9\n"
     ]
    }
   ],
   "source": [
    "# 2. 최댓값\n",
    "arr = []\n",
    "for num in range(0, 9) :\n",
    "    arr.append(int(input()))\n",
    "max_res = 0\n",
    "index = 0\n",
    "for index_num, value in enumerate(arr) :\n",
    "    if value >= max_res :\n",
    "        max_res = value\n",
    "        index = index_num\n",
    "print(max_res)\n",
    "print(index + 1)"
   ]
  },
  {
   "cell_type": "code",
   "execution_count": 8,
   "metadata": {},
   "outputs": [
    {
     "name": "stdout",
     "output_type": "stream",
     "text": [
      "158\n",
      "443\n",
      "6981\n",
      "488628114\n",
      "0\n",
      "2\n",
      "1\n",
      "0\n",
      "2\n",
      "0\n",
      "1\n",
      "0\n",
      "3\n",
      "0\n"
     ]
    }
   ],
   "source": [
    "# 3. 숫자의 개수\n",
    "a = int(input())\n",
    "b = int(input())\n",
    "c = int(input())\n",
    "mult = a * b * c\n",
    "div = 10\n",
    "arr = [0] * 10\n",
    "while mult > 0:\n",
    "    num = mult % 10\n",
    "    arr[num] += 1\n",
    "    mult = int(mult / div)\n",
    "for val in arr :\n",
    "    print(val)"
   ]
  },
  {
   "cell_type": "code",
   "execution_count": 11,
   "metadata": {},
   "outputs": [
    {
     "name": "stdout",
     "output_type": "stream",
     "text": [
      "6\n",
      "9\n",
      "8\n",
      "3\n",
      "5\n",
      "96\n",
      "2\n",
      "5\n",
      "6\n",
      "3\n",
      "7\n"
     ]
    }
   ],
   "source": [
    "# 4. 나머지\n",
    "arr = []\n",
    "for num in range(0, 10) :\n",
    "    arr.append(int(input()))\n",
    "mod = [0] * 42\n",
    "for value in arr :\n",
    "    temp = value % 42\n",
    "    mod[temp] += 1\n",
    "res = 0\n",
    "for val in mod :\n",
    "    if val != 0 :\n",
    "        res += 1\n",
    "print(res)"
   ]
  },
  {
   "cell_type": "code",
   "execution_count": 13,
   "metadata": {},
   "outputs": [
    {
     "name": "stdout",
     "output_type": "stream",
     "text": [
      "3\n",
      "10 20 30\n",
      "66.66666666666667\n"
     ]
    }
   ],
   "source": [
    "# 5. 평균\n",
    "input()\n",
    "grade = list(map(int, input().split(' ')))\n",
    "max_val = 0\n",
    "total = 0\n",
    "for val in grade :\n",
    "    max_val = max(max_val, val)\n",
    "    total += val\n",
    "res = total / max_val * 100 / len(grade)\n",
    "print(res)"
   ]
  },
  {
   "cell_type": "code",
   "execution_count": 17,
   "metadata": {},
   "outputs": [
    {
     "name": "stdout",
     "output_type": "stream",
     "text": [
      "5\n",
      "OOXXOXXOOO\n",
      "10\n",
      "OOXXOOXXOO\n",
      "9\n",
      "OXOXOXOXOXOXOX\n",
      "7\n",
      "OOOOOOOOOO\n",
      "55\n",
      "OOOOXOOOOXOOOOX\n",
      "30\n"
     ]
    }
   ],
   "source": [
    "# 6. OX 퀴즈\n",
    "case_num = int(input())\n",
    "for case in range(0, case_num) :\n",
    "    ox = input()\n",
    "    score = 0\n",
    "    res = 0\n",
    "    for index, val in enumerate(ox) :\n",
    "        if val == 'O' :\n",
    "            score += 1\n",
    "            res += score\n",
    "        else :\n",
    "            score = 0\n",
    "    print(res)"
   ]
  },
  {
   "cell_type": "code",
   "execution_count": 16,
   "metadata": {},
   "outputs": [
    {
     "name": "stdout",
     "output_type": "stream",
     "text": [
      "1\n",
      "5 50 50 70 80 100\n",
      "40.000%\n"
     ]
    }
   ],
   "source": [
    "# 7. 평균은 넘겠지\n",
    "case_num = int(input())\n",
    "for case in range(0, case_num) :\n",
    "    grade = list(map(int, input().split(' ')))\n",
    "    mean = 0\n",
    "    num = 0\n",
    "    for index in range(1, len(grade)) :\n",
    "        mean += grade[index]\n",
    "    mean /= (len(grade) - 1)\n",
    "    for val in grade[1 : ] :\n",
    "        if mean < val :\n",
    "            num += 1\n",
    "    num = num / (len(grade) - 1) * 100\n",
    "    print('{}%'.format(\"%0.3f\" % round(num, 3)))"
   ]
  },
  {
   "cell_type": "code",
   "execution_count": null,
   "metadata": {},
   "outputs": [],
   "source": [
    "for i in range(int(input())):\n",
    "    list_input = list(map(int, input().split(' ')))\n",
    "    ave = sum(list_input[1:]) / list_input[0]\n",
    "    count = 0\n",
    "    for j in list_input[1:]:\n",
    "        if j > ave:\n",
    "            count += 1\n",
    "    print(str('%.3f' % round(count / list_input[0] * 100, 3)) + '%')"
   ]
  }
 ],
 "metadata": {
  "kernelspec": {
   "display_name": "Python 3",
   "language": "python",
   "name": "python3"
  },
  "language_info": {
   "codemirror_mode": {
    "name": "ipython",
    "version": 3
   },
   "file_extension": ".py",
   "mimetype": "text/x-python",
   "name": "python",
   "nbconvert_exporter": "python",
   "pygments_lexer": "ipython3",
   "version": "3.7.4"
  }
 },
 "nbformat": 4,
 "nbformat_minor": 2
}
