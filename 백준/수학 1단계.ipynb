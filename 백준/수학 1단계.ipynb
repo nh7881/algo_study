{
 "cells": [
  {
   "cell_type": "markdown",
   "metadata": {},
   "source": [
    "### 수학 1단계"
   ]
  },
  {
   "cell_type": "code",
   "execution_count": 1,
   "metadata": {},
   "outputs": [
    {
     "name": "stdout",
     "output_type": "stream",
     "text": [
      "1000 70 170\n",
      "11\n"
     ]
    }
   ],
   "source": [
    "# 1. 손익분기점\n",
    "money = input().split(' ')\n",
    "default = int(money[0])\n",
    "var = int(money[1])\n",
    "price = int(money[2])\n",
    "if var >= price :\n",
    "    print(-1)\n",
    "else :\n",
    "    point = int(default / (price - var)) + 1\n",
    "    print(point)"
   ]
  },
  {
   "cell_type": "code",
   "execution_count": 6,
   "metadata": {},
   "outputs": [
    {
     "name": "stdout",
     "output_type": "stream",
     "text": [
      "7\n",
      "-1\n"
     ]
    }
   ],
   "source": [
    "# 2. 설탕 배달\n",
    "n = int(input())\n",
    "y = int(n / 5)\n",
    "x = 0\n",
    "while y >= 0 :\n",
    "    if (n - 5 * y) % 3 == 0 :\n",
    "        x = (n - 5 * y) / 3\n",
    "        break\n",
    "    else :\n",
    "        y -= 1\n",
    "if y == -1 :\n",
    "    print(-1)\n",
    "else :\n",
    "    print(int(x + y))"
   ]
  },
  {
   "cell_type": "code",
   "execution_count": 19,
   "metadata": {},
   "outputs": [
    {
     "name": "stdout",
     "output_type": "stream",
     "text": [
      "58\n",
      "5\n"
     ]
    }
   ],
   "source": [
    "# 3. 벌집\n",
    "target = int(input())\n",
    "if target == 1 :\n",
    "    print(1)\n",
    "else :\n",
    "    n = 1\n",
    "    while n < 100000 :\n",
    "        if 6 * (n * (n + 1) / 2) + 1 >= target :\n",
    "            print(n + 1)\n",
    "            break\n",
    "        n += 1"
   ]
  },
  {
   "cell_type": "code",
   "execution_count": 45,
   "metadata": {},
   "outputs": [
    {
     "name": "stdout",
     "output_type": "stream",
     "text": [
      "14\n",
      "2/4\n"
     ]
    }
   ],
   "source": [
    "# 4. 분수찾기\n",
    "n = 1\n",
    "num = int(input())\n",
    "while True :\n",
    "    big = n * (n + 1) / 2\n",
    "    if big >= num :\n",
    "        small = num - (n * (n - 1) / 2)\n",
    "        if n % 2 == 1 :\n",
    "            print('{}/{}'.format(int(n - small + 1), int(small)))\n",
    "        else :\n",
    "            print('{}/{}'.format(int(small), int(n - small + 1)))\n",
    "        break\n",
    "    n += 1"
   ]
  },
  {
   "cell_type": "code",
   "execution_count": 46,
   "metadata": {},
   "outputs": [
    {
     "name": "stdout",
     "output_type": "stream",
     "text": [
      "2 1 5\n",
      "4\n"
     ]
    }
   ],
   "source": [
    "# 5. 달팽이는 올라가고 싶다\n",
    "import math\n",
    "Input = input().split(' ')\n",
    "a = int(Input[0])\n",
    "b = int(Input[1])\n",
    "v = int(Input[2])\n",
    "res = math.ceil((v - a) / (a - b))\n",
    "print(res + 1)"
   ]
  },
  {
   "cell_type": "code",
   "execution_count": 49,
   "metadata": {},
   "outputs": [
    {
     "name": "stdout",
     "output_type": "stream",
     "text": [
      "2\n",
      "30 5 72\n",
      "1203\n",
      "6 12 10\n",
      "402\n"
     ]
    }
   ],
   "source": [
    "# 6. ACM 호텔\n",
    "for case in range(int(input())) :\n",
    "    Input = input().split(' ')\n",
    "    h = int(Input[0])\n",
    "    n = int(Input[2])\n",
    "    n -= 1\n",
    "    floor = str(n % h + 1)\n",
    "    room = str(int(n / h) + 1)\n",
    "    if int(room) < 10 :\n",
    "        room = '0' + room\n",
    "    print(floor + room)"
   ]
  },
  {
   "cell_type": "code",
   "execution_count": 59,
   "metadata": {},
   "outputs": [
    {
     "name": "stdout",
     "output_type": "stream",
     "text": [
      "2\n",
      "1\n",
      "3\n",
      "6\n",
      "2\n",
      "3\n",
      "10\n"
     ]
    }
   ],
   "source": [
    "# 7. 부녀회장이 될테야\n",
    "def init_cache(floor, room) :\n",
    "    global cache\n",
    "    for i in range(floor) :\n",
    "        temp = [-1] * room\n",
    "        cache.append(temp)\n",
    "\n",
    "def cal_num(floor, room):\n",
    "    if floor == 0 :\n",
    "        return room\n",
    "    if room <= 1 :\n",
    "        return room\n",
    "    global cache\n",
    "    if cache[floor - 1][room - 1] != -1 :\n",
    "        return cache[floor - 1][room - 1]\n",
    "    ret = cal_num(floor - 1, room) + cal_num(floor, room - 1)\n",
    "    cache[floor - 1][room - 1] = ret\n",
    "    return ret\n",
    "case_num = int(input())\n",
    "for case in range(case_num) :\n",
    "    floor = int(input())\n",
    "    room = int(input())\n",
    "    cache = []\n",
    "    init_cache(floor,room)\n",
    "    print(cal_num(floor,room))"
   ]
  },
  {
   "cell_type": "code",
   "execution_count": 30,
   "metadata": {},
   "outputs": [
    {
     "name": "stdout",
     "output_type": "stream",
     "text": [
      "1\n",
      "0 3\n",
      "3\n"
     ]
    }
   ],
   "source": [
    "# 8. Fly me to the Alpha Centauri\n",
    "for case in range(int(input())) :\n",
    "    Input = input().split(' ')\n",
    "    start = int(Input[0])\n",
    "    end = int(Input[1])\n",
    "    distance = end - start\n",
    "    n = 2\n",
    "    import math\n",
    "    while distance > n :\n",
    "        distance -= n\n",
    "        n += 2\n",
    "    n = n - 2 + math.ceil(distance / (n / 2))\n",
    "    print(n)"
   ]
  }
 ],
 "metadata": {
  "kernelspec": {
   "display_name": "Python 3",
   "language": "python",
   "name": "python3"
  },
  "language_info": {
   "codemirror_mode": {
    "name": "ipython",
    "version": 3
   },
   "file_extension": ".py",
   "mimetype": "text/x-python",
   "name": "python",
   "nbconvert_exporter": "python",
   "pygments_lexer": "ipython3",
   "version": "3.7.0"
  }
 },
 "nbformat": 4,
 "nbformat_minor": 2
}
