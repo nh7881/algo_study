{
 "cells": [
  {
   "cell_type": "markdown",
   "metadata": {},
   "source": [
    "### 수학 2"
   ]
  },
  {
   "cell_type": "code",
   "execution_count": null,
   "metadata": {},
   "outputs": [],
   "source": [
    "# 1. 소수 찾기\n",
    "input()\n",
    "arr = list(map(int, input().split(' ')))\n",
    "res = 0\n",
    "\n",
    "for value in arr :\n",
    "    if value != 1 :\n",
    "        for n in range(2, int(value / 2) + 1) :\n",
    "            if value % n == 0 :\n",
    "                res -= 1\n",
    "                break\n",
    "        res += 1\n",
    "print(res)"
   ]
  },
  {
   "cell_type": "code",
   "execution_count": 43,
   "metadata": {},
   "outputs": [
    {
     "name": "stdout",
     "output_type": "stream",
     "text": [
      "11\n",
      "10000\n",
      "5736379\n",
      "11\n"
     ]
    }
   ],
   "source": [
    "# 2. 소수\n",
    "start = int(input())\n",
    "end = int(input()) + 1\n",
    "res = 0\n",
    "min_prime = end\n",
    "def prime(value) :\n",
    "    sqrt = int((value ** 0.5)) + 1\n",
    "    for n in range(2, sqrt) :\n",
    "        if value % n == 0 :\n",
    "            return False\n",
    "    return True\n",
    "for value in range(start, end) :\n",
    "    if value != 1 :\n",
    "        if prime(value) == True :\n",
    "            min_prime = min(min_prime, value)\n",
    "            res += value\n",
    "if res == 0 :\n",
    "    print(-1)\n",
    "else :\n",
    "    print(res)\n",
    "    print(min_prime)"
   ]
  },
  {
   "cell_type": "code",
   "execution_count": 41,
   "metadata": {},
   "outputs": [
    {
     "name": "stdout",
     "output_type": "stream",
     "text": [
      "2 11\n",
      "2\n",
      "3\n",
      "5\n",
      "7\n",
      "11\n"
     ]
    }
   ],
   "source": [
    "# 3. 소수 구하기\n",
    "Input = input().split(' ')\n",
    "start = 2\n",
    "go = int(Input[0])\n",
    "end = int(Input[1])\n",
    "prime = [1] * 1000000\n",
    "is_prime = True\n",
    "prime[0] = 0\n",
    "for prime_num in range(1, len(prime)) :\n",
    "    if prime[prime_num] == 1 :\n",
    "        value = prime_num + 1\n",
    "        prime_num += value\n",
    "        while prime_num < len(prime):\n",
    "            prime[prime_num] = 0\n",
    "            prime_num += value\n",
    "for index in range(go - 1, end) :\n",
    "    if prime[index] == 1:\n",
    "        print(index + 1)"
   ]
  },
  {
   "cell_type": "code",
   "execution_count": 49,
   "metadata": {},
   "outputs": [
    {
     "name": "stdout",
     "output_type": "stream",
     "text": [
      "1\n",
      "1\n",
      "10\n",
      "4\n",
      "13\n",
      "3\n",
      "100\n",
      "21\n",
      "1000\n",
      "135\n",
      "10000\n",
      "1033\n",
      "100000\n",
      "8392\n",
      "0\n"
     ]
    }
   ],
   "source": [
    "# 4. 베르트랑 공준\n",
    "def prime(value) :\n",
    "    sqrt = int((value ** 0.5)) + 1\n",
    "    for n in range(2, sqrt) :\n",
    "        if value % n == 0 :\n",
    "            return False\n",
    "    return True\n",
    "start = int(input())\n",
    "end = start * 2 + 1\n",
    "res = 0\n",
    "while start != 0 : \n",
    "    for value in range(start + 1, end) :\n",
    "        if value != 1 :\n",
    "            if prime(value) == True :\n",
    "                res += 1\n",
    "    print(res)\n",
    "    start = int(input())\n",
    "    end = start * 2 + 1\n",
    "    res = 0"
   ]
  },
  {
   "cell_type": "code",
   "execution_count": 52,
   "metadata": {},
   "outputs": [
    {
     "name": "stdout",
     "output_type": "stream",
     "text": [
      "3\n",
      "8\n",
      "3 5\n",
      "10\n",
      "5 5\n",
      "16\n",
      "5 11\n"
     ]
    }
   ],
   "source": [
    "# 5. 골드바흐의 추측\n",
    "def prime(value) :\n",
    "    sqrt = int((value ** 0.5)) + 1\n",
    "    for n in range(2, sqrt) :\n",
    "        if value % n == 0 :\n",
    "            return False\n",
    "    return True\n",
    "for case in range(int(input())) :\n",
    "    num = int(input())\n",
    "    for sub in range(int(num / 2), 0, -1) :\n",
    "        if prime(sub) :\n",
    "            if prime(num - sub) :\n",
    "                print(sub, num - sub)\n",
    "                break"
   ]
  },
  {
   "cell_type": "code",
   "execution_count": 53,
   "metadata": {},
   "outputs": [
    {
     "name": "stdout",
     "output_type": "stream",
     "text": [
      "6 2 10 3\n",
      "1\n"
     ]
    }
   ],
   "source": [
    "# 6. 직사각형에서 탈출\n",
    "dot = list(map(int, input().split(' ')))\n",
    "hor = min(dot[0], dot[2] - dot[0])\n",
    "ver = min(dot[1], dot[3] - dot[1])\n",
    "print(min(hor, ver))"
   ]
  },
  {
   "cell_type": "code",
   "execution_count": 56,
   "metadata": {},
   "outputs": [
    {
     "name": "stdout",
     "output_type": "stream",
     "text": [
      "10 20\n",
      "10 10\n",
      "30 20\n",
      "30 10\n"
     ]
    }
   ],
   "source": [
    "# 7. 네 번째 점\n",
    "first = list(map(int, input().split(' ')))\n",
    "second = list(map(int, input().split(' ')))\n",
    "third = list(map(int, input().split(' ')))\n",
    "ret = []\n",
    "if first[0] == second[0] :\n",
    "    ret.append(third[0])\n",
    "elif first[0] == third[0] :\n",
    "    ret.append(second[0])\n",
    "else :\n",
    "    ret.append(first[0])\n",
    "if first[1] == second[1] :\n",
    "    ret.append(third[1])\n",
    "elif first[1] == third[1] :\n",
    "    ret.append(second[1])\n",
    "else :\n",
    "    ret.append(first[1])\n",
    "print(ret[0], ret[1])"
   ]
  },
  {
   "cell_type": "code",
   "execution_count": 58,
   "metadata": {},
   "outputs": [
    {
     "name": "stdout",
     "output_type": "stream",
     "text": [
      "5 4 3\n",
      "right\n",
      "6 8 10\n",
      "right\n",
      "25 52 60\n",
      "wrong\n",
      "5 12 13\n",
      "right\n",
      "0 0 0\n"
     ]
    }
   ],
   "source": [
    "# 8. 직각삼각형\n",
    "dot = list(map(int, input().split(' ')))\n",
    "while dot != [0, 0, 0] :\n",
    "    dot.sort()\n",
    "    if dot[0] ** 2 + dot[1] ** 2 == dot[2] ** 2 :\n",
    "        print('right')\n",
    "    else :\n",
    "        print('wrong')\n",
    "    dot = list(map(int, input().split(' ')))"
   ]
  },
  {
   "cell_type": "code",
   "execution_count": 66,
   "metadata": {},
   "outputs": [
    {
     "name": "stdout",
     "output_type": "stream",
     "text": [
      "3\n",
      "28.274333882308138\n",
      "18\n"
     ]
    }
   ],
   "source": [
    "# 9. 택시 기하학\n",
    "import math\n",
    "r = int(input())\n",
    "print(r ** 2 * math.pi)\n",
    "print(r ** 2 * 2)"
   ]
  },
  {
   "cell_type": "code",
   "execution_count": 68,
   "metadata": {},
   "outputs": [
    {
     "name": "stdout",
     "output_type": "stream",
     "text": [
      "3\n",
      "0 0 13 40 0 37\n",
      "2\n",
      "0 0 3 0 7 4\n",
      "1\n",
      "1 1 1 1 1 5\n",
      "0\n"
     ]
    }
   ],
   "source": [
    "# 10. 터렛\n",
    "# 두 점 사이의 거리가 반지름의 합과 같은 경우 1\n",
    "# 두 점 사이의 거리가 반지름의 합보다 작은 경우 2\n",
    "# 두 점 사이의 거리가 반지름의 합보다 큰 경우 0\n",
    "# 두 점 사이의 거리가 두 반지름의 차와 같을 경우 1\n",
    "# 두 점 사이의 거리가 두 반지름의 차보다 작을 경우 0\n",
    "for case in range(int(input())) :\n",
    "    dot = list(map(int, input().split(' ')))\n",
    "    distance = ((dot[0] - dot[3]) ** 2 + (dot[1] - dot[4]) ** 2) ** 0.5\n",
    "    sum_r = dot[2] + dot[5]\n",
    "    minus_r = abs(dot[2] - dot[5])\n",
    "    if distance > minus_r :\n",
    "        if distance < sum_r :\n",
    "            print(2)\n",
    "        elif distance == sum_r :\n",
    "            print(1)\n",
    "        else :\n",
    "            print(0)\n",
    "    elif distance == minus_r :\n",
    "        if distance == 0 :\n",
    "            print(-1)\n",
    "        else :\n",
    "            print(1)\n",
    "    else :\n",
    "        print(0)"
   ]
  }
 ],
 "metadata": {
  "kernelspec": {
   "display_name": "Python 3",
   "language": "python",
   "name": "python3"
  },
  "language_info": {
   "codemirror_mode": {
    "name": "ipython",
    "version": 3
   },
   "file_extension": ".py",
   "mimetype": "text/x-python",
   "name": "python",
   "nbconvert_exporter": "python",
   "pygments_lexer": "ipython3",
   "version": "3.7.4"
  }
 },
 "nbformat": 4,
 "nbformat_minor": 2
}
