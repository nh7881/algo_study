{
 "cells": [
  {
   "cell_type": "markdown",
   "metadata": {},
   "source": [
    "### 문자열"
   ]
  },
  {
   "cell_type": "code",
   "execution_count": 1,
   "metadata": {},
   "outputs": [
    {
     "name": "stdout",
     "output_type": "stream",
     "text": [
      "a\n",
      "97\n"
     ]
    }
   ],
   "source": [
    "# 1. 아스키코드\n",
    "a = input()\n",
    "print(ord(a))"
   ]
  },
  {
   "cell_type": "code",
   "execution_count": 5,
   "metadata": {},
   "outputs": [
    {
     "name": "stdout",
     "output_type": "stream",
     "text": [
      "1\n",
      "123456\n",
      "21\n"
     ]
    }
   ],
   "source": [
    "# 2. 숫자의 합\n",
    "input()\n",
    "arr = list(map(int, input()))\n",
    "print(sum(arr))"
   ]
  },
  {
   "cell_type": "code",
   "execution_count": 16,
   "metadata": {},
   "outputs": [
    {
     "name": "stdout",
     "output_type": "stream",
     "text": [
      "abced\n",
      "0 1 2 4 3 -1 -1 -1 -1 -1 -1 -1 -1 -1 -1 -1 -1 -1 -1 -1 -1 -1 -1 -1 -1 -1 "
     ]
    }
   ],
   "source": [
    "# 3. 알파벳 찾기\n",
    "arr = [-1] * 26\n",
    "string = input()\n",
    "for n in range(0, len(string)) :\n",
    "    index = ord(string[n]) - 97\n",
    "    if arr[index] == -1 :\n",
    "        arr[index] = n\n",
    "for res in arr :\n",
    "    print(res, end = ' ')"
   ]
  },
  {
   "cell_type": "code",
   "execution_count": 19,
   "metadata": {},
   "outputs": [
    {
     "name": "stdout",
     "output_type": "stream",
     "text": [
      "2\n",
      "4 abc\n",
      "aaaabbbbcccc\n",
      "1 ded\n",
      "ded\n"
     ]
    }
   ],
   "source": [
    "# 4. 문자열 반복\n",
    "for case in range(0, int(input())) :\n",
    "    string = input().split()\n",
    "    num = int(string[0])\n",
    "    string = string[1]\n",
    "    for char in string :\n",
    "        for n in range(0, num) :\n",
    "            print(char, end = '')\n",
    "    print()"
   ]
  },
  {
   "cell_type": "code",
   "execution_count": 34,
   "metadata": {},
   "outputs": [
    {
     "name": "stdout",
     "output_type": "stream",
     "text": [
      "baaa\n",
      "A\n"
     ]
    }
   ],
   "source": [
    "# 5. 단어 공부\n",
    "arr = [0] * 26\n",
    "string = input()\n",
    "max_num = 0\n",
    "dup = True\n",
    "res = 0\n",
    "for n in range(0, len(string)) :\n",
    "    index = ord(string[n].upper()) - 65\n",
    "    arr[index] += 1\n",
    "    if max_num < arr[index] :\n",
    "        dup = False\n",
    "        max_num = arr[index]\n",
    "        res = index\n",
    "    elif max_num == arr[index] :\n",
    "        dup = True\n",
    "if dup == True :\n",
    "    print('?')\n",
    "else :\n",
    "    print(chr(res + 65))"
   ]
  },
  {
   "cell_type": "code",
   "execution_count": 41,
   "metadata": {},
   "outputs": [
    {
     "name": "stdout",
     "output_type": "stream",
     "text": [
      " lmelfe lemfe lmfe \n",
      "3\n"
     ]
    }
   ],
   "source": [
    "# 6. 단어의 개수\n",
    "string = input().split(' ')\n",
    "res = 0\n",
    "for word in string :\n",
    "    if word != '' :\n",
    "        res += 1\n",
    "print(res)"
   ]
  },
  {
   "cell_type": "code",
   "execution_count": 42,
   "metadata": {},
   "outputs": [
    {
     "name": "stdout",
     "output_type": "stream",
     "text": [
      "438 389\n",
      "[834, 983]\n"
     ]
    }
   ],
   "source": [
    "# 7. 상수\n",
    "string = input().split(' ')\n",
    "num = []\n",
    "for number in string :\n",
    "    temp_str = ''\n",
    "    for index in range(len(number) - 1, -1, -1) :\n",
    "        temp_str += number[index]\n",
    "    num.append(int(temp_str))\n",
    "print(max(num[0], num[1]))\n"
   ]
  },
  {
   "cell_type": "code",
   "execution_count": 43,
   "metadata": {},
   "outputs": [
    {
     "name": "stdout",
     "output_type": "stream",
     "text": [
      "UNUCIC\n",
      "36\n"
     ]
    }
   ],
   "source": [
    "# 8. 다이얼\n",
    "arr = [3,3,3,4,4,4,5,5,5,6,6,6,7,7,7,8,8,8,8,9,9,9,10,10,10,10]\n",
    "string = input()\n",
    "res = 0\n",
    "for n in range(0, len(string)) :\n",
    "    index = ord(string[n]) - 65\n",
    "    res += arr[index]\n",
    "print(res)"
   ]
  },
  {
   "cell_type": "code",
   "execution_count": 47,
   "metadata": {},
   "outputs": [
    {
     "name": "stdout",
     "output_type": "stream",
     "text": [
      "c=c=\n",
      "2\n"
     ]
    }
   ],
   "source": [
    "# 9. 크로아티아 알파벳\n",
    "string = input() + '  '\n",
    "res = 0\n",
    "for index in range(0, len(string) - 2) :\n",
    "    if string[index] == '-' or string[index] == '=' :\n",
    "        res -= 1\n",
    "    elif (string[index] == 'n' or string[index] == 'l') and string[index + 1] == 'j' :\n",
    "        res -= 1\n",
    "    elif string[index] == 'd' and string[index + 1] == 'z' and string[index + 2] == '=' :\n",
    "        res -= 1\n",
    "    res += 1\n",
    "print(res)"
   ]
  },
  {
   "cell_type": "code",
   "execution_count": 55,
   "metadata": {},
   "outputs": [
    {
     "name": "stdout",
     "output_type": "stream",
     "text": [
      "4\n",
      "aba\n",
      "abab\n",
      "abcabc\n",
      "a\n",
      "1\n"
     ]
    }
   ],
   "source": [
    "# 10. 그룹 체커\n",
    "res = 0\n",
    "for word in range(0, int(input())) :\n",
    "    string = input() + ' '\n",
    "    arr = [0] * 26\n",
    "    for str_num in range(0, len(string) - 1) :\n",
    "        index = ord(string[str_num]) - 97\n",
    "        if arr[index] != 0 :\n",
    "            res -= 1\n",
    "            break\n",
    "        if string[str_num] != string[str_num + 1] :\n",
    "            arr[index] = 1\n",
    "    res += 1\n",
    "print(res)"
   ]
  }
 ],
 "metadata": {
  "kernelspec": {
   "display_name": "Python 3",
   "language": "python",
   "name": "python3"
  },
  "language_info": {
   "codemirror_mode": {
    "name": "ipython",
    "version": 3
   },
   "file_extension": ".py",
   "mimetype": "text/x-python",
   "name": "python",
   "nbconvert_exporter": "python",
   "pygments_lexer": "ipython3",
   "version": "3.7.4"
  }
 },
 "nbformat": 4,
 "nbformat_minor": 2
}
