{
 "cells": [
  {
   "cell_type": "markdown",
   "metadata": {},
   "source": [
    "# 톱니바퀴"
   ]
  },
  {
   "cell_type": "code",
   "execution_count": 37,
   "metadata": {},
   "outputs": [
    {
     "name": "stdout",
     "output_type": "stream",
     "text": [
      "10101111\n",
      "01111101\n",
      "11001110\n",
      "00000010\n",
      "2\n",
      "3 -1\n",
      "1 1\n",
      "7\n"
     ]
    }
   ],
   "source": [
    "def rotate(tooths, tooth_num, rot_dir, check_tooths) :\n",
    "    #print(tooth_num)\n",
    "    #print(tooths[tooth_num])\n",
    "    if not(tooth_num + 1 in check_tooths) :\n",
    "        if tooths[tooth_num][2] != tooths[tooth_num + 1][6] :\n",
    "            check_tooths.append(tooth_num)\n",
    "            rotate(tooths, tooth_num + 1, rot_dir * -1, check_tooths)\n",
    "    if not(tooth_num - 1 in check_tooths) :\n",
    "        if tooths[tooth_num][6] != tooths[tooth_num - 1][2] :\n",
    "            check_tooths.append(tooth_num)\n",
    "            rotate(tooths, tooth_num - 1, rot_dir * -1, check_tooths)\n",
    "    if rot_dir == 1 :\n",
    "        tooths[tooth_num].insert(0, tooths[tooth_num].pop(7))\n",
    "    else :\n",
    "        tooths[tooth_num].insert(7, tooths[tooth_num].pop(0))\n",
    "    \n",
    "def Input() :\n",
    "    tooths = [[]]\n",
    "    for i in range(4) :\n",
    "        tooths.append([int(atom) for atom in input()])\n",
    "    tooths.append([])\n",
    "    case_num = int(input())\n",
    "    tooth_num = []\n",
    "    rot_dir = []\n",
    "    for case in range(case_num) :\n",
    "        num, dire = tuple(map(int, input().split()))\n",
    "        tooth_num.append(num)\n",
    "        rot_dir.append(dire)\n",
    "    return tooths, tooth_num, rot_dir\n",
    "\n",
    "def main() :\n",
    "    #tooths, tooth_num, rot_dir = [[],[1,0,1,0,1,1,1,1],[0,1,1,1,1,1,0,1],[1,1,0,0,1,1,1,0],[0,0,0,0,0,0,1,0],[]], [3,1], [-1,1]\n",
    "    #tooths, tooth_num, rot_dir = [[],[1,1,1,1,1,1,1,1],[1,1,1,1,1,1,1,1],[1,1,1,1,1,1,1,1],[1,1,1,1,1,1,1,1],[]], [1,2,3], [1,1,1]\n",
    "    #tooths, tooth_num, rot_dir = [[],[1,0,0,0,1,0,1,1],[1,0,0,0,0,0,1,1],[0,1,0,1,1,0,1,1],[0,0,1,1,1,1,0,1],[]], [1,2,3,4,1,], [1,1,1,1,-1]\n",
    "    #tooths, tooth_num, rot_dir = [[],[1,0,0,1,0,0,1,1],[0,1,0,1,0,0,1,1],[1,1,1,0,0,0,1,1],[0,1,0,1,0,1,0,1],[]], [1,2,3,4,1,2,3,4], [1,1,1,1,-1,-1,-1,-1]\n",
    "    tooths, tooth_num, rot_dir = Input()\n",
    "    case_num = len(tooth_num)\n",
    "    for case in range(case_num) :\n",
    "        check_tooths = [0,5]\n",
    "        rotate(tooths, tooth_num[case], rot_dir[case], check_tooths)\n",
    "    score = 1 * tooths[1][0] + 2 * tooths[2][0] + 4 * tooths[3][0] + 8 * tooths[4][0]\n",
    "    print(score)\n",
    "    \n",
    "if __name__ == '__main__' :\n",
    "    main()\n",
    "\n",
    "# 7 , 15, 6, 5\n"
   ]
  }
 ],
 "metadata": {
  "kernelspec": {
   "display_name": "Python 3",
   "language": "python",
   "name": "python3"
  },
  "language_info": {
   "codemirror_mode": {
    "name": "ipython",
    "version": 3
   },
   "file_extension": ".py",
   "mimetype": "text/x-python",
   "name": "python",
   "nbconvert_exporter": "python",
   "pygments_lexer": "ipython3",
   "version": "3.7.0"
  }
 },
 "nbformat": 4,
 "nbformat_minor": 2
}
