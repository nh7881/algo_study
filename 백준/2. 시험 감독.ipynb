{
 "cells": [
  {
   "cell_type": "markdown",
   "metadata": {},
   "source": [
    "### 2 시험 감독"
   ]
  },
  {
   "cell_type": "code",
   "execution_count": null,
   "metadata": {},
   "outputs": [],
   "source": [
    "#rooms = [1000000, 1000000, 1000000, 1000000, 1000000]\n",
    "#prim = 5\n",
    "#sub = 7\n",
    "def cal_supervisor(rooms, prime, sub) :\n",
    "    supervisor = 0\n",
    "    for room in rooms :\n",
    "        room = room - prime\n",
    "        supervisor += 1\n",
    "        if(room > 0) :\n",
    "            div = room / sub\n",
    "            if(div - int(div) > 0) :\n",
    "                rem = 1\n",
    "            else :\n",
    "                rem = 0\n",
    "            supervisor += int(div) + rem\n",
    "    return supervisor\n",
    "\n",
    "\n",
    "def Input() :\n",
    "    room_num = int(input())\n",
    "    rooms = list()\n",
    "    for room in input().split(' ') :\n",
    "        rooms.append(int(room))\n",
    "    supervisor_ability = input().split(' ')\n",
    "    prime = int(supervisor_ability[0])\n",
    "    sub = int(supervisor_ability[1])\n",
    "    return (rooms, prime, sub)\n",
    "\n",
    "\n",
    "\n",
    "def main() :\n",
    "    [rooms, prime, sub] = Input()\n",
    "    res = cal_supervisor(rooms, prime, sub)\n",
    "    print(res)\n",
    "    \n",
    "if __name__ == '__main__' :\n",
    "    main()\n"
   ]
  }
 ],
 "metadata": {
  "kernelspec": {
   "display_name": "Python 3",
   "language": "python",
   "name": "python3"
  },
  "language_info": {
   "codemirror_mode": {
    "name": "ipython",
    "version": 3
   },
   "file_extension": ".py",
   "mimetype": "text/x-python",
   "name": "python",
   "nbconvert_exporter": "python",
   "pygments_lexer": "ipython3",
   "version": "3.7.4"
  }
 },
 "nbformat": 4,
 "nbformat_minor": 2
}
