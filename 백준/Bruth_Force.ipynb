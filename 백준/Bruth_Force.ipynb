{
 "cells": [
  {
   "cell_type": "code",
   "execution_count": null,
   "metadata": {},
   "outputs": [],
   "source": [
    "# 1. 블랙잭\n",
    "goal = int(input().split(' ')[1])\n",
    "arr = list(map(int, input().split(' ')))\n",
    "diff = goal\n",
    "res = 0\n",
    "total = 0\n",
    "for first in range(len(arr)) :\n",
    "    total += arr[first]\n",
    "    for second in range(first + 1, len(arr)) :\n",
    "        total += arr[second]\n",
    "        for third in range(second + 1, len(arr)) :\n",
    "            total += arr[third]\n",
    "            if diff >= goal - total and total <= goal:\n",
    "                res = total\n",
    "                diff = goal - total\n",
    "            total -= arr[third]\n",
    "        total -= arr[second]\n",
    "    total -= arr[first]\n",
    "print(res)"
   ]
  },
  {
   "cell_type": "code",
   "execution_count": null,
   "metadata": {},
   "outputs": [],
   "source": [
    "# 2. 분해합\n",
    "num = int(input())\n",
    "res = 0\n",
    "sucess = False\n",
    "for n in range(1, num) :\n",
    "    target = n\n",
    "    res = target\n",
    "    while n > 0:\n",
    "        target += n % 10\n",
    "        n = int(n / 10)\n",
    "    if target == num :\n",
    "        sucess = True\n",
    "        break\n",
    "if sucess :\n",
    "    print(res)\n",
    "else :\n",
    "    print(0)"
   ]
  },
  {
   "cell_type": "code",
   "execution_count": null,
   "metadata": {},
   "outputs": [],
   "source": [
    "# 3. 덩치\n",
    "arr = []\n",
    "for size in range(int(input())) :\n",
    "    arr.append(list(map(int, input().split(' '))))\n",
    "for val in arr :\n",
    "    ranking = 1\n",
    "    for other in arr :\n",
    "        if val[0] < other[0] :\n",
    "            if val[1] < other[1] :\n",
    "                 ranking += 1\n",
    "    print(ranking, end = ' ')"
   ]
  },
  {
   "cell_type": "code",
   "execution_count": 5,
   "metadata": {},
   "outputs": [
    {
     "name": "stdout",
     "output_type": "stream",
     "text": [
      "10 13\n",
      "12\n"
     ]
    }
   ],
   "source": [
    "# 4. 체스판 다시 칠하기\n",
    "#  이를 8 * 8 범위로 반복\n",
    "# 첫 칸이 흰색이라는 가정하에 모두 다시 칠하기\n",
    "# 첫 칸이 검은색이라는 가정하에 모두 다시 칠하기\n",
    "# min\n",
    "size = list(map(int, input().split(' ')))\n",
    "board = []\n",
    "for row_num in range(size[0]) :\n",
    "    board.append(input())\n",
    "min_val = 64\n",
    "res = 0\n",
    "for start_row in range(size[0] - 7) :\n",
    "    for start_col in range(size[1] - 7) :\n",
    "        res = 0\n",
    "        for row in range(8) :\n",
    "            for col in range(8) :\n",
    "                if (row +  col) % 2 == 0 :\n",
    "                    if board[start_row + row][start_col + col] == 'B' :\n",
    "                        res += 1\n",
    "                else :\n",
    "                    if board[start_row + row][start_col + col] == 'W' :\n",
    "                        res += 1\n",
    "        min_val = min(min_val,min(res, 64 - res))\n",
    "print(min_val)"
   ]
  },
  {
   "cell_type": "code",
   "execution_count": 7,
   "metadata": {},
   "outputs": [
    {
     "name": "stdout",
     "output_type": "stream",
     "text": [
      "10000\n",
      "2666799\n"
     ]
    }
   ],
   "source": [
    "# 5. 영화감독 숌\n",
    "target = int(input())\n",
    "n = 666\n",
    "count = 1\n",
    "while True :\n",
    "    if count == target :\n",
    "        print(n)\n",
    "        break\n",
    "    n += 1\n",
    "    check = n\n",
    "    while check > 0 :\n",
    "        if check % 10 == 6 :\n",
    "            check = int(check / 10)\n",
    "            if check % 10 == 6 :\n",
    "                check = int(check / 10)\n",
    "                if check % 10 == 6 :\n",
    "                    count += 1\n",
    "                    break\n",
    "        else :\n",
    "            check = int(check / 10)"
   ]
  }
 ],
 "metadata": {
  "kernelspec": {
   "display_name": "Python 3",
   "language": "python",
   "name": "python3"
  },
  "language_info": {
   "codemirror_mode": {
    "name": "ipython",
    "version": 3
   },
   "file_extension": ".py",
   "mimetype": "text/x-python",
   "name": "python",
   "nbconvert_exporter": "python",
   "pygments_lexer": "ipython3",
   "version": "3.7.4"
  }
 },
 "nbformat": 4,
 "nbformat_minor": 2
}
