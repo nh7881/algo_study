{
 "cells": [
  {
   "cell_type": "markdown",
   "metadata": {},
   "source": [
    "### for 문"
   ]
  },
  {
   "cell_type": "code",
   "execution_count": 1,
   "metadata": {},
   "outputs": [
    {
     "name": "stdout",
     "output_type": "stream",
     "text": [
      "2\n",
      "2 * 1 = 2\n",
      "2 * 2 = 4\n",
      "2 * 3 = 6\n",
      "2 * 4 = 8\n",
      "2 * 5 = 10\n",
      "2 * 6 = 12\n",
      "2 * 7 = 14\n",
      "2 * 8 = 16\n",
      "2 * 9 = 18\n"
     ]
    }
   ],
   "source": [
    "# 1. 구구단\n",
    "num = int(input())\n",
    "\n",
    "for multi in range(1, 10) :\n",
    "    print('{} * {} = {}'.format(num, multi, num * multi))"
   ]
  },
  {
   "cell_type": "code",
   "execution_count": 2,
   "metadata": {},
   "outputs": [
    {
     "name": "stdout",
     "output_type": "stream",
     "text": [
      "5\n",
      "1 1\n",
      "2\n",
      "2 2\n",
      "4\n",
      "3 5\n",
      "8\n",
      "4 6\n",
      "10\n",
      "7 7\n",
      "14\n"
     ]
    }
   ],
   "source": [
    "# 2. A + B - 3\n",
    "case_num = int(input())\n",
    "\n",
    "for case in range(0, case_num) :\n",
    "    num = list(map(int, input().split(' ')))\n",
    "    print(num[0] + num[1])"
   ]
  },
  {
   "cell_type": "code",
   "execution_count": 5,
   "metadata": {},
   "outputs": [
    {
     "name": "stdout",
     "output_type": "stream",
     "text": [
      "10\n",
      "55\n"
     ]
    }
   ],
   "source": [
    "# 3. 합\n",
    "num = int(input())\n",
    "\n",
    "total = 0\n",
    "for n in range(1, num + 1) :\n",
    "    total += n\n",
    "print(total)"
   ]
  },
  {
   "cell_type": "code",
   "execution_count": null,
   "metadata": {},
   "outputs": [],
   "source": [
    "# 4. 빠른 A + B\n",
    "import sys\n",
    "Input = sys.stdin.readline\n",
    "case_num = int(Input())\n",
    "\n",
    "for case in range(0, case_num) :\n",
    "    num = list(map(int, Input().split(' ')))\n",
    "    print(num[0] + num[1])"
   ]
  },
  {
   "cell_type": "code",
   "execution_count": 1,
   "metadata": {},
   "outputs": [
    {
     "name": "stdout",
     "output_type": "stream",
     "text": [
      "4\n",
      "1\n",
      "2\n",
      "3\n",
      "4\n"
     ]
    }
   ],
   "source": [
    "# 5. N 찍기\n",
    "num = int(input())\n",
    "for n in range(1, num + 1) :\n",
    "    print(n)"
   ]
  },
  {
   "cell_type": "code",
   "execution_count": 4,
   "metadata": {},
   "outputs": [
    {
     "name": "stdout",
     "output_type": "stream",
     "text": [
      "11\n",
      "11\n",
      "10\n",
      "9\n",
      "8\n",
      "7\n",
      "6\n",
      "5\n",
      "4\n",
      "3\n",
      "2\n",
      "1\n"
     ]
    }
   ],
   "source": [
    "# 6. N 기찍\n",
    "num = int(input())\n",
    "for n in range(num, 0, -1) :\n",
    "    print(n)"
   ]
  },
  {
   "cell_type": "code",
   "execution_count": 6,
   "metadata": {},
   "outputs": [
    {
     "name": "stdout",
     "output_type": "stream",
     "text": [
      "5\n",
      "13 5\n",
      "Case #1: 18\n",
      "5 5\n",
      "Case #2: 10\n",
      "6 6\n",
      "Case #3: 12\n",
      "2 2\n",
      "Case #4: 4\n",
      "3 5\n",
      "Case #5: 8\n"
     ]
    }
   ],
   "source": [
    "# 7. A + B - 7\n",
    "case_num = int(input())\n",
    "\n",
    "for case in range(1, case_num + 1) :\n",
    "    num = list(map(int, input().split(' ')))\n",
    "    print('Case #{}: {}'.format(case, num[0] + num[1]))"
   ]
  },
  {
   "cell_type": "code",
   "execution_count": 8,
   "metadata": {},
   "outputs": [
    {
     "name": "stdout",
     "output_type": "stream",
     "text": [
      "1\n",
      "2 6\n",
      "Case #1: 2 + 6 = 8\n"
     ]
    }
   ],
   "source": [
    "# 8. A + B - 8\n",
    "case_num = int(input())\n",
    "\n",
    "for case in range(1, case_num + 1) :\n",
    "    num = list(map(int, input().split(' ')))\n",
    "    print('Case #{}: {} + {} = {}'.format(case, num[0], num[1], num[0] + num[1]))"
   ]
  },
  {
   "cell_type": "code",
   "execution_count": 21,
   "metadata": {},
   "outputs": [
    {
     "name": "stdout",
     "output_type": "stream",
     "text": [
      "5\n",
      "*\n",
      "**\n",
      "***\n",
      "****\n",
      "*****\n"
     ]
    }
   ],
   "source": [
    "# 9. 별 찍기 - 1\n",
    "num = int(input())\n",
    "for row in range(1, num + 1,) :\n",
    "    for col in range(0, row) :\n",
    "        print('*', end = '')\n",
    "    print()"
   ]
  },
  {
   "cell_type": "code",
   "execution_count": 16,
   "metadata": {},
   "outputs": [
    {
     "name": "stdout",
     "output_type": "stream",
     "text": [
      "5\n",
      "    *\n",
      "   **\n",
      "  ***\n",
      " ****\n",
      "*****\n"
     ]
    }
   ],
   "source": [
    "# 10. 별 찍기 - 2\n",
    "num = int(input())\n",
    "for row in range(num, 0, -1) :\n",
    "    for col in range(1, row) :\n",
    "        print(' ', end = '')\n",
    "    for col2 in range(row, num + 1) :\n",
    "        print('*', end = '')\n",
    "    print()"
   ]
  },
  {
   "cell_type": "code",
   "execution_count": 19,
   "metadata": {},
   "outputs": [
    {
     "name": "stdout",
     "output_type": "stream",
     "text": [
      "5 6\n",
      "1 5 6 11 2 2\n",
      "1 5 2 2 "
     ]
    }
   ],
   "source": [
    "# 11. X보다 작은 수\n",
    "target = int(input().split(' ')[1])\n",
    "arr = list(map(int, input().split(' ')))\n",
    "res = []\n",
    "for num in arr :\n",
    "    if target > num :\n",
    "        res.append(num)\n",
    "for value in res :\n",
    "    print(value, end = ' ')"
   ]
  }
 ],
 "metadata": {
  "kernelspec": {
   "display_name": "Python 3",
   "language": "python",
   "name": "python3"
  },
  "language_info": {
   "codemirror_mode": {
    "name": "ipython",
    "version": 3
   },
   "file_extension": ".py",
   "mimetype": "text/x-python",
   "name": "python",
   "nbconvert_exporter": "python",
   "pygments_lexer": "ipython3",
   "version": "3.7.4"
  }
 },
 "nbformat": 4,
 "nbformat_minor": 2
}
