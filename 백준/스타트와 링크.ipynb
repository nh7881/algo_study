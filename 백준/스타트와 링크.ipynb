{
 "cells": [
  {
   "cell_type": "markdown",
   "metadata": {},
   "source": [
    "# 스타트와 링크"
   ]
  },
  {
   "cell_type": "code",
   "execution_count": 22,
   "metadata": {},
   "outputs": [
    {
     "name": "stdout",
     "output_type": "stream",
     "text": [
      "8\n",
      "0 5 4 5 4 5 4 5\n",
      "4 0 5 1 2 3 4 5\n",
      "9 8 0 1 2 3 1 2\n",
      "9 9 9 0 9 9 9 9\n",
      "1 1 1 1 0 1 1 1\n",
      "8 7 6 5 4 0 3 2\n",
      "9 1 9 1 9 1 0 9\n",
      "6 5 4 3 2 1 9 0\n",
      "1\n"
     ]
    },
    {
     "data": {
      "text/plain": [
       "'\\n4\\n0 5 4 5 4 5 4 5\\n4 0 5 1 2 3 4 5\\n9 8 0 1 2 3 1 2\\n9 9 9 0 9 9 9 9\\n1 1 1 1 0 1 1 1\\n8 7 6 5 4 0 3 2\\n9 1 9 1 9 1 0 9\\n6 5 4 3 2 1 9 0\\n'"
      ]
     },
     "execution_count": 22,
     "metadata": {},
     "output_type": "execute_result"
    }
   ],
   "source": [
    "# 선수를 뽑는 함수\n",
    "def choice(team, players) :\n",
    "    global board\n",
    "    if len(team) == len(board) / 2 :\n",
    "        #print(team)\n",
    "        ret = cal_score(team)\n",
    "        return ret\n",
    "    ret = float('inf')\n",
    "    for n in range(len(players)) :\n",
    "        team.append(players[n])\n",
    "        ret = min(ret, choice(team, players[n + 1:]))\n",
    "        team.pop()\n",
    "    return ret\n",
    "\n",
    "def cal_score(team_a) :\n",
    "    global board\n",
    "    index = 0\n",
    "    a_score, b_score = 0, 0\n",
    "    team_b = []\n",
    "    for num in range(len(team_a) * 2) :\n",
    "        #print(index)\n",
    "        if num + 1 != team_a[index] :\n",
    "            team_b.append(num + 1)\n",
    "        else :\n",
    "            index = min(index + 1, len(team_a) - 1)\n",
    "    for i in range(len(team_a)) :\n",
    "        for j in range(len(team_a)) :\n",
    "            a_score += board[team_a[i] - 1][team_a[j] - 1]\n",
    "            b_score += board[team_b[i] - 1][team_b[j] - 1]\n",
    "    return abs(a_score - b_score)\n",
    "\n",
    "board = []\n",
    "\n",
    "def Input() :\n",
    "    global board\n",
    "    for row in range(int(input())) :\n",
    "        board.append(list(map(int, input().split())))\n",
    "\n",
    "def main() :\n",
    "    global board\n",
    "    #board = [[0,1,2,3],[4,0,5,6],[7,1,0,2],[3,4,5,0]]\n",
    "    #board = [[0, 1, 2, 3, 4, 5], [1, 0, 2, 3, 4, 5], [1, 2, 0, 3, 4, 5], [1, 2, 3, 0, 4, 5], [1, 2, 3, 4, 0, 5], [1, 2, 3, 4, 5, 0]]\n",
    "    Input()\n",
    "    players = [player + 1 for player in range(len(board))]\n",
    "    #print(players)\n",
    "    team = []\n",
    "    res = choice(team, players)\n",
    "    print(res)\n",
    "    \n",
    "if __name__ == '__main__' :\n",
    "    main()\n",
    "    \n",
    "# 뽑은 선수로 팀을 이뤄 점수를 계산하는 함수\n",
    "'''\n",
    "4\n",
    "0 5 4 5 4 5 4 5\n",
    "4 0 5 1 2 3 4 5\n",
    "9 8 0 1 2 3 1 2\n",
    "9 9 9 0 9 9 9 9\n",
    "1 1 1 1 0 1 1 1\n",
    "8 7 6 5 4 0 3 2\n",
    "9 1 9 1 9 1 0 9\n",
    "6 5 4 3 2 1 9 0\n",
    "'''"
   ]
  }
 ],
 "metadata": {
  "kernelspec": {
   "display_name": "Python 3",
   "language": "python",
   "name": "python3"
  },
  "language_info": {
   "codemirror_mode": {
    "name": "ipython",
    "version": 3
   },
   "file_extension": ".py",
   "mimetype": "text/x-python",
   "name": "python",
   "nbconvert_exporter": "python",
   "pygments_lexer": "ipython3",
   "version": "3.7.0"
  }
 },
 "nbformat": 4,
 "nbformat_minor": 2
}
