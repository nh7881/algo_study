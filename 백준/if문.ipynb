{
 "cells": [
  {
   "cell_type": "markdown",
   "metadata": {},
   "source": [
    "### if문"
   ]
  },
  {
   "cell_type": "code",
   "execution_count": 3,
   "metadata": {},
   "outputs": [
    {
     "name": "stdout",
     "output_type": "stream",
     "text": [
      "1 2\n",
      "<\n"
     ]
    }
   ],
   "source": [
    "## 1. 두 수 비교\n",
    "Input = input().split(' ')\n",
    "a = int(Input[0])\n",
    "b = int(Input[1])\n",
    "\n",
    "if a > b :\n",
    "    print('>')\n",
    "elif a < b :\n",
    "    print('<')\n",
    "else :\n",
    "    print('==')"
   ]
  },
  {
   "cell_type": "code",
   "execution_count": 8,
   "metadata": {},
   "outputs": [
    {
     "name": "stdout",
     "output_type": "stream",
     "text": [
      "11\n",
      "F\n"
     ]
    }
   ],
   "source": [
    "# 2. 시험 성적\n",
    "grade = int(input())\n",
    "if grade >= 90 and grade <= 100:\n",
    "    print('A')\n",
    "elif grade >= 80 :\n",
    "    print('B')\n",
    "elif grade >= 70 :\n",
    "    print('C')\n",
    "elif grade >= 60 :\n",
    "    print('D')\n",
    "else :\n",
    "    print('F')"
   ]
  },
  {
   "cell_type": "code",
   "execution_count": 14,
   "metadata": {},
   "outputs": [
    {
     "name": "stdout",
     "output_type": "stream",
     "text": [
      "197\n",
      "0\n"
     ]
    }
   ],
   "source": [
    "# 3. 윤년\n",
    "\n",
    "year = int(input())\n",
    "res = 0\n",
    "if year % 400 == 0 :\n",
    "    res = 1\n",
    "elif year % 100 == 0 :\n",
    "    res = 0\n",
    "elif year % 4 == 0 :\n",
    "    res = 1\n",
    "else :\n",
    "    res = 0\n",
    "print(res)"
   ]
  },
  {
   "cell_type": "code",
   "execution_count": 17,
   "metadata": {},
   "outputs": [
    {
     "name": "stdout",
     "output_type": "stream",
     "text": [
      "0 10\n",
      "23 25\n"
     ]
    }
   ],
   "source": [
    "# 4. 알람 맟추기\n",
    "\n",
    "time = input().split(' ')\n",
    "hour = int(time[0])\n",
    "minute = int(time[1])\n",
    "minute -= 45\n",
    "if minute < 0 :\n",
    "    hour -= 1\n",
    "    minute += 60\n",
    "if hour < 0 :\n",
    "    hour += 24\n",
    "print(hour, minute)\n"
   ]
  },
  {
   "cell_type": "code",
   "execution_count": 26,
   "metadata": {},
   "outputs": [
    {
     "name": "stdout",
     "output_type": "stream",
     "text": [
      "40 50 50\n",
      "50\n"
     ]
    }
   ],
   "source": [
    "# 5. 세 수\n",
    "\n",
    "number = list(map(int, input().split(' ')))\n",
    "first_max = 0\n",
    "second_max = 0\n",
    "for num in range(0, 3) :\n",
    "    if first_max <= number[num] :\n",
    "        second_max = first_max\n",
    "        first_max = number[num]\n",
    "    elif first_max > number[num] and second_max <= number[num] :\n",
    "        second_max = number[num]\n",
    "print(second_max)"
   ]
  }
 ],
 "metadata": {
  "kernelspec": {
   "display_name": "Python 3",
   "language": "python",
   "name": "python3"
  },
  "language_info": {
   "codemirror_mode": {
    "name": "ipython",
    "version": 3
   },
   "file_extension": ".py",
   "mimetype": "text/x-python",
   "name": "python",
   "nbconvert_exporter": "python",
   "pygments_lexer": "ipython3",
   "version": "3.7.4"
  }
 },
 "nbformat": 4,
 "nbformat_minor": 2
}
