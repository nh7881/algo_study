{
 "cells": [
  {
   "cell_type": "code",
   "execution_count": 10,
   "metadata": {},
   "outputs": [
    {
     "name": "stdout",
     "output_type": "stream",
     "text": [
      "4 100\n",
      "90 5 6 2\n",
      "98\n"
     ]
    }
   ],
   "source": [
    "# 1. 블랙잭\n",
    "goal = int(input().split(' ')[1])\n",
    "arr = list(map(int, input().split(' ')))\n",
    "diff = goal\n",
    "res = 0\n",
    "total = 0\n",
    "for first in range(len(arr)) :\n",
    "    total += arr[first]\n",
    "    for second in range(first + 1, len(arr)) :\n",
    "        total += arr[second]\n",
    "        for third in range(second + 1, len(arr)) :\n",
    "            total += arr[third]\n",
    "            if diff >= goal - total and total <= goal:\n",
    "                res = total\n",
    "                diff = goal - total\n",
    "            total -= arr[third]\n",
    "        total -= arr[second]\n",
    "    total -= arr[first]\n",
    "print(res)"
   ]
  },
  {
   "cell_type": "code",
   "execution_count": 17,
   "metadata": {},
   "outputs": [
    {
     "name": "stdout",
     "output_type": "stream",
     "text": [
      "3\n",
      "0\n"
     ]
    }
   ],
   "source": [
    "# 2. 분해합\n",
    "num = int(input())\n",
    "res = 0\n",
    "sucess = False\n",
    "for n in range(1, num) :\n",
    "    target = n\n",
    "    res = target\n",
    "    while n > 0:\n",
    "        target += n % 10\n",
    "        n = int(n / 10)\n",
    "    if target == num :\n",
    "        sucess = True\n",
    "        break\n",
    "if sucess :\n",
    "    print(res)\n",
    "else :\n",
    "    print(0)"
   ]
  }
 ],
 "metadata": {
  "kernelspec": {
   "display_name": "Python 3",
   "language": "python",
   "name": "python3"
  },
  "language_info": {
   "codemirror_mode": {
    "name": "ipython",
    "version": 3
   },
   "file_extension": ".py",
   "mimetype": "text/x-python",
   "name": "python",
   "nbconvert_exporter": "python",
   "pygments_lexer": "ipython3",
   "version": "3.7.4"
  }
 },
 "nbformat": 4,
 "nbformat_minor": 2
}
