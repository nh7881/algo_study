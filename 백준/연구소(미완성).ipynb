{
 "cells": [
  {
   "cell_type": "markdown",
   "metadata": {},
   "source": [
    "### 연구소"
   ]
  },
  {
   "cell_type": "code",
   "execution_count": 44,
   "metadata": {},
   "outputs": [
    {
     "name": "stdout",
     "output_type": "stream",
     "text": [
      "9\n"
     ]
    }
   ],
   "source": [
    "board = []\n",
    "origin_board = []\n",
    "\n",
    "def search_virus() :\n",
    "    global board\n",
    "    ret = []\n",
    "    for row in range(0, len(board)) :\n",
    "        for col in range(0, len(board[0])) :\n",
    "            if board[row][col] == 2 :\n",
    "                ret.append([row, col])\n",
    "    return ret\n",
    "\n",
    "def virus_append(y, x) :\n",
    "    global board\n",
    "    dy = [0, 1, 0, -1]\n",
    "    dx = [1, 0, -1, 0]\n",
    "    #print(y, x)\n",
    "    for direct in range(0, 4) : \n",
    "        pos_x = min(max(0, x + dx[direct]), len(board[0]) - 1)\n",
    "        pos_y = min(max(0, y + dy[direct]), len(board) - 1)\n",
    "        if board[pos_y][pos_x] == 0 :\n",
    "            board[pos_y][pos_x] = 2\n",
    "            virus_append(pos_y, pos_x)\n",
    "        \n",
    "        \n",
    "def check_space() :\n",
    "    global board\n",
    "    ret = 0\n",
    "    for row in range(0, len(board)) :\n",
    "        for col in range(0, len(board[0])) :\n",
    "            if board[row][col] == 0 :\n",
    "                ret += 1\n",
    "    return ret\n",
    "\n",
    "import copy    \n",
    "def create_wall() :\n",
    "    global board, origin_board\n",
    "    ret = 0\n",
    "    virus_pos = search_virus()\n",
    "    for row in range(0, len(board)) :\n",
    "        for col in range(0, len(board[0])) :\n",
    "            if board[row][col] == 0 :\n",
    "                board[row][col] = 1\n",
    "                for row2 in range(0, len(board)) :\n",
    "                    for col2 in range(0, len(board[0])) :\n",
    "                        if board[row2][col2] == 0 :\n",
    "                            board[row2][col2] = 1\n",
    "                            for row3 in range(0, len(board)) :\n",
    "                                for col3 in range(0, len(board[0])) :\n",
    "                                    if board[row3][col3] == 0 :\n",
    "                                        board[row3][col3] = 1\n",
    "                                        origin_board = copy.deepcopy(board)\n",
    "                                        for virus in virus_pos :\n",
    "                                            virus_append(virus[0], virus[1])\n",
    "                                        ret =  max(ret, check_space())\n",
    "                                        board = copy.deepcopy(origin_board)\n",
    "                                        board[row3][col3] = 0\n",
    "                            board[row2][col2] = 0\n",
    "                board[row][col] = 0       \n",
    "    return ret\n",
    "\n",
    "def Input() :\n",
    "    global board\n",
    "    row_num = int(input().split(' ')[0])\n",
    "    for row in range(0, row_num) :\n",
    "        board.append(list(map(int, input().split(' '))))\n",
    "\n",
    "def main() :\n",
    "    global board\n",
    "    board = [[0, 0, 0, 0, 0, 0], [1, 0, 0, 0, 0, 2], [1, 1, 1, 0, 0, 2], [0, 0, 0, 0, 0, 2]]\n",
    "    #Input()\n",
    "    res = create_wall()\n",
    "    print(res)\n",
    "    \n",
    "if __name__ == '__main__' :\n",
    "    main()"
   ]
  },
  {
   "cell_type": "code",
   "execution_count": null,
   "metadata": {},
   "outputs": [],
   "source": []
  }
 ],
 "metadata": {
  "kernelspec": {
   "display_name": "Python 3",
   "language": "python",
   "name": "python3"
  },
  "language_info": {
   "codemirror_mode": {
    "name": "ipython",
    "version": 3
   },
   "file_extension": ".py",
   "mimetype": "text/x-python",
   "name": "python",
   "nbconvert_exporter": "python",
   "pygments_lexer": "ipython3",
   "version": "3.7.0"
  }
 },
 "nbformat": 4,
 "nbformat_minor": 2
}
