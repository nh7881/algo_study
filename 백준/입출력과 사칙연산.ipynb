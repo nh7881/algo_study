{
 "cells": [
  {
   "cell_type": "markdown",
   "metadata": {},
   "source": [
    "### 입출력과 사칙연산"
   ]
  },
  {
   "cell_type": "code",
   "execution_count": 4,
   "metadata": {},
   "outputs": [
    {
     "name": "stdout",
     "output_type": "stream",
     "text": [
      "\\    /\\\n",
      " )  ( ')\n",
      "(  /  )\n",
      " \\(__)|\n"
     ]
    }
   ],
   "source": [
    "# 3.고양이\n",
    "\n",
    "print('\\    /\\\\')\n",
    "print(' )  ( \\')')\n",
    "print('(  /  )')\n",
    "print(' \\(__)|')"
   ]
  },
  {
   "cell_type": "code",
   "execution_count": 13,
   "metadata": {},
   "outputs": [
    {
     "name": "stdout",
     "output_type": "stream",
     "text": [
      "|\\_/|\n",
      "|q p|   /}\n",
      "( 0 )\"\"\"\\\n",
      "|\"^\"`    |\n",
      "||_/=\\\\__|\n"
     ]
    }
   ],
   "source": [
    "# 4. 개\n",
    "\n",
    "print('|\\_/|\\n\\\n",
    "|q p|   /}\\n\\\n",
    "( 0 )\"\"\"\\\\\\n\\\n",
    "|\"^\"`    |\\n\\\n",
    "||_/=\\\\\\\\__|')"
   ]
  },
  {
   "cell_type": "code",
   "execution_count": 14,
   "metadata": {},
   "outputs": [
    {
     "name": "stdout",
     "output_type": "stream",
     "text": [
      "1 2 \n",
      "3\n"
     ]
    }
   ],
   "source": [
    "# 5. A + B\n",
    "\n",
    "Input = input().split(' ')\n",
    "a = int(Input[0])\n",
    "b = int(Input[1])\n",
    "print(a + b)"
   ]
  },
  {
   "cell_type": "code",
   "execution_count": 16,
   "metadata": {},
   "outputs": [
    {
     "name": "stdout",
     "output_type": "stream",
     "text": [
      "ab\n"
     ]
    }
   ],
   "source": [
    "# 6. A - B\n",
    "\n",
    "Input = input().split(' ')\n",
    "a = int(Input[0])\n",
    "b = int(Input[1])\n",
    "print(a - b)"
   ]
  },
  {
   "cell_type": "code",
   "execution_count": null,
   "metadata": {},
   "outputs": [],
   "source": [
    "# 7. A * B\n",
    "\n",
    "Input = input().split(' ')\n",
    "a = int(Input[0])\n",
    "b = int(Input[1])\n",
    "print(a * b)"
   ]
  },
  {
   "cell_type": "code",
   "execution_count": null,
   "metadata": {},
   "outputs": [],
   "source": [
    "# 8. A / B\n",
    "\n",
    "Input = input().split(' ')\n",
    "a = int(Input[0])\n",
    "b = int(Input[1])\n",
    "print(a / b)"
   ]
  },
  {
   "cell_type": "code",
   "execution_count": 17,
   "metadata": {},
   "outputs": [
    {
     "name": "stdout",
     "output_type": "stream",
     "text": [
      "7 3\n",
      "10\n",
      "4\n",
      "21\n",
      "2\n",
      "1\n"
     ]
    }
   ],
   "source": [
    "# 9. A +-*/% B\n",
    "\n",
    "Input = input().split(' ')\n",
    "a = int(Input[0])\n",
    "b = int(Input[1])\n",
    "print(a + b)\n",
    "print(a - b)\n",
    "print(a * b)\n",
    "print(int(a / b))\n",
    "print(a % b)"
   ]
  },
  {
   "cell_type": "code",
   "execution_count": null,
   "metadata": {},
   "outputs": [],
   "source": [
    "# 10. A % B 규칙\n",
    "\n",
    "Input = input().split(' ')\n",
    "a = int(Input[0])\n",
    "b = int(Input[1])\n",
    "c = int(Input[2])\n",
    "print((a + b) % c)\n",
    "print((a % c + b % c) % c)\n",
    "print((a * b) % c)\n",
    "print((a % c * b % c) % c)"
   ]
  },
  {
   "cell_type": "code",
   "execution_count": 21,
   "metadata": {},
   "outputs": [
    {
     "name": "stdout",
     "output_type": "stream",
     "text": [
      "472\n",
      "385\n",
      "2360\n",
      "3776\n",
      "1416\n",
      "181720\n"
     ]
    }
   ],
   "source": [
    "# 11. Multiply\n",
    "\n",
    "a = int(input())\n",
    "b = input()\n",
    "res = 0\n",
    "for num in range(len(b) - 1, -1, -1) :\n",
    "    temp_res = a * int(b[num])\n",
    "    res += temp_res * (10 ** (len(b) - num - 1))\n",
    "    print(temp_res)\n",
    "print(res)"
   ]
  }
 ],
 "metadata": {
  "kernelspec": {
   "display_name": "Python 3",
   "language": "python",
   "name": "python3"
  },
  "language_info": {
   "codemirror_mode": {
    "name": "ipython",
    "version": 3
   },
   "file_extension": ".py",
   "mimetype": "text/x-python",
   "name": "python",
   "nbconvert_exporter": "python",
   "pygments_lexer": "ipython3",
   "version": "3.7.4"
  }
 },
 "nbformat": 4,
 "nbformat_minor": 2
}
