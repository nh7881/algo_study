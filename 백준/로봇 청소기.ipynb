{
 "cells": [
  {
   "cell_type": "markdown",
   "metadata": {},
   "source": [
    "### 로봇 청소기"
   ]
  },
  {
   "cell_type": "code",
   "execution_count": 2,
   "metadata": {},
   "outputs": [
    {
     "name": "stdout",
     "output_type": "stream",
     "text": [
      "57\n"
     ]
    },
    {
     "data": {
      "text/plain": [
       "'\\n현재 위치를 청소한다.\\n현재 위치에서 현재 방향을 기준으로 왼쪽방향부터 차례대로 탐색을 진행한다.\\n왼쪽 방향에 아직 청소하지 않은 공간이 존재한다면, 그 방향으로 회전한 다음 한 칸을 전진하고 1번부터 진행한다.\\n왼쪽 방향에 청소할 공간이 없다면, 그 방향으로 회전하고 2번으로 돌아간다.\\n네 방향 모두 청소가 이미 되어있거나 벽인 경우에는, 바라보는 방향을 유지한 채로 한 칸 후진을 하고 2번으로 돌아간다.\\n네 방향 모두 청소가 이미 되어있거나 벽이면서, 뒤쪽 방향이 벽이라 후진도 할 수 없는 경우에는 작동을 멈춘다.\\n\\n3 3\\n1 1 0\\n1 1 1\\n1 0 1\\n1 1 1\\n\\n1\\n\\n11 10\\n7 4 0\\n1 1 1 1 1 1 1 1 1 1\\n1 0 0 0 0 0 0 0 0 1\\n1 0 0 0 1 1 1 1 0 1\\n1 0 0 1 1 0 0 0 0 1\\n1 0 1 1 0 0 0 0 0 1\\n1 0 0 0 0 0 0 0 0 1\\n1 0 0 0 0 0 0 1 0 1\\n1 0 0 0 0 0 1 1 0 1\\n1 0 0 0 0 0 1 1 0 1\\n1 0 0 0 0 0 0 0 0 1\\n1 1 1 1 1 1 1 1 1 1\\n\\n57\\n'"
      ]
     },
     "execution_count": 2,
     "metadata": {},
     "output_type": "execute_result"
    }
   ],
   "source": [
    "# 위 0 오른쪽 1 아래 2 왼쪽 3\n",
    "# 빈칸 0 벽 1\n",
    "# 청소한 상태 7\n",
    "def cleaner(board, row, col, d) :\n",
    "    directs = [[-1,0], [0,1], [1,0], [0,-1]]\n",
    "    is_clean = True\n",
    "    ret = 0\n",
    "    while True :\n",
    "        #print(row, col)\n",
    "        #for n in range(len(board)) :\n",
    "        #    print(board[n])\n",
    "        if is_clean == True :\n",
    "            board[row][col] = 7\n",
    "            ret += 1\n",
    "            is_clean = False\n",
    "        for i in range(len(directs)) :\n",
    "            d = (d - 1) % 4\n",
    "            drow, dcol = row + directs[d][0], col + directs[d][1]\n",
    "            if board[drow][dcol] == 0:\n",
    "                row, col = drow, dcol\n",
    "                is_clean = True\n",
    "                break\n",
    "        if is_clean == False :\n",
    "            #d = (d + 1) % 4\n",
    "            row, col = row + directs[d][0] * -1, col + directs[d][1] * -1\n",
    "            if board[row][col] == 1 :\n",
    "                break\n",
    "    return ret\n",
    "                \n",
    "def Input() :\n",
    "    row_len, col_len = tuple(map(int, input().split()))\n",
    "    row, col, d = tuple(map(int, input().split()))\n",
    "    board = []\n",
    "    for row_num in range(row_len) :\n",
    "        board.append(list(map(int, input().split())))\n",
    "    return board, row, col, d\n",
    "        \n",
    "def main() :\n",
    "    board, row, col, d = Input()\n",
    "    #board, row, col, d = [[1,1,1], [1,0,1],[1,1,1]] , 1, 1, 0\n",
    "    #board, row, col, d = [[1, 1, 1, 1, 1, 1, 1, 1, 1, 1], [1, 0, 0, 0, 0, 0, 0, 0, 0, 1], [1, 0, 0, 0, 1, 1, 1, 1, 0, 1], [1, 0, 0, 1, 1, 0, 0, 0, 0, 1], [1, 0, 1, 1, 0, 0, 0, 0, 0, 1], [1, 0, 0, 0, 0, 0, 0, 0, 0, 1], [1, 0, 0, 0, 0, 0, 0, 1, 0, 1], [1, 0, 0, 0, 0, 0, 1, 1, 0, 1], [1, 0, 0, 0, 0, 0, 1, 1, 0, 1], [1, 0, 0, 0, 0, 0, 0, 0, 0, 1],[1, 1, 1, 1, 1, 1, 1, 1, 1, 1]], 7, 4, 0\n",
    "    res = cleaner(board, row, col, d)\n",
    "    print(res)\n",
    "    \n",
    "if __name__ == '__main__' :\n",
    "    main()\n",
    "\n",
    "'''\n",
    "현재 위치를 청소한다.\n",
    "현재 위치에서 현재 방향을 기준으로 왼쪽방향부터 차례대로 탐색을 진행한다.\n",
    "왼쪽 방향에 아직 청소하지 않은 공간이 존재한다면, 그 방향으로 회전한 다음 한 칸을 전진하고 1번부터 진행한다.\n",
    "왼쪽 방향에 청소할 공간이 없다면, 그 방향으로 회전하고 2번으로 돌아간다.\n",
    "네 방향 모두 청소가 이미 되어있거나 벽인 경우에는, 바라보는 방향을 유지한 채로 한 칸 후진을 하고 2번으로 돌아간다.\n",
    "네 방향 모두 청소가 이미 되어있거나 벽이면서, 뒤쪽 방향이 벽이라 후진도 할 수 없는 경우에는 작동을 멈춘다.\n",
    "\n",
    "3 3\n",
    "1 1 0\n",
    "1 1 1\n",
    "1 0 1\n",
    "1 1 1\n",
    "\n",
    "1\n",
    "\n",
    "11 10\n",
    "7 4 0\n",
    "1 1 1 1 1 1 1 1 1 1\n",
    "1 0 0 0 0 0 0 0 0 1\n",
    "1 0 0 0 1 1 1 1 0 1\n",
    "1 0 0 1 1 0 0 0 0 1\n",
    "1 0 1 1 0 0 0 0 0 1\n",
    "1 0 0 0 0 0 0 0 0 1\n",
    "1 0 0 0 0 0 0 1 0 1\n",
    "1 0 0 0 0 0 1 1 0 1\n",
    "1 0 0 0 0 0 1 1 0 1\n",
    "1 0 0 0 0 0 0 0 0 1\n",
    "1 1 1 1 1 1 1 1 1 1\n",
    "\n",
    "57\n",
    "'''"
   ]
  }
 ],
 "metadata": {
  "kernelspec": {
   "display_name": "Python 3",
   "language": "python",
   "name": "python3"
  },
  "language_info": {
   "codemirror_mode": {
    "name": "ipython",
    "version": 3
   },
   "file_extension": ".py",
   "mimetype": "text/x-python",
   "name": "python",
   "nbconvert_exporter": "python",
   "pygments_lexer": "ipython3",
   "version": "3.7.0"
  }
 },
 "nbformat": 4,
 "nbformat_minor": 2
}
