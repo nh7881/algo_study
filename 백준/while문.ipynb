{
 "cells": [
  {
   "cell_type": "markdown",
   "metadata": {},
   "source": [
    "### while문"
   ]
  },
  {
   "cell_type": "code",
   "execution_count": 1,
   "metadata": {},
   "outputs": [
    {
     "name": "stdout",
     "output_type": "stream",
     "text": [
      "4 4\n",
      "8\n",
      "5 3\n",
      "8\n",
      "0 0\n"
     ]
    }
   ],
   "source": [
    "# 1. A+B - 5\n",
    "num = list(map(int, input().split(' ')))\n",
    "while num != [0, 0] :\n",
    "    print(num[0] + num[1])\n",
    "    num = list(map(int, input().split(' ')))"
   ]
  },
  {
   "cell_type": "code",
   "execution_count": 5,
   "metadata": {},
   "outputs": [
    {
     "name": "stdout",
     "output_type": "stream",
     "text": [
      "1\n",
      "1 1\n",
      "11 1\n",
      "12 1\n",
      "23 1\n",
      "35 1\n",
      "58 1\n",
      "83 1\n",
      "31 1\n",
      "14 1\n",
      "45 1\n",
      "59 1\n",
      "94 1\n",
      "43 1\n",
      "37 1\n",
      "70 1\n",
      "7 1\n",
      "77 1\n",
      "74 1\n",
      "41 1\n",
      "15 1\n",
      "56 1\n",
      "61 1\n",
      "17 1\n",
      "78 1\n",
      "85 1\n",
      "53 1\n",
      "38 1\n",
      "81 1\n",
      "19 1\n",
      "90 1\n",
      "9 1\n",
      "99 1\n",
      "98 1\n",
      "87 1\n",
      "75 1\n",
      "52 1\n",
      "27 1\n",
      "79 1\n",
      "96 1\n",
      "65 1\n",
      "51 1\n",
      "16 1\n",
      "67 1\n",
      "73 1\n",
      "30 1\n",
      "3 1\n",
      "33 1\n",
      "36 1\n",
      "69 1\n",
      "95 1\n",
      "54 1\n",
      "49 1\n",
      "93 1\n",
      "32 1\n",
      "25 1\n",
      "57 1\n",
      "72 1\n",
      "29 1\n",
      "91 1\n",
      "10 1\n",
      "60\n"
     ]
    }
   ],
   "source": [
    "# 3 더하기 사이클\n",
    "target = int(input())\n",
    "num = target\n",
    "res = 0\n",
    "while True:\n",
    "    res += 1\n",
    "    dec = int(num / 10)\n",
    "    one = num % 10\n",
    "    new_one = (dec + one) % 10\n",
    "    new_dec = one * 10\n",
    "    num = new_dec + new_one\n",
    "    if num == target or res > 70:\n",
    "        break\n",
    "print(res)"
   ]
  },
  {
   "cell_type": "code",
   "execution_count": null,
   "metadata": {},
   "outputs": [],
   "source": []
  }
 ],
 "metadata": {
  "kernelspec": {
   "display_name": "Python 3",
   "language": "python",
   "name": "python3"
  },
  "language_info": {
   "codemirror_mode": {
    "name": "ipython",
    "version": 3
   },
   "file_extension": ".py",
   "mimetype": "text/x-python",
   "name": "python",
   "nbconvert_exporter": "python",
   "pygments_lexer": "ipython3",
   "version": "3.7.4"
  }
 },
 "nbformat": 4,
 "nbformat_minor": 2
}
