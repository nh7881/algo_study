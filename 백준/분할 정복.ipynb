{
 "cells": [
  {
   "cell_type": "markdown",
   "metadata": {},
   "source": [
    "### 분할 정복"
   ]
  },
  {
   "cell_type": "code",
   "execution_count": 10,
   "metadata": {},
   "outputs": [
    {
     "name": "stdout",
     "output_type": "stream",
     "text": [
      "8\n",
      "1 1 0 0 0 0 1 1\n",
      "s\n"
     ]
    },
    {
     "ename": "ValueError",
     "evalue": "invalid literal for int() with base 10: 's'",
     "output_type": "error",
     "traceback": [
      "\u001b[1;31m---------------------------------------------------------------------------\u001b[0m",
      "\u001b[1;31mValueError\u001b[0m                                Traceback (most recent call last)",
      "\u001b[1;32m<ipython-input-10-83fc85881f7f>\u001b[0m in \u001b[0;36m<module>\u001b[1;34m\u001b[0m\n\u001b[0;32m     18\u001b[0m \u001b[0mboard\u001b[0m \u001b[1;33m=\u001b[0m \u001b[1;33m[\u001b[0m\u001b[1;33m]\u001b[0m\u001b[1;33m\u001b[0m\u001b[1;33m\u001b[0m\u001b[0m\n\u001b[0;32m     19\u001b[0m \u001b[1;32mfor\u001b[0m \u001b[0mrow\u001b[0m \u001b[1;32min\u001b[0m \u001b[0mrange\u001b[0m\u001b[1;33m(\u001b[0m\u001b[0mint\u001b[0m\u001b[1;33m(\u001b[0m\u001b[0minput\u001b[0m\u001b[1;33m(\u001b[0m\u001b[1;33m)\u001b[0m\u001b[1;33m)\u001b[0m\u001b[1;33m)\u001b[0m \u001b[1;33m:\u001b[0m\u001b[1;33m\u001b[0m\u001b[1;33m\u001b[0m\u001b[0m\n\u001b[1;32m---> 20\u001b[1;33m     \u001b[0mboard\u001b[0m\u001b[1;33m.\u001b[0m\u001b[0mappend\u001b[0m\u001b[1;33m(\u001b[0m\u001b[0mlist\u001b[0m\u001b[1;33m(\u001b[0m\u001b[0mmap\u001b[0m\u001b[1;33m(\u001b[0m\u001b[0mint\u001b[0m\u001b[1;33m,\u001b[0m \u001b[0minput\u001b[0m\u001b[1;33m(\u001b[0m\u001b[1;33m)\u001b[0m\u001b[1;33m.\u001b[0m\u001b[0msplit\u001b[0m\u001b[1;33m(\u001b[0m\u001b[1;33m)\u001b[0m\u001b[1;33m)\u001b[0m\u001b[1;33m)\u001b[0m\u001b[1;33m)\u001b[0m\u001b[1;33m\u001b[0m\u001b[1;33m\u001b[0m\u001b[0m\n\u001b[0m\u001b[0;32m     21\u001b[0m \u001b[0mstart_row\u001b[0m \u001b[1;33m=\u001b[0m \u001b[1;36m0\u001b[0m\u001b[1;33m\u001b[0m\u001b[1;33m\u001b[0m\u001b[0m\n\u001b[0;32m     22\u001b[0m \u001b[0mstart_col\u001b[0m \u001b[1;33m=\u001b[0m \u001b[1;36m0\u001b[0m\u001b[1;33m\u001b[0m\u001b[1;33m\u001b[0m\u001b[0m\n",
      "\u001b[1;31mValueError\u001b[0m: invalid literal for int() with base 10: 's'"
     ]
    }
   ],
   "source": [
    "# 1. 색종이 만들기\n",
    "def paper(board, start_row, end_row, start_col, end_col) :\n",
    "    target = board[start_row][start_col]\n",
    "    ret = [0, 0]\n",
    "    for row in range(start_row, end_row) :\n",
    "        for col in range(start_col, end_col) :\n",
    "            if board[row][col] != target :\n",
    "                mid_row = int((start_row + end_row) / 2)\n",
    "                mid_col = int((start_col + end_col) / 2)\n",
    "                ret1 = paper(board, start_row, mid_row, start_col, mid_col)\n",
    "                ret2 = paper(board, start_row, mid_row, mid_col, end_col)\n",
    "                ret3 = paper(board, mid_row, end_row, start_col, mid_col)\n",
    "                ret4 = paper(board, mid_row, end_row, mid_col, end_col)\n",
    "                ret = [ret1[0] + ret2[0] + ret3[0] + ret4[0], ret1[1] + ret2[1] + ret3[1] + ret4[1]]\n",
    "                return ret\n",
    "    ret[target] += 1\n",
    "    return ret\n",
    "board = []\n",
    "for row in range(int(input())) :\n",
    "    board.append(list(map(int, input().split())))\n",
    "start_row = 0\n",
    "start_col = 0\n",
    "end_row = len(board)\n",
    "end_col = len(board[0])\n",
    "res = paper(board, start_row, end_row, start_col, end_col)\n",
    "print(res[0])\n",
    "print(res[1])"
   ]
  },
  {
   "cell_type": "code",
   "execution_count": 19,
   "metadata": {},
   "outputs": [
    {
     "name": "stdout",
     "output_type": "stream",
     "text": [
      "s\n"
     ]
    },
    {
     "ename": "ValueError",
     "evalue": "invalid literal for int() with base 10: 's'",
     "output_type": "error",
     "traceback": [
      "\u001b[1;31m---------------------------------------------------------------------------\u001b[0m",
      "\u001b[1;31mValueError\u001b[0m                                Traceback (most recent call last)",
      "\u001b[1;32m<ipython-input-19-f2eb9de9b5ac>\u001b[0m in \u001b[0;36m<module>\u001b[1;34m\u001b[0m\n\u001b[0;32m     19\u001b[0m     \u001b[1;32mreturn\u001b[0m \u001b[0mret\u001b[0m\u001b[1;33m\u001b[0m\u001b[1;33m\u001b[0m\u001b[0m\n\u001b[0;32m     20\u001b[0m \u001b[0mboard\u001b[0m \u001b[1;33m=\u001b[0m \u001b[1;33m[\u001b[0m\u001b[1;33m]\u001b[0m\u001b[1;33m\u001b[0m\u001b[1;33m\u001b[0m\u001b[0m\n\u001b[1;32m---> 21\u001b[1;33m \u001b[1;32mfor\u001b[0m \u001b[0mrow\u001b[0m \u001b[1;32min\u001b[0m \u001b[0mrange\u001b[0m\u001b[1;33m(\u001b[0m\u001b[0mint\u001b[0m\u001b[1;33m(\u001b[0m\u001b[0minput\u001b[0m\u001b[1;33m(\u001b[0m\u001b[1;33m)\u001b[0m\u001b[1;33m)\u001b[0m\u001b[1;33m)\u001b[0m \u001b[1;33m:\u001b[0m\u001b[1;33m\u001b[0m\u001b[1;33m\u001b[0m\u001b[0m\n\u001b[0m\u001b[0;32m     22\u001b[0m     \u001b[0mboard\u001b[0m\u001b[1;33m.\u001b[0m\u001b[0mappend\u001b[0m\u001b[1;33m(\u001b[0m\u001b[1;33m[\u001b[0m\u001b[1;33m]\u001b[0m\u001b[1;33m)\u001b[0m\u001b[1;33m\u001b[0m\u001b[1;33m\u001b[0m\u001b[0m\n\u001b[0;32m     23\u001b[0m     \u001b[1;32mfor\u001b[0m \u001b[0mval\u001b[0m \u001b[1;32min\u001b[0m \u001b[0minput\u001b[0m\u001b[1;33m(\u001b[0m\u001b[1;33m)\u001b[0m \u001b[1;33m:\u001b[0m\u001b[1;33m\u001b[0m\u001b[1;33m\u001b[0m\u001b[0m\n",
      "\u001b[1;31mValueError\u001b[0m: invalid literal for int() with base 10: 's'"
     ]
    }
   ],
   "source": [
    "# 2. 쿼드 트리\n",
    "def paper(board, start_row, end_row, start_col, end_col) :\n",
    "    target = board[start_row][start_col]\n",
    "    ret = [0, 0]\n",
    "    for row in range(start_row, end_row) :\n",
    "        for col in range(start_col, end_col) :\n",
    "            if board[row][col] != target :\n",
    "                mid_row = int((start_row + end_row) / 2)\n",
    "                mid_col = int((start_col + end_col) / 2)\n",
    "                ret1 = paper(board, start_row, mid_row, start_col, mid_col)\n",
    "                ret2 = paper(board, start_row, mid_row, mid_col, end_col)\n",
    "                ret3 = paper(board, mid_row, end_row, start_col, mid_col)\n",
    "                ret4 = paper(board, mid_row, end_row, mid_col, end_col)\n",
    "                ret = '(' + ret1 + ret2 + ret3 + ret4 + ')'\n",
    "                return ret\n",
    "    ret = target\n",
    "    return ret\n",
    "board = []\n",
    "for row in range(int(input())) :\n",
    "    board.append([])\n",
    "    for val in input() :\n",
    "        board[row].append(val)\n",
    "start_row = 0\n",
    "start_col = 0\n",
    "end_row = len(board)\n",
    "end_col = len(board[0])\n",
    "res = paper(board, start_row, end_row, start_col, end_col)\n",
    "print(res)"
   ]
  },
  {
   "cell_type": "code",
   "execution_count": 28,
   "metadata": {},
   "outputs": [
    {
     "name": "stdout",
     "output_type": "stream",
     "text": [
      "10\n",
      "12\n",
      "11\n"
     ]
    }
   ],
   "source": [
    "# 3. 종이의 개수\n",
    "def paper(board, start_row, end_row, start_col, end_col) :\n",
    "    target = board[start_row][start_col]\n",
    "    ret = [0, 0, 0]\n",
    "    for row in range(start_row, end_row) :\n",
    "        for col in range(start_col, end_col) :\n",
    "            if board[row][col] != target :\n",
    "                dy = int((end_row - start_row) / 3)\n",
    "                dx = int((end_col - start_col) / 3)\n",
    "                rows = [start_row, start_row + dy, start_row + dy * 2, end_row]\n",
    "                cols = [start_col, start_col + dx, start_col + dx * 2, end_col]\n",
    "                for row_index in range(len(rows) - 1) :\n",
    "                    for col_index in range(len(cols) - 1) :\n",
    "                        index = 0\n",
    "                        rets = paper(board, rows[row_index], rows[row_index + 1], cols[col_index], cols[col_index + 1])\n",
    "                        for val in rets :\n",
    "                            ret[index] += val\n",
    "                            index += 1\n",
    "                return ret\n",
    "    ret[target + 1] += 1\n",
    "    return ret\n",
    "board = []\n",
    "for row in range(int(input())) :\n",
    "    board.append(list(map(int, input().split())))\n",
    "start_row = 0\n",
    "start_col = 0\n",
    "end_row = len(board)\n",
    "end_col = len(board[0])\n",
    "res = paper(board, start_row, end_row, start_col, end_col)\n",
    "print(res[0])\n",
    "print(res[1])\n",
    "print(res[2])"
   ]
  },
  {
   "cell_type": "code",
   "execution_count": 31,
   "metadata": {},
   "outputs": [
    {
     "name": "stdout",
     "output_type": "stream",
     "text": [
      "10 11 12\n",
      "4\n"
     ]
    }
   ],
   "source": [
    "# 4. 곱셈\n",
    "def multi(a, b, c) :\n",
    "    if b == 1:\n",
    "        return a % c\n",
    "    return ((multi(a, int(b / 2), c) ** 2) * a ** (b % 2)) % c\n",
    "a,b,c = map(int, input().split())\n",
    "print(multi(a,b,c))"
   ]
  },
  {
   "cell_type": "code",
   "execution_count": 20,
   "metadata": {},
   "outputs": [
    {
     "name": "stdout",
     "output_type": "stream",
     "text": [
      "358633491\n"
     ]
    }
   ],
   "source": [
    "# 5. 이항 계수\n",
    "def bi_cof(cache, n, k) :\n",
    "    if n == 1 or k == 0 or k == n:\n",
    "        return 1\n",
    "    if k > n :\n",
    "        return 0\n",
    "    key = ' '.join([str(n), str(k)])\n",
    "    another = ' '.join([str(n), str(n - k)])\n",
    "    if cache.setdefault(key, -1) != -1:\n",
    "        return cache[key]\n",
    "    n = n -1\n",
    "    other_k = k -1\n",
    "    ret = bi_cof(cache, n, k) + bi_cof(cache, n, other_k)\n",
    "    ret = ret % 1000000007\n",
    "    cache[key] = ret\n",
    "    cache[another] = ret\n",
    "    return ret\n",
    "cache = {}\n",
    "res = bi_cof(cache, 1000,800)\n",
    "print(res)"
   ]
  },
  {
   "cell_type": "code",
   "execution_count": 11,
   "metadata": {},
   "outputs": [
    {
     "name": "stdout",
     "output_type": "stream",
     "text": [
      "1\n"
     ]
    }
   ],
   "source": [
    "a = {}\n",
    "a['key'] = 1\n",
    "a.setdefault('key', -1)\n",
    "print(a['key'])"
   ]
  }
 ],
 "metadata": {
  "kernelspec": {
   "display_name": "Python 3",
   "language": "python",
   "name": "python3"
  },
  "language_info": {
   "codemirror_mode": {
    "name": "ipython",
    "version": 3
   },
   "file_extension": ".py",
   "mimetype": "text/x-python",
   "name": "python",
   "nbconvert_exporter": "python",
   "pygments_lexer": "ipython3",
   "version": "3.7.4"
  }
 },
 "nbformat": 4,
 "nbformat_minor": 2
}
